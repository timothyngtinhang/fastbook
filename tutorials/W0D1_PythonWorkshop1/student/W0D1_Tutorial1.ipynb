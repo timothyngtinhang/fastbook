{
  "cells": [
    {
      "cell_type": "markdown",
      "metadata": {
        "id": "view-in-github",
        "colab_type": "text"
      },
      "source": [
        "<a href=\"https://colab.research.google.com/github/timothyngtinhang/fastbook/blob/master/tutorials/W0D1_PythonWorkshop1/student/W0D1_Tutorial1.ipynb\" target=\"_parent\"><img src=\"https://colab.research.google.com/assets/colab-badge.svg\" alt=\"Open In Colab\"/></a>"
      ]
    },
    {
      "cell_type": "markdown",
      "metadata": {
        "execution": {},
        "id": "68o8oNCtjMZA"
      },
      "source": [
        "# Tutorial: LIF Neuron Part I\n",
        "\n",
        "**Week 0, Day 1: Python Workshop 1**\n",
        "\n",
        "**By Neuromatch Academy**\n",
        "\n",
        "__Content creators:__ Marco Brigham and the [CCNSS](https://www.ccnss.org/) team\n",
        "\n",
        "__Content reviewers:__ Michael Waskom, Karolina Stosio, Spiros Chavlis\n",
        "\n",
        "__Production editors:__ Ella Batty, Spiros Chavlis\n"
      ]
    },
    {
      "cell_type": "markdown",
      "metadata": {
        "execution": {},
        "id": "D02pbfZ0jMZC"
      },
      "source": [
        "---\n",
        "# Tutorial objectives\n",
        "\n",
        "During NMA, you will be using code to learn computational neuroscience in an interactive (and hopefully fun) way. This tutorial and the next are to help you get up to speed on Python before the course, so that during the course you can focus on the computational neuroscience concepts.\n",
        "\n",
        "\n",
        "In this notebook, we'll practice basic operations with Python variables, control flow, plotting, and take a sneak peek at `np.array`, the workhorse of scientific computation in Python.\n",
        "\n",
        "Each new concept in Python will unlock a different aspect of our implementation of a **Leaky Integrate-and-Fire (LIF)** neuron. And as if it couldn't get any better, we'll visualize the evolution of its membrane potential in time, and extract its statistical properties!\n"
      ]
    },
    {
      "cell_type": "markdown",
      "metadata": {
        "execution": {},
        "id": "1JkRvi5MjMZD"
      },
      "source": [
        "---\n",
        "# Setup\n",
        "\n",
        "Please execute the cell(s) below to initialize the notebook environment."
      ]
    },
    {
      "cell_type": "code",
      "execution_count": 1,
      "metadata": {
        "cellView": "form",
        "execution": {},
        "id": "JZjze5VcjMZD",
        "outputId": "9731590b-5206-4767-f524-9e152af45ed9",
        "colab": {
          "base_uri": "https://localhost:8080/"
        }
      },
      "outputs": [
        {
          "output_type": "stream",
          "name": "stdout",
          "text": [
            "  Preparing metadata (setup.py) ... \u001b[?25l\u001b[?25hdone\n",
            "  Preparing metadata (setup.py) ... \u001b[?25l\u001b[?25hdone\n",
            "\u001b[2K   \u001b[90m━━━━━━━━━━━━━━━━━━━━━━━━━━━━━━━━━━━━━━━━\u001b[0m \u001b[32m1.6/1.6 MB\u001b[0m \u001b[31m14.2 MB/s\u001b[0m eta \u001b[36m0:00:00\u001b[0m\n",
            "\u001b[?25h  Building wheel for vibecheck (setup.py) ... \u001b[?25l\u001b[?25hdone\n",
            "  Building wheel for datatops (setup.py) ... \u001b[?25l\u001b[?25hdone\n"
          ]
        }
      ],
      "source": [
        "# @title Install and import feedback gadget\n",
        "\n",
        "!pip3 install vibecheck datatops --quiet\n",
        "\n",
        "from vibecheck import DatatopsContentReviewContainer\n",
        "def content_review(notebook_section: str):\n",
        "    return DatatopsContentReviewContainer(\n",
        "        \"\",  # No text prompt\n",
        "        notebook_section,\n",
        "        {\n",
        "            \"url\": \"https://pmyvdlilci.execute-api.us-east-1.amazonaws.com/klab\",\n",
        "            \"name\": \"neuromatch-precourse\",\n",
        "            \"user_key\": \"8zxfvwxw\",\n",
        "        },\n",
        "    ).render()\n",
        "\n",
        "\n",
        "feedback_prefix = \"W0D1_T1\""
      ]
    },
    {
      "cell_type": "code",
      "execution_count": 2,
      "metadata": {
        "cellView": "both",
        "execution": {},
        "id": "jSZi3XUsjMZE"
      },
      "outputs": [],
      "source": [
        "# Imports\n",
        "import numpy as np\n",
        "import matplotlib.pyplot as plt"
      ]
    },
    {
      "cell_type": "code",
      "execution_count": 3,
      "metadata": {
        "cellView": "form",
        "execution": {},
        "id": "HLq3NeR_jMZE"
      },
      "outputs": [],
      "source": [
        "# @title Figure settings\n",
        "import logging\n",
        "logging.getLogger('matplotlib.font_manager').disabled = True\n",
        "import ipywidgets as widgets  # interactive display\n",
        "%config InlineBackend.figure_format = 'retina'\n",
        "plt.style.use(\"https://raw.githubusercontent.com/NeuromatchAcademy/course-content/master/nma.mplstyle\")"
      ]
    },
    {
      "cell_type": "markdown",
      "metadata": {
        "execution": {},
        "id": "1OLbHEsGjMZF"
      },
      "source": [
        "---\n",
        "# Section 1: Python basics & the LIF model"
      ]
    },
    {
      "cell_type": "code",
      "execution_count": 4,
      "metadata": {
        "cellView": "form",
        "execution": {},
        "id": "DPJypY9DjMZF",
        "outputId": "fee8c3eb-7777-4266-c5fe-c5de9d1e647e",
        "colab": {
          "base_uri": "https://localhost:8080/",
          "height": 581,
          "referenced_widgets": [
            "2fa0eaf948c7495c9fae0aacdab24ad7",
            "fd84c99693f44d99987fe0825960e20a",
            "52b6b7b5bd5540b68f28b28a4a66d06c",
            "076d01987f734770b6297663a1ca42bb",
            "d4d6ad499e4d44c6ac9e7dde0407d37e",
            "e22a2b26cc324bdd83683f8a36aed194"
          ]
        }
      },
      "outputs": [
        {
          "output_type": "display_data",
          "data": {
            "text/plain": [
              "Tab(children=(Output(), Output()), _titles={'0': 'Youtube', '1': 'Bilibili'})"
            ],
            "application/vnd.jupyter.widget-view+json": {
              "version_major": 2,
              "version_minor": 0,
              "model_id": "2fa0eaf948c7495c9fae0aacdab24ad7"
            }
          },
          "metadata": {}
        }
      ],
      "source": [
        "# @title Video 1: Python basics & the LIF model\n",
        "from ipywidgets import widgets\n",
        "from IPython.display import YouTubeVideo\n",
        "from IPython.display import IFrame\n",
        "from IPython.display import display\n",
        "\n",
        "\n",
        "class PlayVideo(IFrame):\n",
        "  def __init__(self, id, source, page=1, width=400, height=300, **kwargs):\n",
        "    self.id = id\n",
        "    if source == 'Bilibili':\n",
        "      src = f'https://player.bilibili.com/player.html?bvid={id}&page={page}'\n",
        "    elif source == 'Osf':\n",
        "      src = f'https://mfr.ca-1.osf.io/render?url=https://osf.io/download/{id}/?direct%26mode=render'\n",
        "    super(PlayVideo, self).__init__(src, width, height, **kwargs)\n",
        "\n",
        "\n",
        "def display_videos(video_ids, W=400, H=300, fs=1):\n",
        "  tab_contents = []\n",
        "  for i, video_id in enumerate(video_ids):\n",
        "    out = widgets.Output()\n",
        "    with out:\n",
        "      if video_ids[i][0] == 'Youtube':\n",
        "        video = YouTubeVideo(id=video_ids[i][1], width=W,\n",
        "                             height=H, fs=fs, rel=0)\n",
        "        print(f'Video available at https://youtube.com/watch?v={video.id}')\n",
        "      else:\n",
        "        video = PlayVideo(id=video_ids[i][1], source=video_ids[i][0], width=W,\n",
        "                          height=H, fs=fs, autoplay=False)\n",
        "        if video_ids[i][0] == 'Bilibili':\n",
        "          print(f'Video available at https://www.bilibili.com/video/{video.id}')\n",
        "        elif video_ids[i][0] == 'Osf':\n",
        "          print(f'Video available at https://osf.io/{video.id}')\n",
        "      display(video)\n",
        "    tab_contents.append(out)\n",
        "  return tab_contents\n",
        "\n",
        "\n",
        "video_ids = [('Youtube', 'Bwm6rjRpVw8'), ('Bilibili', 'BV1vV41167T1')]\n",
        "tab_contents = display_videos(video_ids, W=854, H=480)\n",
        "tabs = widgets.Tab()\n",
        "tabs.children = tab_contents\n",
        "for i in range(len(tab_contents)):\n",
        "  tabs.set_title(i, video_ids[i][0])\n",
        "display(tabs)"
      ]
    },
    {
      "cell_type": "code",
      "execution_count": 5,
      "metadata": {
        "cellView": "form",
        "execution": {},
        "id": "mqQeOHVgjMZG",
        "outputId": "69b48e27-5b7b-490e-dd8e-0f4886bca049",
        "colab": {
          "base_uri": "https://localhost:8080/",
          "height": 62,
          "referenced_widgets": [
            "3e3fbc1dd5904ce19ae7a14db58da477",
            "54778e875f8e4f1fb09b372cdfdb5dd0",
            "b8179878e90a45dfb760c8bec29004f9",
            "573e48f4629f40fe88996836c8d80dbf",
            "0290fb47007c4408bc37a0402a989428",
            "16079650889e4635b0291269bdb992aa",
            "919d90ba11b6414eb766e6aab3d092f0",
            "0a377dc5177740f981d186dcd85b45ae",
            "a766fdf42d3243a8a5a0c694d74ce408",
            "3f07072d3693490fad1a71e450e116af",
            "7afb51d58cce47d3866c357eddda16be",
            "1b452978d0c940fc85db1eca7537f76a",
            "6799c857502b4ba1b2607503db4e1c7f",
            "2539f68281094c4ca35d848623072caf",
            "bfd2784a60564b1a963948ec825df1b6",
            "8b193ee512f1427e91c28b76b629a2e5",
            "ffaa5a88b7dc4bf4844cb001559d7c85",
            "43173e2e1aeb4d66adc0c21caa062d8d",
            "75ec97ccbf1c4b60a7b74a96ab4e4d5e",
            "4de4c6073df74cb0aaf75c09162d88a4",
            "1281c3875af246f6a57041fa6b625324",
            "2ed0427bcafe46a89e31aa70e462c0ce",
            "98d3f33d85e74abb9fac17826e60fd01",
            "b0c7efe2542a4224a70158063e61823f",
            "d1fc0d973b0e442fbeeae11c017fc9fa",
            "01520e5b430a4ae2b66c4d5d537c4598"
          ]
        }
      },
      "outputs": [
        {
          "output_type": "display_data",
          "data": {
            "text/plain": [
              "VBox(children=(VBox(children=(HBox(children=(Button(description='🙂', layout=Layout(height='auto', padding='0.5…"
            ],
            "application/vnd.jupyter.widget-view+json": {
              "version_major": 2,
              "version_minor": 0,
              "model_id": "3e3fbc1dd5904ce19ae7a14db58da477"
            }
          },
          "metadata": {}
        }
      ],
      "source": [
        "# @title Submit your feedback\n",
        "content_review(f\"{feedback_prefix}_Python_basics_and_the_LIF_model_Video\")"
      ]
    },
    {
      "cell_type": "markdown",
      "metadata": {
        "execution": {},
        "id": "Ebs4bWbxjMZH"
      },
      "source": [
        "## Section 1.1: The LIF Model"
      ]
    },
    {
      "cell_type": "markdown",
      "metadata": {
        "execution": {},
        "id": "lIni1kCJjMZH"
      },
      "source": [
        "A *membrane equation* and a *reset condition* define our *leaky-integrate-and-fire (LIF)* neuron:\n",
        "\n",
        "\\begin{align}\n",
        "\\tau_m\\,\\frac{d}{dt}\\,V(t) &= E_{L} - V(t) + R\\,I(t) &\\text{if }\\quad V(t) \\leq V_{th} \\\\ \\\\\n",
        "V(t) &= V_{reset} &\\text{otherwise}\n",
        "\\end{align}\n",
        "\n",
        "<br>\n",
        "where $V(t)$ is the membrane potential, $\\tau_m$ is the membrane time constant, $E_{L}$ is the leak potential, $R$ is the membrane resistance, $I(t)$ is the synaptic input current, $V_{th}$ is the firing threshold, and $V_{reset}$ is the reset voltage. We can also write $V_m$ for membrane potential, which is more convenient for plot labels.\n",
        "\n",
        "The membrane equation describes the time evolution of membrane potential $V(t)$ in response to synaptic input and leaking of charge across the cell membrane. This is an *ordinary differential equation (ODE)*, a concept we will learn more about in future days.\n",
        "\n",
        "**Note that, in this tutorial the neuron model will not implement a spiking mechanism.**"
      ]
    },
    {
      "cell_type": "markdown",
      "metadata": {
        "execution": {},
        "id": "Qs2vIK2xjMZH"
      },
      "source": [
        "## Section 1.2: Comments in code"
      ]
    },
    {
      "cell_type": "code",
      "execution_count": 6,
      "metadata": {
        "cellView": "form",
        "execution": {},
        "id": "5qftsI1-jMZI",
        "outputId": "59ecf4b9-9e48-4bd4-e005-175074aa01ff",
        "colab": {
          "base_uri": "https://localhost:8080/",
          "height": 581,
          "referenced_widgets": [
            "053dd1c17e7f4881b2c71427086650e6",
            "5d2b0eba7e3a4b2da3a8a313b26e6ac5",
            "ce0504128f64438e93175bcb6fc72f79",
            "a334b085fd9d47a19e96fc70f7e9e9e0",
            "72bc9237ab92489ab32369a1e870c51e",
            "f744f9f14e1b47b38d415ae6351e8bf4"
          ]
        }
      },
      "outputs": [
        {
          "output_type": "display_data",
          "data": {
            "text/plain": [
              "Tab(children=(Output(), Output()), _titles={'0': 'Youtube', '1': 'Bilibili'})"
            ],
            "application/vnd.jupyter.widget-view+json": {
              "version_major": 2,
              "version_minor": 0,
              "model_id": "053dd1c17e7f4881b2c71427086650e6"
            }
          },
          "metadata": {}
        }
      ],
      "source": [
        "# @title Video 2: Nano recap of comments and strings\n",
        "from ipywidgets import widgets\n",
        "from IPython.display import YouTubeVideo\n",
        "from IPython.display import IFrame\n",
        "from IPython.display import display\n",
        "\n",
        "\n",
        "class PlayVideo(IFrame):\n",
        "  def __init__(self, id, source, page=1, width=400, height=300, **kwargs):\n",
        "    self.id = id\n",
        "    if source == 'Bilibili':\n",
        "      src = f'https://player.bilibili.com/player.html?bvid={id}&page={page}'\n",
        "    elif source == 'Osf':\n",
        "      src = f'https://mfr.ca-1.osf.io/render?url=https://osf.io/download/{id}/?direct%26mode=render'\n",
        "    super(PlayVideo, self).__init__(src, width, height, **kwargs)\n",
        "\n",
        "\n",
        "def display_videos(video_ids, W=400, H=300, fs=1):\n",
        "  tab_contents = []\n",
        "  for i, video_id in enumerate(video_ids):\n",
        "    out = widgets.Output()\n",
        "    with out:\n",
        "      if video_ids[i][0] == 'Youtube':\n",
        "        video = YouTubeVideo(id=video_ids[i][1], width=W,\n",
        "                             height=H, fs=fs, rel=0)\n",
        "        print(f'Video available at https://youtube.com/watch?v={video.id}')\n",
        "      else:\n",
        "        video = PlayVideo(id=video_ids[i][1], source=video_ids[i][0], width=W,\n",
        "                          height=H, fs=fs, autoplay=False)\n",
        "        if video_ids[i][0] == 'Bilibili':\n",
        "          print(f'Video available at https://www.bilibili.com/video/{video.id}')\n",
        "        elif video_ids[i][0] == 'Osf':\n",
        "          print(f'Video available at https://osf.io/{video.id}')\n",
        "      display(video)\n",
        "    tab_contents.append(out)\n",
        "  return tab_contents\n",
        "\n",
        "\n",
        "video_ids = [('Youtube', 'UP8rD2AwceM'), ('Bilibili', 'BV1fg4y1v7P3')]\n",
        "tab_contents = display_videos(video_ids, W=854, H=480)\n",
        "tabs = widgets.Tab()\n",
        "tabs.children = tab_contents\n",
        "for i in range(len(tab_contents)):\n",
        "  tabs.set_title(i, video_ids[i][0])\n",
        "display(tabs)"
      ]
    },
    {
      "cell_type": "code",
      "execution_count": 7,
      "metadata": {
        "cellView": "form",
        "execution": {},
        "id": "OEIElyq9jMZI",
        "outputId": "06eb7788-74dd-4ec8-d88f-7607c63125cc",
        "colab": {
          "base_uri": "https://localhost:8080/",
          "height": 62,
          "referenced_widgets": [
            "84d09020a7c548ee96a7990c01d477e7",
            "2b42197ceb78401ebbf9d95eb18dae3f",
            "9c6b4986571c41e09acf92d8269a2707",
            "308d10ccab16488687239d38f437ce5a",
            "8090adeaf55f4781b8e5aa7985615532",
            "ada9bc83d7f34a0494bffa2adc1b5f85",
            "9127f1b92f9a428c9d6e8aafbfd17527",
            "aa0128f41995452fa34982a57534c41a",
            "f8b5d7aa93464ef681a7c282aead7182",
            "0fb356af82624256ba3c5fd4ff15a458",
            "2495435b565348db9c13509ed9a6193f",
            "9aa014c42e57473f8238763f4e7f3ec0",
            "b106a89c8602420e93632daf2a64a0de",
            "98f9ccdcea8b43999ddaec252273d2a0",
            "f3377d8bdc214a24a7eeecb7d591a8de",
            "583a653c7c844befa5b67a542add4103",
            "c86115124aaf414999d16fa1f65a911e",
            "77a2b41faf554153864b7c1e711740d8",
            "cb7f223c0e604c68943383c1f0c92756",
            "defd99e6f82c4808b549d872a12b62a9",
            "cfc9617de7874530951dd67ac3d7c089",
            "c3ffe4e2ca47452ca2ea6fe3b4201849",
            "2d9402c5594047a2a6d03c38a8d46254",
            "b70f780a9d1a456f877d6a379fffde91",
            "6c0377eda67a445bb69d5bda3c3a0697",
            "cfb5341a7726410a8e0ac5a4748757b9"
          ]
        }
      },
      "outputs": [
        {
          "output_type": "display_data",
          "data": {
            "text/plain": [
              "VBox(children=(VBox(children=(HBox(children=(Button(description='🙂', layout=Layout(height='auto', padding='0.5…"
            ],
            "application/vnd.jupyter.widget-view+json": {
              "version_major": 2,
              "version_minor": 0,
              "model_id": "84d09020a7c548ee96a7990c01d477e7"
            }
          },
          "metadata": {}
        }
      ],
      "source": [
        "# @title Submit your feedback\n",
        "content_review(f\"{feedback_prefix}_Nano_recap_of_comments_and_strings_Video\")"
      ]
    },
    {
      "cell_type": "markdown",
      "metadata": {
        "execution": {},
        "id": "HPNVnG7gjMZI"
      },
      "source": [
        "### Coding Exercise 1: Defining parameters\n",
        "We start by defining and initializing the main simulation variables for our LIF neuron.\n",
        "\n",
        "In the code cell below, please modify the code to print the simulation parameters."
      ]
    },
    {
      "cell_type": "code",
      "execution_count": 12,
      "metadata": {
        "execution": {},
        "id": "q3ixfxMAjMZI",
        "outputId": "ddc8ff29-4453-4134-ecb4-1ad42d5c4365",
        "colab": {
          "base_uri": "https://localhost:8080/"
        }
      },
      "outputs": [
        {
          "output_type": "stream",
          "name": "stdout",
          "text": [
            "0.15 0.001 0.02 -0.06 -0.07 -0.05 100000000.0 2.5e-10\n"
          ]
        }
      ],
      "source": [
        "t_max = 150e-3   # second\n",
        "dt = 1e-3        # second\n",
        "tau = 20e-3      # second\n",
        "el = -60e-3      # milivolt\n",
        "vr = -70e-3      # milivolt\n",
        "vth = -50e-3     # milivolt\n",
        "r = 100e6        # ohm\n",
        "i_mean = 25e-11  # ampere\n",
        "\n",
        "print(t_max, dt, tau, el, vr, vth, r, i_mean)"
      ]
    },
    {
      "cell_type": "markdown",
      "metadata": {
        "execution": {},
        "id": "DZvvEzesjMZJ"
      },
      "source": [
        "**SAMPLE OUTPUT**\n",
        "\n",
        "```\n",
        "0.15 0.001 0.02 -0.06 -0.07 -0.05 100000000.0 2.5e-10\n",
        "```"
      ]
    },
    {
      "cell_type": "markdown",
      "metadata": {
        "cellView": "code",
        "execution": {},
        "id": "iFQ95cjwjMZJ"
      },
      "source": [
        "[*Click for solution*](https://github.com/NeuromatchAcademy/precourse/tree/main/tutorials/W0D1_PythonWorkshop1/solutions/W0D1_Tutorial1_Solution_4adeccd3.py)\n",
        "\n"
      ]
    },
    {
      "cell_type": "code",
      "execution_count": 13,
      "metadata": {
        "cellView": "form",
        "execution": {},
        "id": "M7Iecdw7jMZJ",
        "outputId": "e438212c-4ec2-4a16-bd1e-d8c5306938ba",
        "colab": {
          "base_uri": "https://localhost:8080/",
          "height": 62,
          "referenced_widgets": [
            "150f501d31154afcaa41428656e8ed28",
            "88bb9f726539403e9da5951f9fd78ccb",
            "996353d2f9144ff1b476f9c8ead82ffa",
            "9dacf34a6bbf496a9d685be1c5d16f07",
            "37bf46787ce14feeb52f0a0bcbd01447",
            "ba3655a109ec41939c2ed0f4ba7970d0",
            "7cc96957bff1465d9e3c434c07df667e",
            "e7035d2f8c86463eb801a92de83f91a5",
            "1969b09d98a147709c4cd8e530c1d51f",
            "5f5b671e96d14e99ad36c5538699a072",
            "c9f1d72a0fba46db88bbbb6bd822923d",
            "4c80dd850c1a4bb8859e92d1a0d8e407",
            "de9823505eeb4ebdae8617bea8c27c43",
            "79045febd4224a7f89b4f1858f449e7e",
            "0d74c09f4a964942a25125e247e1e568",
            "0635b99ccbb5456cb56d4ff8020c76ac",
            "07b6a5d83e054b329d4f19838d8f0276",
            "e38f7f22dcac44ce8c33aa8a611af9d2",
            "7726f1780be34ee1a70345ed8b955644",
            "471960b1060a46e8b2dfb0ff4f922e49",
            "bf91aa6ff32a458eb25a7a45318a7de3",
            "19e77a9fabd94054a25cbb3996d754c8",
            "e54f0f2e2ca74ef3ab61e7a6f691ea07",
            "0aefc3c31f9f463f98e635f4092ae23b",
            "b103cb0a8e994b07afad754a656f3646",
            "837589a74e0f4062846d8f96a9b36ab0"
          ]
        }
      },
      "outputs": [
        {
          "output_type": "display_data",
          "data": {
            "text/plain": [
              "VBox(children=(VBox(children=(HBox(children=(Button(description='🙂', layout=Layout(height='auto', padding='0.5…"
            ],
            "application/vnd.jupyter.widget-view+json": {
              "version_major": 2,
              "version_minor": 0,
              "model_id": "150f501d31154afcaa41428656e8ed28"
            }
          },
          "metadata": {}
        }
      ],
      "source": [
        "# @title Submit your feedback\n",
        "content_review(f\"{feedback_prefix}_Defining_Parameters_Ecercise\")"
      ]
    },
    {
      "cell_type": "markdown",
      "metadata": {
        "execution": {},
        "id": "VMbh6D-wjMZJ"
      },
      "source": [
        "We needed to remove the #'s at the start of each line - otherwise the code is read as comments and not actually run. Sometimes when you're writing code, you may want to \"comment out\" sections of code for debugging purposes. Note that we tried to use descriptive variable names, in this case that correspond to the math notation we use. We also used comments to denote units within the code - this makes it much easier to understand!"
      ]
    },
    {
      "cell_type": "markdown",
      "metadata": {
        "execution": {},
        "id": "LVRD9oS8jMZJ"
      },
      "source": [
        "## Section 1.3: Math operations\n",
        "\n"
      ]
    },
    {
      "cell_type": "markdown",
      "metadata": {
        "execution": {},
        "id": "FTl7U9jwjMZK"
      },
      "source": [
        "### Coding Exercise 2: Simulating an input current\n",
        "![synaptic input](https://github.com/mpbrigham/colaboratory-figures/raw/master/nma/python-for-nma/synaptic_input.png)\n",
        "\n",
        "We need to simulate the synaptic input $I(t)$ that goes into our model neuron. We will start with a sinusoidal model to simulate this input (visualized above), using the equation:\n",
        "\n",
        "\\begin{equation}\n",
        "I(t)=I_{mean}\\left(1+\\sin\\left(\\frac{2 \\pi}{0.01}\\,t\\right)\\right)\n",
        "\\end{equation}\n",
        "\n",
        "where $I_{mean}$ is the mean current input and $t$ is the time.\n",
        "\n",
        "In the next cell, you will compute the values of synaptic input $I(t)$ between $t=0$ and $t=0.009$ with step $\\Delta t=0.001$.\n",
        "\n",
        "<br>\n",
        "\n",
        "**New coding concepts**:\n",
        "\n",
        "- We use a **for loop** in the code below. We will dive deeper into for loops later, but essentially for loops allow us to run the same code block multiple times. In this case, we loop over steps so the variable *step* equals something new each time. We use the following syntax:\n",
        "\n",
        "  ```python\n",
        "  for step in range(10):\n",
        "  ```\n",
        "\n",
        "  This means that `step` will take each integer value between 0 and 9.\n",
        "\n",
        "- You can use `np.pi` as the value of $\\pi$ and `np.sin(x)` to get the sine of x. These come from a package called numpy, which we'll learn about later.\n",
        "\n",
        "<br>\n",
        "\n",
        "$^{\\dagger}$Generally, the `range` python function returns a sequence of numbers, starting from 0 (by default), and increments by 1 (by default), and stops before a specified number.\n",
        "\n",
        "Syntax:\n",
        "\n",
        "```python\n",
        "range(start, stop, step)\n",
        "```\n",
        "\n",
        "Parameters:\n",
        "\n",
        "- *start*: Optional. An integer number specifying at which position to start. Default is 0\n",
        "- *stop*: Required. An integer number specifying at which position to stop (not included).\n",
        "- *step*: Optional. An integer number specifying the incrementation. Default is 1"
      ]
    },
    {
      "cell_type": "code",
      "execution_count": 14,
      "metadata": {
        "execution": {},
        "id": "bD8lGUoEjMZK",
        "outputId": "cb523979-011d-4b11-fdd3-1c42a2618f93",
        "colab": {
          "base_uri": "https://localhost:8080/"
        }
      },
      "outputs": [
        {
          "output_type": "stream",
          "name": "stdout",
          "text": [
            "2.5e-10\n",
            "3.969463130731183e-10\n",
            "4.877641290737885e-10\n",
            "4.877641290737885e-10\n",
            "3.9694631307311837e-10\n",
            "2.5000000000000007e-10\n",
            "1.0305368692688166e-10\n",
            "1.2235870926211617e-11\n",
            "1.223587092621159e-11\n",
            "1.0305368692688186e-10\n"
          ]
        }
      ],
      "source": [
        "# Loop for 10 steps, variable 'step' takes values from 0 to 9\n",
        "for step in range(10):\n",
        "\n",
        "  # Compute value of t\n",
        "  t = step * dt\n",
        "\n",
        "  # Compute value of i at this time step\n",
        "  i = i_mean * (1 + np.sin(2*np.pi / 0.01 * t))\n",
        "\n",
        "  # Print value of i\n",
        "  print(i)"
      ]
    },
    {
      "cell_type": "markdown",
      "metadata": {
        "execution": {},
        "id": "xG57Qx_ZjMZK"
      },
      "source": [
        "**SAMPLE OUTPUT**\n",
        "\n",
        "```\n",
        "2.5e-10\n",
        "3.969463130731183e-10\n",
        "4.877641290737885e-10\n",
        "4.877641290737885e-10\n",
        "3.9694631307311837e-10\n",
        "2.5000000000000007e-10\n",
        "1.0305368692688176e-10\n",
        "1.2235870926211617e-11\n",
        "1.223587092621159e-11\n",
        "1.0305368692688186e-10\n",
        "```"
      ]
    },
    {
      "cell_type": "markdown",
      "metadata": {
        "execution": {},
        "id": "sLNiNwVxjMZK"
      },
      "source": [
        "[*Click for solution*](https://github.com/NeuromatchAcademy/precourse/tree/main/tutorials/W0D1_PythonWorkshop1/solutions/W0D1_Tutorial1_Solution_0833b67f.py)\n",
        "\n"
      ]
    },
    {
      "cell_type": "code",
      "execution_count": 15,
      "metadata": {
        "cellView": "form",
        "execution": {},
        "id": "TxJOFcrCjMZL",
        "outputId": "f30c8ccc-1bc3-4366-f165-2ccff7961bcb",
        "colab": {
          "base_uri": "https://localhost:8080/",
          "height": 62,
          "referenced_widgets": [
            "77c3d0c71e854c098d37b644d9fc4e09",
            "7b09df9c65484b84a787b4c1a4ac6f3c",
            "deb0d60183f642859ef4c22ae6b634a3",
            "6e8610780b304ff493f5a9e65e2ebf17",
            "a41d1377d08a4988bbc44f132e4def9f",
            "5f0a76d74c234d6a918fe5e610d12388",
            "5034450bfd7b42b7855415a533d2c271",
            "19eb6dad09814921b1066aefa69e6a89",
            "dbbbf571ffd244e083d7be27d93d1c13",
            "63bdbfac647b4f519f3690cb2ec3f9ed",
            "bdbc9e87f24d4547a939ebcae4a0efaa",
            "9762c76c3efc4e43b18bbf94cc92c2be",
            "4330e6f2fcc045a6a5162712a0ef031e",
            "7339402bf78747c4b587f54d4746a25f",
            "250af76d8de849f5980382a73ad6799c",
            "320d5c15324f4a49b50436e322be2114",
            "21cf8d429463473c92490b03a8cbabea",
            "2a324c9e91c74da19ed8e4c514ee0559",
            "a34cd93c9a4c4471a8aeb58c3da24a79",
            "5e14a03cea85410bb8d6cb6c17f2885f",
            "ce7a748d74f0424a8afb0def73354c05",
            "88e473a2d121449886f62fb6097f92cc",
            "f3990fc356024c4abcb542398b09b2a1",
            "99e788bbc2aa41a3b9552a40486084c5",
            "aad52aae7a29443f866c1c0014ed1f35",
            "d9f198fd25744d548206470905a980d6"
          ]
        }
      },
      "outputs": [
        {
          "output_type": "display_data",
          "data": {
            "text/plain": [
              "VBox(children=(VBox(children=(HBox(children=(Button(description='🙂', layout=Layout(height='auto', padding='0.5…"
            ],
            "application/vnd.jupyter.widget-view+json": {
              "version_major": 2,
              "version_minor": 0,
              "model_id": "77c3d0c71e854c098d37b644d9fc4e09"
            }
          },
          "metadata": {}
        }
      ],
      "source": [
        "# @title Submit your feedback\n",
        "content_review(f\"{feedback_prefix}_Simulating_an_Input_Current_Ecercise\")"
      ]
    },
    {
      "cell_type": "markdown",
      "metadata": {
        "execution": {},
        "id": "8dpH8GO1jMZL"
      },
      "source": [
        "## Section 1.4: Print formatting\n",
        "\n",
        "Print formatting is handy for displaying simulation parameters in a clean and organized form. Python 3.6 introduced the new string formatting [f-strings](https://www.python.org/dev/peps/pep-0498). Since we are dealing with type `float` variables, we use `f'{x:.3f}'` for formatting `x` to three decimal points, and `f'{x:.4e}'` for four decimal points but in exponential notation.\n",
        "```\n",
        "x = 3.14159265e-1\n",
        "print(f'{x:.3f}')\n",
        "--> 0.314\n",
        "\n",
        "print(f'{x:.4e}')\n",
        "--> 3.1416e-01\n",
        "```"
      ]
    },
    {
      "cell_type": "markdown",
      "metadata": {
        "execution": {},
        "id": "iCSGHFs8jMZM"
      },
      "source": [
        "### Coding Exercise 3: Printing pretty numbers\n",
        "\n",
        "\n",
        "Repeat the loop from the previous exercise and print the `t` values with three decimal points, and synaptic input $I(t)$ with four decimal points in exponential notation.\n",
        "\n"
      ]
    },
    {
      "cell_type": "code",
      "execution_count": 21,
      "metadata": {
        "execution": {},
        "id": "0IPfdZRdjMZM",
        "outputId": "cfcfe930-c89f-44b4-fdd8-6b4603e693ec",
        "colab": {
          "base_uri": "https://localhost:8080/"
        }
      },
      "outputs": [
        {
          "output_type": "stream",
          "name": "stdout",
          "text": [
            "0.000 2.5000e-10\n",
            "0.001 3.9695e-10\n",
            "0.002 4.8776e-10\n",
            "0.003 4.8776e-10\n",
            "0.004 3.9695e-10\n",
            "0.005 2.5000e-10\n",
            "0.006 1.0305e-10\n",
            "0.007 1.2236e-11\n",
            "0.008 1.2236e-11\n",
            "0.009 1.0305e-10\n"
          ]
        }
      ],
      "source": [
        "# Initialize step_end\n",
        "step_end = 10\n",
        "\n",
        "# Loop for step_end steps\n",
        "for step in range(step_end):\n",
        "\n",
        "  # Compute value of t\n",
        "  t = step * dt\n",
        "\n",
        "  # Compute value of i at this time step\n",
        "  i = i_mean * (1 + np.sin((t * 2 * np.pi) / 0.01))\n",
        "\n",
        "  # Print value of t and i\n",
        "  print(f'{t:.3f} {i:.4e}')\n"
      ]
    },
    {
      "cell_type": "markdown",
      "metadata": {
        "execution": {},
        "id": "XykqH8zVjMZM"
      },
      "source": [
        "**SAMPLE OUTPUT**\n",
        "\n",
        "```\n",
        "0.000 2.5000e-10\n",
        "0.001 3.9695e-10\n",
        "0.002 4.8776e-10\n",
        "0.003 4.8776e-10\n",
        "0.004 3.9695e-10\n",
        "0.005 2.5000e-10\n",
        "0.006 1.0305e-10\n",
        "0.007 1.2236e-11\n",
        "0.008 1.2236e-11\n",
        "0.009 1.0305e-10\n",
        "```"
      ]
    },
    {
      "cell_type": "markdown",
      "metadata": {
        "execution": {},
        "id": "Vf0KtogXjMZM"
      },
      "source": [
        "[*Click for solution*](https://github.com/NeuromatchAcademy/precourse/tree/main/tutorials/W0D1_PythonWorkshop1/solutions/W0D1_Tutorial1_Solution_b2d23280.py)\n",
        "\n"
      ]
    },
    {
      "cell_type": "code",
      "execution_count": null,
      "metadata": {
        "cellView": "form",
        "execution": {},
        "id": "OalrGhXJjMZM"
      },
      "outputs": [],
      "source": [
        "# @title Submit your feedback\n",
        "content_review(f\"{feedback_prefix}_Printing_Pretty_Numbers_Ecercise\")"
      ]
    },
    {
      "cell_type": "markdown",
      "metadata": {
        "execution": {},
        "id": "h4Jw6vonjMZN"
      },
      "source": [
        "---\n",
        "# Section 2: For loops & discrete time integration\n",
        "\n",
        "\n"
      ]
    },
    {
      "cell_type": "code",
      "execution_count": null,
      "metadata": {
        "cellView": "form",
        "execution": {},
        "id": "Sw0fG0Q6jMZN"
      },
      "outputs": [],
      "source": [
        "# @title Video 3: For loops & discrete time integration\n",
        "from ipywidgets import widgets\n",
        "from IPython.display import YouTubeVideo\n",
        "from IPython.display import IFrame\n",
        "from IPython.display import display\n",
        "\n",
        "\n",
        "class PlayVideo(IFrame):\n",
        "  def __init__(self, id, source, page=1, width=400, height=300, **kwargs):\n",
        "    self.id = id\n",
        "    if source == 'Bilibili':\n",
        "      src = f'https://player.bilibili.com/player.html?bvid={id}&page={page}'\n",
        "    elif source == 'Osf':\n",
        "      src = f'https://mfr.ca-1.osf.io/render?url=https://osf.io/download/{id}/?direct%26mode=render'\n",
        "    super(PlayVideo, self).__init__(src, width, height, **kwargs)\n",
        "\n",
        "\n",
        "def display_videos(video_ids, W=400, H=300, fs=1):\n",
        "  tab_contents = []\n",
        "  for i, video_id in enumerate(video_ids):\n",
        "    out = widgets.Output()\n",
        "    with out:\n",
        "      if video_ids[i][0] == 'Youtube':\n",
        "        video = YouTubeVideo(id=video_ids[i][1], width=W,\n",
        "                             height=H, fs=fs, rel=0)\n",
        "        print(f'Video available at https://youtube.com/watch?v={video.id}')\n",
        "      else:\n",
        "        video = PlayVideo(id=video_ids[i][1], source=video_ids[i][0], width=W,\n",
        "                          height=H, fs=fs, autoplay=False)\n",
        "        if video_ids[i][0] == 'Bilibili':\n",
        "          print(f'Video available at https://www.bilibili.com/video/{video.id}')\n",
        "        elif video_ids[i][0] == 'Osf':\n",
        "          print(f'Video available at https://osf.io/{video.id}')\n",
        "      display(video)\n",
        "    tab_contents.append(out)\n",
        "  return tab_contents\n",
        "\n",
        "\n",
        "video_ids = [('Youtube', 'JkxgotYwu4Q'), ('Bilibili', 'BV1nt4y1Q7Z5')]\n",
        "tab_contents = display_videos(video_ids, W=854, H=480)\n",
        "tabs = widgets.Tab()\n",
        "tabs.children = tab_contents\n",
        "for i in range(len(tab_contents)):\n",
        "  tabs.set_title(i, video_ids[i][0])\n",
        "display(tabs)"
      ]
    },
    {
      "cell_type": "code",
      "execution_count": null,
      "metadata": {
        "cellView": "form",
        "execution": {},
        "id": "E1G9N_4HjMZN"
      },
      "outputs": [],
      "source": [
        "# @title Submit your feedback\n",
        "content_review(f\"{feedback_prefix}_For_Loops_and_Discrete_time_integration_Video\")"
      ]
    },
    {
      "cell_type": "markdown",
      "metadata": {
        "execution": {},
        "id": "f_K4Is_JjMZN"
      },
      "source": [
        "## Section 2.1: For Loops\n",
        "\n",
        "A for loop implements the indented code block multiple times (with the variable being looped over equaling something new each time). The following three formulations are all equivalent and loop for three steps:\n",
        "```\n",
        "for step in [0, 1, 2]:\n",
        "  print(step)\n",
        "\n",
        "for step in range(3):\n",
        "  print(step)\n",
        "\n",
        "start = 0\n",
        "end = 3\n",
        "stepsize = 1\n",
        "\n",
        "for step in range(start, end, stepsize):\n",
        "  print(step)\n",
        "```\n"
      ]
    },
    {
      "cell_type": "markdown",
      "metadata": {
        "execution": {},
        "id": "3x-gm9EHjMZO"
      },
      "source": [
        "## Section 2.2: Discrete time integration with spikes\n"
      ]
    },
    {
      "cell_type": "code",
      "execution_count": null,
      "metadata": {
        "cellView": "form",
        "execution": {},
        "id": "zdTQo03KjMZO"
      },
      "outputs": [],
      "source": [
        "# @title Video 4: Nano recap of discrete time integration\n",
        "from ipywidgets import widgets\n",
        "from IPython.display import YouTubeVideo\n",
        "from IPython.display import IFrame\n",
        "from IPython.display import display\n",
        "\n",
        "\n",
        "class PlayVideo(IFrame):\n",
        "  def __init__(self, id, source, page=1, width=400, height=300, **kwargs):\n",
        "    self.id = id\n",
        "    if source == 'Bilibili':\n",
        "      src = f'https://player.bilibili.com/player.html?bvid={id}&page={page}'\n",
        "    elif source == 'Osf':\n",
        "      src = f'https://mfr.ca-1.osf.io/render?url=https://osf.io/download/{id}/?direct%26mode=render'\n",
        "    super(PlayVideo, self).__init__(src, width, height, **kwargs)\n",
        "\n",
        "\n",
        "def display_videos(video_ids, W=400, H=300, fs=1):\n",
        "  tab_contents = []\n",
        "  for i, video_id in enumerate(video_ids):\n",
        "    out = widgets.Output()\n",
        "    with out:\n",
        "      if video_ids[i][0] == 'Youtube':\n",
        "        video = YouTubeVideo(id=video_ids[i][1], width=W,\n",
        "                             height=H, fs=fs, rel=0)\n",
        "        print(f'Video available at https://youtube.com/watch?v={video.id}')\n",
        "      else:\n",
        "        video = PlayVideo(id=video_ids[i][1], source=video_ids[i][0], width=W,\n",
        "                          height=H, fs=fs, autoplay=False)\n",
        "        if video_ids[i][0] == 'Bilibili':\n",
        "          print(f'Video available at https://www.bilibili.com/video/{video.id}')\n",
        "        elif video_ids[i][0] == 'Osf':\n",
        "          print(f'Video available at https://osf.io/{video.id}')\n",
        "      display(video)\n",
        "    tab_contents.append(out)\n",
        "  return tab_contents\n",
        "\n",
        "\n",
        "video_ids = [('Youtube', 'kyCbeR28AYQ'), ('Bilibili', 'BV1mt4y1Q7Ls')]\n",
        "tab_contents = display_videos(video_ids, W=854, H=480)\n",
        "tabs = widgets.Tab()\n",
        "tabs.children = tab_contents\n",
        "for i in range(len(tab_contents)):\n",
        "  tabs.set_title(i, video_ids[i][0])\n",
        "display(tabs)"
      ]
    },
    {
      "cell_type": "code",
      "execution_count": null,
      "metadata": {
        "cellView": "form",
        "execution": {},
        "id": "Qp9nLIdNjMZO"
      },
      "outputs": [],
      "source": [
        "# @title Submit your feedback\n",
        "content_review(f\"{feedback_prefix}_Nano_recap_of_Discrete_time_integration_Video\")"
      ]
    },
    {
      "cell_type": "markdown",
      "metadata": {
        "execution": {},
        "id": "fX4TXMztjMZO"
      },
      "source": [
        "In the next exercises, we will simulate the evolution of the membrane equation in discrete time steps, with a sufficiently small $\\Delta t$.\n",
        "\n",
        "We start by writing the time derivative $d/dt\\,V(t)$ in the membrane equation without taking the limit $\\Delta t \\to 0$:\n",
        "\n",
        "\\begin{equation}\n",
        "\\tau_m\\,\\frac{V\\left(t+\\Delta t\\right)-V\\left(t\\right)}{\\Delta t} = E_{L} - V(t) + R\\,I(t) \\qquad\\qquad (1)\n",
        "\\end{equation}\n",
        "\n",
        "The value of membrane potential $V\\left(t+\\Delta t\\right)$ can be expressed in terms of its previous value $V(t)$ by simple algebraic manipulation. For *small enough* values of $\\Delta t$, this provides a good approximation of the continuous-time integration.\n",
        "\n",
        "This operation is an integration since we obtain a sequence $\\{V(t), V(t+\\Delta t), V(t+2\\Delta t),...\\}$ starting from the ODE. Notice how the ODE describes the evolution of $\\frac{d}{dt}\\,V(t)$, the derivative of $V(t)$, but not directly the evolution of $V(t)$. For the evolution of $V(t)$ we need to integrate the ODE, and in this tutorial, we will do a discrete-time integration using the Euler method. See [Numerical methods for ordinary differential equations](https://en.wikipedia.org/wiki/Numerical_methods_for_ordinary_differential_equations) for additional details."
      ]
    },
    {
      "cell_type": "markdown",
      "metadata": {
        "execution": {},
        "id": "Y8lw3kDGjMZO"
      },
      "source": [
        "### Coding Exercise 4: Simulating membrane potential\n",
        "Compute the values of $V(t)$ between $t=0$ and $t=0.01$ with step $\\Delta t=0.001$ and $V(0)=E_L$.\n",
        "\n",
        "\n",
        "We need to reorganize the Eq. (1) to isolate $V\\left( t+\\Delta t \\right)$ on the left side, and express it as function of $V(t)$ and the other terms:\n",
        "\n",
        "\\begin{equation}\n",
        "V(t + \\Delta t) =  V(t) + \\frac{\\Delta t}{\\tau_m}\\left( E_L -V(t) + R I(t) \\right)\n",
        "\\end{equation}"
      ]
    },
    {
      "cell_type": "code",
      "execution_count": 24,
      "metadata": {
        "execution": {},
        "id": "idhiutqejMZP",
        "outputId": "f58e108c-1075-4c82-adf5-d3fdd0cfb799",
        "colab": {
          "base_uri": "https://localhost:8080/"
        }
      },
      "outputs": [
        {
          "output_type": "stream",
          "name": "stdout",
          "text": [
            "0.000 -5.8750e-02\n",
            "0.001 -5.6828e-02\n",
            "0.002 -5.4548e-02\n",
            "0.003 -5.2381e-02\n",
            "0.004 -5.0778e-02\n",
            "0.005 -4.9989e-02\n",
            "0.006 -4.9974e-02\n",
            "0.007 -5.0414e-02\n",
            "0.008 -5.0832e-02\n",
            "0.009 -5.0775e-02\n"
          ]
        }
      ],
      "source": [
        "#################################################\n",
        "## TODO for students: fill out compute v code ##\n",
        "# Fill out code and comment or remove the next line\n",
        "# raise NotImplementedError(\"Student exercise: You need to fill out code to compute v\")\n",
        "#################################################\n",
        "\n",
        "\n",
        "# t_max = 150e-3   # second\n",
        "# dt = 1e-3        # second\n",
        "# tau = 20e-3      # second\n",
        "# el = -60e-3      # milivolt\n",
        "# vr = -70e-3      # milivolt\n",
        "# vth = -50e-3     # milivolt\n",
        "# r = 100e6        # ohm\n",
        "# i_mean = 25e-11  # ampere\n",
        "\n",
        "# Initialize step_end and v0\n",
        "step_end = 10\n",
        "v = el\n",
        "\n",
        "# Loop for step_end steps\n",
        "for step in range(step_end):\n",
        "  # Compute value of t\n",
        "  t = step * dt\n",
        "\n",
        "  # Compute value of i at this time step\n",
        "  i = i_mean * (1 + np.sin((t * 2 * np.pi) / 0.01))\n",
        "\n",
        "  # Compute v\n",
        "  v = v + dt / tau * (el - v + r * i)\n",
        "\n",
        "  # Print value of t and v\n",
        "  print(f\"{t:.3f} {v:.4e}\")"
      ]
    },
    {
      "cell_type": "markdown",
      "metadata": {
        "execution": {},
        "id": "-Y6g2o83jMZP"
      },
      "source": [
        "**SAMPLE OUTPUT**\n",
        "\n",
        "```\n",
        "0.000 -5.8750e-02\n",
        "0.001 -5.6828e-02\n",
        "0.002 -5.4548e-02\n",
        "0.003 -5.2381e-02\n",
        "0.004 -5.0778e-02\n",
        "0.005 -4.9989e-02\n",
        "0.006 -4.9974e-02\n",
        "0.007 -5.0414e-02\n",
        "0.008 -5.0832e-02\n",
        "0.009 -5.0775e-02\n",
        "```"
      ]
    },
    {
      "cell_type": "markdown",
      "metadata": {
        "execution": {},
        "id": "agFzxrRNjMZP"
      },
      "source": [
        "[*Click for solution*](https://github.com/NeuromatchAcademy/precourse/tree/main/tutorials/W0D1_PythonWorkshop1/solutions/W0D1_Tutorial1_Solution_6477ecbb.py)\n",
        "\n"
      ]
    },
    {
      "cell_type": "code",
      "execution_count": null,
      "metadata": {
        "cellView": "form",
        "execution": {},
        "id": "ewZjEvYcjMZQ"
      },
      "outputs": [],
      "source": [
        "# @title Submit your feedback\n",
        "content_review(f\"{feedback_prefix}_Simulating_membrane_potential_Exercise\")"
      ]
    },
    {
      "cell_type": "markdown",
      "metadata": {
        "execution": {},
        "id": "37YDiMEDjMZQ"
      },
      "source": [
        "---\n",
        "# Section 3: Plotting"
      ]
    },
    {
      "cell_type": "code",
      "execution_count": 26,
      "metadata": {
        "cellView": "form",
        "execution": {},
        "id": "6Kxa4LvejMZQ",
        "outputId": "ae762f68-43a5-4b66-dac0-79a9871837b4",
        "colab": {
          "base_uri": "https://localhost:8080/",
          "height": 581,
          "referenced_widgets": [
            "42967eca42b64c04ad2e340bc5dae166",
            "669d17ae7d4449068922c04744e11375",
            "e6f8fa6848a34c0a95d64c974a4757f5",
            "fb3ad869255b404e8c08eb0726ab71cb",
            "2c3934f683044405863bd4585eb8f43d",
            "3535550088a94bcc8d7ea9801456356c"
          ]
        }
      },
      "outputs": [
        {
          "output_type": "display_data",
          "data": {
            "text/plain": [
              "Tab(children=(Output(), Output()), _titles={'0': 'Youtube', '1': 'Bilibili'})"
            ],
            "application/vnd.jupyter.widget-view+json": {
              "version_major": 2,
              "version_minor": 0,
              "model_id": "42967eca42b64c04ad2e340bc5dae166"
            }
          },
          "metadata": {}
        }
      ],
      "source": [
        "# @title Video 5: Intro to plotting\n",
        "from ipywidgets import widgets\n",
        "from IPython.display import YouTubeVideo\n",
        "from IPython.display import IFrame\n",
        "from IPython.display import display\n",
        "\n",
        "\n",
        "class PlayVideo(IFrame):\n",
        "  def __init__(self, id, source, page=1, width=400, height=300, **kwargs):\n",
        "    self.id = id\n",
        "    if source == 'Bilibili':\n",
        "      src = f'https://player.bilibili.com/player.html?bvid={id}&page={page}'\n",
        "    elif source == 'Osf':\n",
        "      src = f'https://mfr.ca-1.osf.io/render?url=https://osf.io/download/{id}/?direct%26mode=render'\n",
        "    super(PlayVideo, self).__init__(src, width, height, **kwargs)\n",
        "\n",
        "\n",
        "def display_videos(video_ids, W=400, H=300, fs=1):\n",
        "  tab_contents = []\n",
        "  for i, video_id in enumerate(video_ids):\n",
        "    out = widgets.Output()\n",
        "    with out:\n",
        "      if video_ids[i][0] == 'Youtube':\n",
        "        video = YouTubeVideo(id=video_ids[i][1], width=W,\n",
        "                             height=H, fs=fs, rel=0)\n",
        "        print(f'Video available at https://youtube.com/watch?v={video.id}')\n",
        "      else:\n",
        "        video = PlayVideo(id=video_ids[i][1], source=video_ids[i][0], width=W,\n",
        "                          height=H, fs=fs, autoplay=False)\n",
        "        if video_ids[i][0] == 'Bilibili':\n",
        "          print(f'Video available at https://www.bilibili.com/video/{video.id}')\n",
        "        elif video_ids[i][0] == 'Osf':\n",
        "          print(f'Video available at https://osf.io/{video.id}')\n",
        "      display(video)\n",
        "    tab_contents.append(out)\n",
        "  return tab_contents\n",
        "\n",
        "\n",
        "video_ids = [('Youtube', 'RmdPBHn9kjk'), ('Bilibili', 'BV1MC4y1h77q')]\n",
        "tab_contents = display_videos(video_ids, W=854, H=480)\n",
        "tabs = widgets.Tab()\n",
        "tabs.children = tab_contents\n",
        "for i in range(len(tab_contents)):\n",
        "  tabs.set_title(i, video_ids[i][0])\n",
        "display(tabs)"
      ]
    },
    {
      "cell_type": "code",
      "execution_count": null,
      "metadata": {
        "cellView": "form",
        "execution": {},
        "id": "jOCtwFFWjMZQ"
      },
      "outputs": [],
      "source": [
        "# @title Submit your feedback\n",
        "content_review(f\"{feedback_prefix}_Intro_to_Plotting_Video\")"
      ]
    },
    {
      "cell_type": "code",
      "execution_count": 27,
      "metadata": {
        "cellView": "form",
        "execution": {},
        "id": "AVTu40zDjMZR",
        "outputId": "fffc9265-859f-4877-d3ff-d543b9cdfe1e",
        "colab": {
          "base_uri": "https://localhost:8080/",
          "height": 581,
          "referenced_widgets": [
            "56f8809b886e4f83810570e9fdb5125a",
            "947384f9f65b400ab8090e03538b6bbd",
            "a3672e911cf84f1ebe289565e285388a",
            "4ad364f77e7046809745ad6bffdb5a97",
            "cc15c241d6454022a927312aa66f8ca1",
            "40aca913c2704c25be2046e99364ae43"
          ]
        }
      },
      "outputs": [
        {
          "output_type": "display_data",
          "data": {
            "text/plain": [
              "Tab(children=(Output(), Output()), _titles={'0': 'Youtube', '1': 'Bilibili'})"
            ],
            "application/vnd.jupyter.widget-view+json": {
              "version_major": 2,
              "version_minor": 0,
              "model_id": "56f8809b886e4f83810570e9fdb5125a"
            }
          },
          "metadata": {}
        }
      ],
      "source": [
        "# @title Video 6: Nano recap of plotting\n",
        "from ipywidgets import widgets\n",
        "from IPython.display import YouTubeVideo\n",
        "from IPython.display import IFrame\n",
        "from IPython.display import display\n",
        "\n",
        "\n",
        "class PlayVideo(IFrame):\n",
        "  def __init__(self, id, source, page=1, width=400, height=300, **kwargs):\n",
        "    self.id = id\n",
        "    if source == 'Bilibili':\n",
        "      src = f'https://player.bilibili.com/player.html?bvid={id}&page={page}'\n",
        "    elif source == 'Osf':\n",
        "      src = f'https://mfr.ca-1.osf.io/render?url=https://osf.io/download/{id}/?direct%26mode=render'\n",
        "    super(PlayVideo, self).__init__(src, width, height, **kwargs)\n",
        "\n",
        "\n",
        "def display_videos(video_ids, W=400, H=300, fs=1):\n",
        "  tab_contents = []\n",
        "  for i, video_id in enumerate(video_ids):\n",
        "    out = widgets.Output()\n",
        "    with out:\n",
        "      if video_ids[i][0] == 'Youtube':\n",
        "        video = YouTubeVideo(id=video_ids[i][1], width=W,\n",
        "                             height=H, fs=fs, rel=0)\n",
        "        print(f'Video available at https://youtube.com/watch?v={video.id}')\n",
        "      else:\n",
        "        video = PlayVideo(id=video_ids[i][1], source=video_ids[i][0], width=W,\n",
        "                          height=H, fs=fs, autoplay=False)\n",
        "        if video_ids[i][0] == 'Bilibili':\n",
        "          print(f'Video available at https://www.bilibili.com/video/{video.id}')\n",
        "        elif video_ids[i][0] == 'Osf':\n",
        "          print(f'Video available at https://osf.io/{video.id}')\n",
        "      display(video)\n",
        "    tab_contents.append(out)\n",
        "  return tab_contents\n",
        "\n",
        "\n",
        "video_ids = [('Youtube', 'BOh8CsuTFkY'), ('Bilibili', 'BV1BA411e7eH')]\n",
        "tab_contents = display_videos(video_ids, W=854, H=480)\n",
        "tabs = widgets.Tab()\n",
        "tabs.children = tab_contents\n",
        "for i in range(len(tab_contents)):\n",
        "  tabs.set_title(i, video_ids[i][0])\n",
        "display(tabs)"
      ]
    },
    {
      "cell_type": "code",
      "execution_count": null,
      "metadata": {
        "cellView": "form",
        "execution": {},
        "id": "NZ7KJ-SQjMZR"
      },
      "outputs": [],
      "source": [
        "# @title Submit your feedback\n",
        "content_review(f\"{feedback_prefix}_Nano_recap_of_Plotting_Video\")"
      ]
    },
    {
      "cell_type": "markdown",
      "metadata": {
        "execution": {},
        "id": "r5qBUMevjMZR"
      },
      "source": [
        "## Coding Exercise 5: Plotting current\n",
        "\n",
        "In this exercise, we will plot the values of $I(t)$ between $t=0$ and $t=0.024$.\n",
        "\n",
        "You will first need to set the title and axis labels of the plot. Label these descriptively!  You will then need to fill out the code to actually create the plot.\n"
      ]
    },
    {
      "cell_type": "code",
      "execution_count": 30,
      "metadata": {
        "execution": {},
        "id": "0TxN_1-qjMZR",
        "outputId": "2b2661f9-909c-45e2-ebb1-f32d3d8a0d3c",
        "colab": {
          "base_uri": "https://localhost:8080/",
          "height": 592
        }
      },
      "outputs": [
        {
          "output_type": "display_data",
          "data": {
            "text/plain": [
              "<Figure size 800x600 with 1 Axes>"
            ],
            "image/png": "[encoded data removed]"
          },
          "metadata": {
            "image/png": {
              "width": 774,
              "height": 575
            }
          }
        }
      ],
      "source": [
        "#################################################\n",
        "## TODO for students: fill out the figure initialization and plotting code below ##\n",
        "# Fill out code and comment or remove the next line\n",
        "# raise NotImplementedError(\"Student exercise: You need to fill out current figure code\")\n",
        "#################################################\n",
        "\n",
        "# Initialize step_end\n",
        "step_end = 25\n",
        "\n",
        "# Initialize the figure\n",
        "plt.figure()\n",
        "plt.title(\"Synaptic Output\")\n",
        "plt.xlabel(\"time (s)\")\n",
        "plt.ylabel(\"Current (I)\")\n",
        "\n",
        "# Loop for step_end steps\n",
        "for step in range(step_end):\n",
        "\n",
        "  # Compute value of t\n",
        "  t = step * dt\n",
        "\n",
        "  # Compute value of i at this time step\n",
        "  i = i_mean * (1 + np.sin((t * 2 * np.pi) / 0.01))\n",
        "\n",
        "  # Plot i (use 'ko' to get small black dots (short for color='k' and marker = 'o'))\n",
        "  plt.plot(t, i, 'ko', label='dot')\n",
        "\n",
        "# Display the plot\n",
        "plt.show()"
      ]
    },
    {
      "cell_type": "markdown",
      "metadata": {
        "execution": {},
        "id": "N6RalZaFjMZR"
      },
      "source": [
        "[*Click for solution*](https://github.com/NeuromatchAcademy/precourse/tree/main/tutorials/W0D1_PythonWorkshop1/solutions/W0D1_Tutorial1_Solution_c15c544f.py)\n",
        "\n",
        "*Example output:*\n",
        "\n",
        "<img alt='Solution hint' align='left' width=777.0 height=578.0 src=https://raw.githubusercontent.com/NeuromatchAcademy/precourse/main/tutorials/W0D1_PythonWorkshop1/static/W0D1_Tutorial1_Solution_c15c544f_0.png>\n",
        "\n"
      ]
    },
    {
      "cell_type": "markdown",
      "metadata": {
        "execution": {},
        "id": "Z24r0YAGjMZR"
      },
      "source": [
        "We are plotting the curent input at discrete steps only. If we plotted the current continuously, it would resemble the blue line below."
      ]
    },
    {
      "cell_type": "markdown",
      "metadata": {
        "execution": {},
        "id": "upQepWxCjMZR"
      },
      "source": [
        "![synaptic input discrete](https://github.com/mpbrigham/colaboratory-figures/raw/master/nma/python-for-nma/synaptic_input_discrete.png)"
      ]
    },
    {
      "cell_type": "code",
      "execution_count": null,
      "metadata": {
        "cellView": "form",
        "execution": {},
        "id": "VXCJFbl7jMZS"
      },
      "outputs": [],
      "source": [
        "# @title Submit your feedback\n",
        "content_review(f\"{feedback_prefix}_Plotting_current_Exercise\")"
      ]
    },
    {
      "cell_type": "markdown",
      "metadata": {
        "execution": {},
        "id": "q3fP1NsTjMZS"
      },
      "source": [
        "## Coding Exercise 6: Plotting membrane potential\n",
        "Plot the values of $V(t)$ between $t=0$ and $t=t_{max}$. We can compute the number of steps required to get to $t=t_{max}$ given $\\Delta t$ as `int(t_max/dt)` where `int` gets the nearest integer.\n"
      ]
    },
    {
      "cell_type": "code",
      "execution_count": 33,
      "metadata": {
        "execution": {},
        "id": "wCq9lYT_jMZS",
        "outputId": "2e401fca-86e7-4958-dbf4-43bfd9d71acc",
        "colab": {
          "base_uri": "https://localhost:8080/",
          "height": 592
        }
      },
      "outputs": [
        {
          "output_type": "display_data",
          "data": {
            "text/plain": [
              "<Figure size 800x600 with 1 Axes>"
            ],
            "image/png": "[encoded data removed]"
          },
          "metadata": {
            "image/png": {
              "width": 775,
              "height": 575
            }
          }
        }
      ],
      "source": [
        "#################################################\n",
        "## TODO for students: fill out the figure initialization and plotting code below ##\n",
        "# Fill out code and comment or remove the next line\n",
        "# raise NotImplementedError(\"Student exercise: You need to fill out membrane potential figure code\")\n",
        "#################################################\n",
        "\n",
        "# Initialize step_end\n",
        "step_end = int(t_max / dt)\n",
        "\n",
        "# Initialize v0\n",
        "v = el\n",
        "\n",
        "# Initialize the figure\n",
        "plt.figure()\n",
        "plt.title('$V_m$ with sinusoidal I(t)')\n",
        "plt.xlabel('time (s)')\n",
        "plt.ylabel('$V_m$ (V)');\n",
        "\n",
        "# Loop for step_end steps\n",
        "for step in range(step_end):\n",
        "\n",
        "  # Compute value of t\n",
        "  t = step * dt\n",
        "\n",
        "  # Compute value of i at this time step\n",
        "  i = i_mean * (1 + np.sin((t * 2 * np.pi) / 0.01))\n",
        "\n",
        "  # Compute v\n",
        "  v = v + dt/tau * (el - v + r*i)\n",
        "\n",
        "  # Plot v (using 'k.' to get even smaller markers)\n",
        "  plt.plot(t, v, 'ko', label='dot')\n",
        "\n",
        "# Display plot\n",
        "plt.show()"
      ]
    },
    {
      "cell_type": "markdown",
      "metadata": {
        "execution": {},
        "id": "ewMlxTF5jMZS"
      },
      "source": [
        "[*Click for solution*](https://github.com/NeuromatchAcademy/precourse/tree/main/tutorials/W0D1_PythonWorkshop1/solutions/W0D1_Tutorial1_Solution_70f05c19.py)\n",
        "\n",
        "*Example output:*\n",
        "\n",
        "<img alt='Solution hint' align='left' width=778.0 height=577.0 src=https://raw.githubusercontent.com/NeuromatchAcademy/precourse/main/tutorials/W0D1_PythonWorkshop1/static/W0D1_Tutorial1_Solution_70f05c19_0.png>\n",
        "\n"
      ]
    },
    {
      "cell_type": "code",
      "execution_count": null,
      "metadata": {
        "cellView": "form",
        "execution": {},
        "id": "PvbsSmVTjMZS"
      },
      "outputs": [],
      "source": [
        "# @title Submit your feedback\n",
        "content_review(f\"{feedback_prefix}_Plotting_membrane_potential_Exercise\")"
      ]
    },
    {
      "cell_type": "markdown",
      "metadata": {
        "execution": {},
        "id": "TRoBR26PjMZT"
      },
      "source": [
        "---\n",
        "# Section 4: Random synaptic input\n",
        "\n",
        "From the perspective of neurons, synaptic input is random (or stochastic). We'll improve the synaptic input model by introducing random input current with statistical properties similar to the previous exercise:\n",
        "\n",
        "\\begin{equation}\n",
        "I(t) = I_{mean}\\left(1+0.1\\sqrt{\\frac{t_{max}}{\\Delta t}}\\,\\xi(t)\\right)\\qquad\\text{with }\\xi(t)\\sim \\mathcal{U}(-1,1)\n",
        "\\end{equation}\n",
        "\n",
        "where $\\mathcal{U}(-1,1)$ is the [uniform distribution](https://en.wikipedia.org/wiki/Uniform_distribution_(continuous)) with support $x\\in[-1,1]$.\n",
        "\n",
        "We can approximate randomness in code using a pseudo random number generator. The function `np.random.seed()` initializes the RNG. If we initialize this with a number (e.x. `np.random.seed(2)`), we will get the same random number draws each time we run the code. Basically, we are making the random number generation replicable. We do this here so you can get a figure that exactly matches the solution. The function `np.random.random()` generates samples from the uniform distribution between `0` and `1`."
      ]
    },
    {
      "cell_type": "markdown",
      "metadata": {
        "execution": {},
        "id": "9x3rHGudjMZT"
      },
      "source": [
        "## Coding Exercise 7: Adding randomness\n",
        "\n",
        "Plot the values of $V(t)$ between $t=0$ and $t=t_{max}-\\Delta t$ with random input $I(t)$.\n"
      ]
    },
    {
      "cell_type": "code",
      "execution_count": 37,
      "metadata": {
        "execution": {},
        "id": "fzPmGu0XjMZT",
        "outputId": "32c5d539-3f0b-4c2d-8a49-6725a5fbe082",
        "colab": {
          "base_uri": "https://localhost:8080/",
          "height": 592
        }
      },
      "outputs": [
        {
          "output_type": "display_data",
          "data": {
            "text/plain": [
              "<Figure size 800x600 with 1 Axes>"
            ],
            "image/png": "[encoded data removed]"
          },
          "metadata": {
            "image/png": {
              "width": 775,
              "height": 575
            }
          }
        }
      ],
      "source": [
        "#################################################\n",
        "## TODO for students: fill out code to get random input ##\n",
        "# Fill out code and comment or remove the next line\n",
        "# raise NotImplementedError(\"Student exercise: You need to fill out random input code\")\n",
        "#################################################\n",
        "\n",
        "# Set random number generator\n",
        "np.random.seed(2020)\n",
        "\n",
        "# Initialize step_end and v\n",
        "step_end = int(t_max / dt)\n",
        "v = el\n",
        "\n",
        "# Initialize the figure\n",
        "plt.figure()\n",
        "plt.title('$V_m$ with random I(t)')\n",
        "plt.xlabel('time (s)')\n",
        "plt.ylabel('$V_m$ (V)')\n",
        "\n",
        "# loop for step_end steps\n",
        "for step in range(step_end):\n",
        "\n",
        "  # Compute value of t\n",
        "  t = step * dt\n",
        "\n",
        "  # Get random number in correct range of -1 to 1 (will need to adjust output of np.random.random)\n",
        "  random_num = np.random.random() * 2 - 1\n",
        "\n",
        "  # Compute value of i at this time step\n",
        "  i = i_mean * (1 + 0.1*(tau / dt)**0.5 * random_num)\n",
        "\n",
        "  # Compute v\n",
        "  v = v + dt/tau * (el - v + r*i)\n",
        "\n",
        "  # Plot v (using 'k.' to get even smaller markers)\n",
        "  plt.plot(t, v, 'k.')\n",
        "\n",
        "\n",
        "# Display plot\n",
        "plt.show()"
      ]
    },
    {
      "cell_type": "markdown",
      "metadata": {
        "execution": {},
        "id": "qTSRJfwmjMZT"
      },
      "source": [
        "[*Click for solution*](https://github.com/NeuromatchAcademy/precourse/tree/main/tutorials/W0D1_PythonWorkshop1/solutions/W0D1_Tutorial1_Solution_413e2a3c.py)\n",
        "\n",
        "*Example output:*\n",
        "\n",
        "<img alt='Solution hint' align='left' width=778.0 height=577.0 src=https://raw.githubusercontent.com/NeuromatchAcademy/precourse/main/tutorials/W0D1_PythonWorkshop1/static/W0D1_Tutorial1_Solution_413e2a3c_0.png>\n",
        "\n"
      ]
    },
    {
      "cell_type": "markdown",
      "metadata": {
        "execution": {},
        "id": "PlQfgZC5jMZT"
      },
      "source": [
        "Random synaptic input $I(t)$ results in random time course for $V(t)$."
      ]
    },
    {
      "cell_type": "code",
      "execution_count": null,
      "metadata": {
        "cellView": "form",
        "execution": {},
        "id": "3JuBEkqAjMZT"
      },
      "outputs": [],
      "source": [
        "# @title Submit your feedback\n",
        "content_review(f\"{feedback_prefix}_Adding_randomness_Exercise\")"
      ]
    },
    {
      "cell_type": "markdown",
      "metadata": {
        "execution": {},
        "id": "N4zlq4pcjMZT"
      },
      "source": [
        "---\n",
        "# Section 5: Lists & ensemble statistics\n"
      ]
    },
    {
      "cell_type": "code",
      "execution_count": 38,
      "metadata": {
        "execution": {},
        "id": "uQRQaBOcjMZU",
        "outputId": "2639d23f-9f67-4aca-aecb-64034f077ffd",
        "colab": {
          "base_uri": "https://localhost:8080/",
          "height": 581,
          "referenced_widgets": [
            "5d110a4b141745c88f66ab10f0f93657",
            "a633c9a6284a487d9f3cb4e37314ae20",
            "9e7b95e892a2401db9b60d6ef2ce71a7",
            "95c96493fe5144af870516c04a292293",
            "31b10138189c4a0199a94a292cb8211d",
            "edca42dbded34d5da38dd8cf4ff503b8"
          ]
        }
      },
      "outputs": [
        {
          "output_type": "display_data",
          "data": {
            "text/plain": [
              "Tab(children=(Output(), Output()), _titles={'0': 'Youtube', '1': 'Bilibili'})"
            ],
            "application/vnd.jupyter.widget-view+json": {
              "version_major": 2,
              "version_minor": 0,
              "model_id": "5d110a4b141745c88f66ab10f0f93657"
            }
          },
          "metadata": {}
        }
      ],
      "source": [
        "# @title Video 7: Lists & ensemble statistics\n",
        "from ipywidgets import widgets\n",
        "from IPython.display import YouTubeVideo\n",
        "from IPython.display import IFrame\n",
        "from IPython.display import display\n",
        "\n",
        "\n",
        "class PlayVideo(IFrame):\n",
        "  def __init__(self, id, source, page=1, width=400, height=300, **kwargs):\n",
        "    self.id = id\n",
        "    if source == 'Bilibili':\n",
        "      src = f'https://player.bilibili.com/player.html?bvid={id}&page={page}'\n",
        "    elif source == 'Osf':\n",
        "      src = f'https://mfr.ca-1.osf.io/render?url=https://osf.io/download/{id}/?direct%26mode=render'\n",
        "    super(PlayVideo, self).__init__(src, width, height, **kwargs)\n",
        "\n",
        "\n",
        "def display_videos(video_ids, W=400, H=300, fs=1):\n",
        "  tab_contents = []\n",
        "  for i, video_id in enumerate(video_ids):\n",
        "    out = widgets.Output()\n",
        "    with out:\n",
        "      if video_ids[i][0] == 'Youtube':\n",
        "        video = YouTubeVideo(id=video_ids[i][1], width=W,\n",
        "                             height=H, fs=fs, rel=0)\n",
        "        print(f'Video available at https://youtube.com/watch?v={video.id}')\n",
        "      else:\n",
        "        video = PlayVideo(id=video_ids[i][1], source=video_ids[i][0], width=W,\n",
        "                          height=H, fs=fs, autoplay=False)\n",
        "        if video_ids[i][0] == 'Bilibili':\n",
        "          print(f'Video available at https://www.bilibili.com/video/{video.id}')\n",
        "        elif video_ids[i][0] == 'Osf':\n",
        "          print(f'Video available at https://osf.io/{video.id}')\n",
        "      display(video)\n",
        "    tab_contents.append(out)\n",
        "  return tab_contents\n",
        "\n",
        "\n",
        "video_ids = [('Youtube', 'A2foheo44h4'), ('Bilibili', 'BV1ff4y197Hx')]\n",
        "tab_contents = display_videos(video_ids, W=854, H=480)\n",
        "tabs = widgets.Tab()\n",
        "tabs.children = tab_contents\n",
        "for i in range(len(tab_contents)):\n",
        "  tabs.set_title(i, video_ids[i][0])\n",
        "display(tabs)"
      ]
    },
    {
      "cell_type": "code",
      "execution_count": null,
      "metadata": {
        "cellView": "form",
        "execution": {},
        "id": "tltk43Q6jMZU"
      },
      "outputs": [],
      "source": [
        "# @title Submit your feedback\n",
        "content_review(f\"{feedback_prefix}_Lists_&_ensemble_statistics_Video\")"
      ]
    },
    {
      "cell_type": "code",
      "execution_count": null,
      "metadata": {
        "cellView": "form",
        "execution": {},
        "id": "TR8vsOATjMZU"
      },
      "outputs": [],
      "source": [
        "# @title Video 8: Nano recap of ensemble statistics & lists\n",
        "from ipywidgets import widgets\n",
        "from IPython.display import YouTubeVideo\n",
        "from IPython.display import IFrame\n",
        "from IPython.display import display\n",
        "\n",
        "\n",
        "class PlayVideo(IFrame):\n",
        "  def __init__(self, id, source, page=1, width=400, height=300, **kwargs):\n",
        "    self.id = id\n",
        "    if source == 'Bilibili':\n",
        "      src = f'https://player.bilibili.com/player.html?bvid={id}&page={page}'\n",
        "    elif source == 'Osf':\n",
        "      src = f'https://mfr.ca-1.osf.io/render?url=https://osf.io/download/{id}/?direct%26mode=render'\n",
        "    super(PlayVideo, self).__init__(src, width, height, **kwargs)\n",
        "\n",
        "\n",
        "def display_videos(video_ids, W=400, H=300, fs=1):\n",
        "  tab_contents = []\n",
        "  for i, video_id in enumerate(video_ids):\n",
        "    out = widgets.Output()\n",
        "    with out:\n",
        "      if video_ids[i][0] == 'Youtube':\n",
        "        video = YouTubeVideo(id=video_ids[i][1], width=W,\n",
        "                             height=H, fs=fs, rel=0)\n",
        "        print(f'Video available at https://youtube.com/watch?v={video.id}')\n",
        "      else:\n",
        "        video = PlayVideo(id=video_ids[i][1], source=video_ids[i][0], width=W,\n",
        "                          height=H, fs=fs, autoplay=False)\n",
        "        if video_ids[i][0] == 'Bilibili':\n",
        "          print(f'Video available at https://www.bilibili.com/video/{video.id}')\n",
        "        elif video_ids[i][0] == 'Osf':\n",
        "          print(f'Video available at https://osf.io/{video.id}')\n",
        "      display(video)\n",
        "    tab_contents.append(out)\n",
        "  return tab_contents\n",
        "\n",
        "\n",
        "video_ids = [('Youtube', '4nIAS2oPEFI'), ('Bilibili', 'BV1UZ4y1u7sV')]\n",
        "tab_contents = display_videos(video_ids, W=854, H=480)\n",
        "tabs = widgets.Tab()\n",
        "tabs.children = tab_contents\n",
        "for i in range(len(tab_contents)):\n",
        "  tabs.set_title(i, video_ids[i][0])\n",
        "display(tabs)"
      ]
    },
    {
      "cell_type": "code",
      "execution_count": null,
      "metadata": {
        "cellView": "form",
        "execution": {},
        "id": "MnY5D31gjMZU"
      },
      "outputs": [],
      "source": [
        "# @title Submit your feedback\n",
        "content_review(f\"{feedback_prefix}_Nano_recap_of_ensemble_statistics_&_lists_Video\")"
      ]
    },
    {
      "cell_type": "markdown",
      "metadata": {
        "execution": {},
        "id": "K00Fyx_0jMZU"
      },
      "source": [
        "Multiple runs of the previous exercise may give the impression of periodic regularity in the evolution of $V(t)$. We'll collect the sample mean over $N=50$ realizations of $V(t)$  with random input to test such a hypothesis. The sample mean, sample variance and sample autocovariance at times $\\left\\{t, s\\right\\}\\in[0,t_{max}]$, and for $N$ realizations $V_n(t)$ are given by:\n",
        "\n",
        "\\begin{align}\n",
        "\\\\\n",
        "\\left\\langle V(t)\\right\\rangle &= \\frac{1}{N}\\sum_{n=1}^N V_n(t) & & \\text{sample mean}\\\\\n",
        "\\left\\langle (V(t)-\\left\\langle V(t)\\right\\rangle)^2\\right\\rangle &= \\frac{1}{N-1} \\sum_{n=1}^N \\left(V_n(t)-\\left\\langle V(t)\\right\\rangle\\right)^2 & & \\text{sample variance} \\\\\n",
        "\\left\\langle \\left(V(t)-\\left\\langle V(t)\\right\\rangle\\right)\\left(V(s)-\\left\\langle V(s)\\right\\rangle\\right)\\right\\rangle\n",
        "&= \\frac{1}{N-1} \\sum_{n=1}^N \\left(V_n(t)-\\left\\langle V(t)\\right\\rangle\\right)\\left(V_n(s)-\\left\\langle V(s)\\right\\rangle\\right) & & \\text{sample autocovariance}\n",
        "\\end{align}"
      ]
    },
    {
      "cell_type": "markdown",
      "metadata": {
        "execution": {},
        "id": "pzyQggg4jMZV"
      },
      "source": [
        "## Coding Exercise 8: Storing simulations in lists\n",
        "Plot multiple simulations ($N=50$) of $V(t)$ by storing in a list the voltage of each neuron at time $t$.\n",
        "\n",
        "Keep in mind that the plotting command `plt.plot(x, y)` requires `x` to have the same number of elements as `y`.\n",
        "\n",
        "Mathematical symbols such as $\\alpha$ and $\\beta$ are specified as `$\\alpha$` and `$\\beta$` in [TeX markup](https://en.wikipedia.org/wiki/TeX). See additional details in [Writing mathematical expressions](https://matplotlib.org/3.2.2/tutorials/text/mathtext.html) in Matplotlib.\n"
      ]
    },
    {
      "cell_type": "code",
      "execution_count": null,
      "metadata": {
        "execution": {},
        "id": "n52OJi2JjMZV"
      },
      "outputs": [],
      "source": [
        "#################################################\n",
        "## TODO for students: fill out code to store v in list ##\n",
        "# Fill out code and comment or remove the next line\n",
        "raise NotImplementedError(\"Student exercise: You need to store v in list\")\n",
        "#################################################\n",
        "\n",
        "# Set random number generator\n",
        "np.random.seed(2020)\n",
        "\n",
        "# Initialize step_end and n\n",
        "step_end = int(t_max / dt)\n",
        "n = 50\n",
        "\n",
        "# Intiatialize the list v_n with 50 values of membrane leak potential el\n",
        "v_n = ...\n",
        "\n",
        "with plt.xkcd():\n",
        "  # Initialize the figure\n",
        "  plt.figure()\n",
        "  plt.title('Multiple realizations of $V_m$')\n",
        "  plt.xlabel('time (s)')\n",
        "  plt.ylabel('$V_m$ (V)')\n",
        "\n",
        "  # Loop for step_end steps\n",
        "  for step in range(step_end):\n",
        "\n",
        "    # Compute value of t\n",
        "    t = step * dt\n",
        "\n",
        "    # Loop for n simulations\n",
        "    for j in range(0, n):\n",
        "\n",
        "      # Compute value of i at this time step\n",
        "      i = i_mean * (1 + 0.1 * (t_max/dt)**(0.5) * (2* np.random.random() - 1))\n",
        "\n",
        "      # Compute value of v for this simulation\n",
        "      v_n[j] = ...\n",
        "\n",
        "    # Plot all simulations (use alpha = 0.1 to make each marker slightly transparent)\n",
        "    plt.plot(...)\n",
        "\n",
        "  # Display plot\n",
        "  plt.show()"
      ]
    },
    {
      "cell_type": "markdown",
      "metadata": {
        "execution": {},
        "id": "TGN2QzsDjMZV"
      },
      "source": [
        "[*Click for solution*](https://github.com/NeuromatchAcademy/precourse/tree/main/tutorials/W0D1_PythonWorkshop1/solutions/W0D1_Tutorial1_Solution_04e56444.py)\n",
        "\n",
        "*Example output:*\n",
        "\n",
        "<img alt='Solution hint' align='left' width=778.0 height=577.0 src=https://raw.githubusercontent.com/NeuromatchAcademy/precourse/main/tutorials/W0D1_PythonWorkshop1/static/W0D1_Tutorial1_Solution_04e56444_0.png>\n",
        "\n"
      ]
    },
    {
      "cell_type": "code",
      "execution_count": null,
      "metadata": {
        "cellView": "form",
        "execution": {},
        "id": "VhyYU4SrjMZV"
      },
      "outputs": [],
      "source": [
        "# @title Submit your feedback\n",
        "content_review(f\"{feedback_prefix}_Storing_simulations_in_lists_Exercise\")"
      ]
    },
    {
      "cell_type": "markdown",
      "metadata": {
        "execution": {},
        "id": "i3wgarVVjMZV"
      },
      "source": [
        "## Coding Exercise 9: Plotting sample mean\n",
        "\n",
        "Add the sample mean $\\left\\langle V(t)\\right\\rangle=\\frac{1}{N}\\sum_{n=1}^N V_n(t)$ to the plot.\n"
      ]
    },
    {
      "cell_type": "code",
      "execution_count": null,
      "metadata": {
        "execution": {},
        "id": "7wPjn1D6jMZW"
      },
      "outputs": [],
      "source": [
        "#################################################\n",
        "## TODO for students: fill out code to plot sample mean ##\n",
        "# Fill out code and comment or remove the next line\n",
        "raise NotImplementedError(\"Student exercise: You need to plot the sample mean\")\n",
        "#################################################\n",
        "\n",
        "# Set random number generator\n",
        "np.random.seed(2020)\n",
        "\n",
        "# Initialize step_end and n\n",
        "step_end = int(t_max / dt)\n",
        "n = 50\n",
        "\n",
        "# Intiatialize the list v_n with 50 values of membrane leak potential el\n",
        "v_n = [el] * n\n",
        "\n",
        "# Initialize the figure\n",
        "plt.figure()\n",
        "plt.title('Multiple realizations of $V_m$')\n",
        "plt.xlabel('time (s)')\n",
        "plt.ylabel('$V_m$ (V)')\n",
        "\n",
        "# Loop for step_end steps\n",
        "for step in range(step_end):\n",
        "\n",
        "  # Compute value of t\n",
        "  t = step * dt\n",
        "\n",
        "  # Loop for n simulations\n",
        "  for j in range(0, n):\n",
        "\n",
        "    # Compute value of i at this time step\n",
        "    i = i_mean * (1 + 0.1 * (t_max/dt)**(0.5) * (2* np.random.random() - 1))\n",
        "\n",
        "    # Compute value of v for this simulation\n",
        "    v_n[j] = v_n[j] + (dt / tau) * (el - v_n[j] + r*i)\n",
        "\n",
        "  # Compute sample mean by summing list of v_n using sum, and dividing by n\n",
        "  v_mean = ...\n",
        "\n",
        "  # Plot simulations\n",
        "  plt.plot(n*[t], v_n, 'k.', alpha=0.1)\n",
        "\n",
        "  # Plot sample mean using alpha=0.8 and'C0.' for blue\n",
        "  plt.plot(...)\n",
        "\n",
        "# Display plot\n",
        "plt.show()"
      ]
    },
    {
      "cell_type": "markdown",
      "metadata": {
        "execution": {},
        "id": "IY_NanXdjMZW"
      },
      "source": [
        "[*Click for solution*](https://github.com/NeuromatchAcademy/precourse/tree/main/tutorials/W0D1_PythonWorkshop1/solutions/W0D1_Tutorial1_Solution_684b683f.py)\n",
        "\n",
        "*Example output:*\n",
        "\n",
        "<img alt='Solution hint' align='left' width=775.0 height=575.0 src=https://raw.githubusercontent.com/NeuromatchAcademy/precourse/main/tutorials/W0D1_PythonWorkshop1/static/W0D1_Tutorial1_Solution_684b683f_0.png>\n",
        "\n"
      ]
    },
    {
      "cell_type": "code",
      "execution_count": null,
      "metadata": {
        "cellView": "form",
        "execution": {},
        "id": "o7Ya9c7hjMZW"
      },
      "outputs": [],
      "source": [
        "# @title Submit your feedback\n",
        "content_review(f\"{feedback_prefix}_Plotting_sample_mean_Exercise\")"
      ]
    },
    {
      "cell_type": "markdown",
      "metadata": {
        "execution": {},
        "id": "_wAMq7e6jMZW"
      },
      "source": [
        "## Coding Exercise 10: Plotting sample standard deviation\n",
        "\n",
        "Add the sample standard deviation $\\sigma(t)\\equiv\\sqrt{\\text{Var}\\left(t\\right)}$ to the plot, with sample variance $\\text{Var}(t) = \\frac{1}{N-1} \\sum_{n=1}^N \\left(V_n(t)-\\left\\langle V(t)\\right\\rangle\\right)^2$.\n",
        "\n",
        "Use a list comprehension to collect the sample variance `v_var`. Here's an example to initialize a list with squares of `0` to `9`:\n",
        "```\n",
        "squares = [x**2 for x in range(10)]\n",
        "print(squares)\n",
        "--> [0, 1, 4, 9, 16, 25, 36, 49, 64, 81]\n",
        "```\n",
        "\n",
        "Think: Why are we plotting $\\sigma(t)$ rather than the $\\text{Var}(t)$? What are the units of each and the units of $\\left\\langle V(t)\\right\\rangle$?\n"
      ]
    },
    {
      "cell_type": "code",
      "execution_count": null,
      "metadata": {
        "execution": {},
        "id": "LZMG_7HYjMZX"
      },
      "outputs": [],
      "source": [
        "#################################################\n",
        "## TODO for students: fill out code to plot sample standard deviation ##\n",
        "# Fill out code and comment or remove the next line\n",
        "raise NotImplementedError(\"Student exercise: You need to plot the sample standard deviation\")\n",
        "#################################################\n",
        "\n",
        "# Set random number generator\n",
        "np.random.seed(2020)\n",
        "\n",
        "# Initialize step_end and n\n",
        "step_end = int(t_max / dt)\n",
        "n = 50\n",
        "\n",
        "# Intiatialize the list v_n with 50 values of membrane leak potential el\n",
        "v_n = [el] * n\n",
        "\n",
        "# Initialize the figure\n",
        "plt.figure()\n",
        "plt.title('Multiple realizations of $V_m$')\n",
        "plt.xlabel('time (s)')\n",
        "plt.ylabel('$V_m$ (V)')\n",
        "\n",
        "# Loop for step_end steps\n",
        "for step in range(step_end):\n",
        "\n",
        "  # Compute value of t\n",
        "  t = step * dt\n",
        "\n",
        "  # Loop for n simulations\n",
        "  for j in range(0, n):\n",
        "\n",
        "    # Compute value of i at this time step\n",
        "    i = i_mean * (1 + 0.1 * (t_max/dt)**(0.5) * (2* np.random.random() - 1))\n",
        "\n",
        "    # Compute value of v for this simulation\n",
        "    v_n[j] = v_n[j] + (dt / tau) * (el - v_n[j] + r*i)\n",
        "\n",
        "  # Compute sample mean\n",
        "  v_mean = sum(v_n) / n\n",
        "\n",
        "  # Initialize a list `v_var_n` with the contribution of each V_n(t) to\n",
        "  # Var(t) with a list comprehension over values of v_n\n",
        "  v_var_n = ...\n",
        "\n",
        "  # Compute sample variance v_var by summing the values of v_var_n with sum and dividing by n-1\n",
        "  v_var = ...\n",
        "\n",
        "  # Compute the standard deviation v_std with the function np.sqrt\n",
        "  v_std = ...\n",
        "\n",
        "  # Plot simulations\n",
        "  plt.plot(n*[t], v_n, 'k.', alpha=0.1)\n",
        "\n",
        "  # Plot sample mean using alpha=0.8 and'C0.' for blue\n",
        "  plt.plot(t, v_mean, 'C0.', alpha=0.8, markersize=10)\n",
        "\n",
        "  # Plot mean + standard deviation with alpha=0.8 and argument 'C7.'\n",
        "  plt.plot(...)\n",
        "\n",
        "  # Plot mean - standard deviation with alpha=0.8 and argument 'C7.'\n",
        "  plt.plot(...)\n",
        "\n",
        "\n",
        "# Display plot\n",
        "plt.show()"
      ]
    },
    {
      "cell_type": "markdown",
      "metadata": {
        "execution": {},
        "id": "Ar4YdRomjMZX"
      },
      "source": [
        "[*Click for solution*](https://github.com/NeuromatchAcademy/precourse/tree/main/tutorials/W0D1_PythonWorkshop1/solutions/W0D1_Tutorial1_Solution_c05a930d.py)\n",
        "\n",
        "*Example output:*\n",
        "\n",
        "<img alt='Solution hint' align='left' width=778.0 height=577.0 src=https://raw.githubusercontent.com/NeuromatchAcademy/precourse/main/tutorials/W0D1_PythonWorkshop1/static/W0D1_Tutorial1_Solution_c05a930d_0.png>\n",
        "\n"
      ]
    },
    {
      "cell_type": "code",
      "execution_count": null,
      "metadata": {
        "cellView": "form",
        "execution": {},
        "id": "nyPCHIaRjMZX"
      },
      "outputs": [],
      "source": [
        "# @title Submit your feedback\n",
        "content_review(f\"{feedback_prefix}_Plotting_sample_standard_deviation_Exercise\")"
      ]
    },
    {
      "cell_type": "markdown",
      "metadata": {
        "execution": {},
        "id": "YrFimReUjMZX"
      },
      "source": [
        "---\n",
        "# Section 6: Using NumPy\n"
      ]
    },
    {
      "cell_type": "code",
      "execution_count": null,
      "metadata": {
        "cellView": "form",
        "execution": {},
        "id": "9hUHddOhjMZX"
      },
      "outputs": [],
      "source": [
        "# @title Video 9: Using NumPy\n",
        "from ipywidgets import widgets\n",
        "from IPython.display import YouTubeVideo\n",
        "from IPython.display import IFrame\n",
        "from IPython.display import display\n",
        "\n",
        "\n",
        "class PlayVideo(IFrame):\n",
        "  def __init__(self, id, source, page=1, width=400, height=300, **kwargs):\n",
        "    self.id = id\n",
        "    if source == 'Bilibili':\n",
        "      src = f'https://player.bilibili.com/player.html?bvid={id}&page={page}'\n",
        "    elif source == 'Osf':\n",
        "      src = f'https://mfr.ca-1.osf.io/render?url=https://osf.io/download/{id}/?direct%26mode=render'\n",
        "    super(PlayVideo, self).__init__(src, width, height, **kwargs)\n",
        "\n",
        "\n",
        "def display_videos(video_ids, W=400, H=300, fs=1):\n",
        "  tab_contents = []\n",
        "  for i, video_id in enumerate(video_ids):\n",
        "    out = widgets.Output()\n",
        "    with out:\n",
        "      if video_ids[i][0] == 'Youtube':\n",
        "        video = YouTubeVideo(id=video_ids[i][1], width=W,\n",
        "                             height=H, fs=fs, rel=0)\n",
        "        print(f'Video available at https://youtube.com/watch?v={video.id}')\n",
        "      else:\n",
        "        video = PlayVideo(id=video_ids[i][1], source=video_ids[i][0], width=W,\n",
        "                          height=H, fs=fs, autoplay=False)\n",
        "        if video_ids[i][0] == 'Bilibili':\n",
        "          print(f'Video available at https://www.bilibili.com/video/{video.id}')\n",
        "        elif video_ids[i][0] == 'Osf':\n",
        "          print(f'Video available at https://osf.io/{video.id}')\n",
        "      display(video)\n",
        "    tab_contents.append(out)\n",
        "  return tab_contents\n",
        "\n",
        "\n",
        "video_ids = [('Youtube', 'OIzSQvMbe2k'), ('Bilibili', 'BV1wa4y1a7Xq')]\n",
        "tab_contents = display_videos(video_ids, W=854, H=480)\n",
        "tabs = widgets.Tab()\n",
        "tabs.children = tab_contents\n",
        "for i in range(len(tab_contents)):\n",
        "  tabs.set_title(i, video_ids[i][0])\n",
        "display(tabs)"
      ]
    },
    {
      "cell_type": "code",
      "execution_count": null,
      "metadata": {
        "cellView": "form",
        "execution": {},
        "id": "_73MJeR-jMZX"
      },
      "outputs": [],
      "source": [
        "# @title Submit your feedback\n",
        "content_review(f\"{feedback_prefix}_Using_NumPy_Video\")"
      ]
    },
    {
      "cell_type": "markdown",
      "metadata": {
        "execution": {},
        "id": "zveQymjejMZY"
      },
      "source": [
        "![NumPy package](https://github.com/NeuromatchAcademy/precourse/blob/main/tutorials/W0D1_PythonWorkshop1/static/numpy_logo_small.png?raw=True)\n",
        "\n",
        "<br>\n",
        "\n",
        "The next set of exercises introduces `np.array`, the workhorse from the scientific computation package [NumPy](https://numpy.org). Numpy arrays the default for numerical data storage and computation and will separate computing steps from plotting.\n",
        "\n",
        "We updated plots inside the main loop in the previous exercises and stored intermediate results in lists for plotting them. The purpose was to simplify earlier exercises as much as possible. However, there are very few scenarios where this technique is necessary, and you should avoid it in the future. Using numpy arrays will significantly simplify our coding narrative by computing inside the main loop and plotting afterward.\n",
        "\n",
        "Lists are much more natural for storing data for other purposes than computation. For example, lists are handy for storing numerical indexes and text."
      ]
    },
    {
      "cell_type": "code",
      "execution_count": null,
      "metadata": {
        "cellView": "form",
        "execution": {},
        "id": "FXD1i8-_jMZY"
      },
      "outputs": [],
      "source": [
        "# @title Video 10: Nano recap of using NumPy\n",
        "from ipywidgets import widgets\n",
        "from IPython.display import YouTubeVideo\n",
        "from IPython.display import IFrame\n",
        "from IPython.display import display\n",
        "\n",
        "\n",
        "class PlayVideo(IFrame):\n",
        "  def __init__(self, id, source, page=1, width=400, height=300, **kwargs):\n",
        "    self.id = id\n",
        "    if source == 'Bilibili':\n",
        "      src = f'https://player.bilibili.com/player.html?bvid={id}&page={page}'\n",
        "    elif source == 'Osf':\n",
        "      src = f'https://mfr.ca-1.osf.io/render?url=https://osf.io/download/{id}/?direct%26mode=render'\n",
        "    super(PlayVideo, self).__init__(src, width, height, **kwargs)\n",
        "\n",
        "\n",
        "def display_videos(video_ids, W=400, H=300, fs=1):\n",
        "  tab_contents = []\n",
        "  for i, video_id in enumerate(video_ids):\n",
        "    out = widgets.Output()\n",
        "    with out:\n",
        "      if video_ids[i][0] == 'Youtube':\n",
        "        video = YouTubeVideo(id=video_ids[i][1], width=W,\n",
        "                             height=H, fs=fs, rel=0)\n",
        "        print(f'Video available at https://youtube.com/watch?v={video.id}')\n",
        "      else:\n",
        "        video = PlayVideo(id=video_ids[i][1], source=video_ids[i][0], width=W,\n",
        "                          height=H, fs=fs, autoplay=False)\n",
        "        if video_ids[i][0] == 'Bilibili':\n",
        "          print(f'Video available at https://www.bilibili.com/video/{video.id}')\n",
        "        elif video_ids[i][0] == 'Osf':\n",
        "          print(f'Video available at https://osf.io/{video.id}')\n",
        "      display(video)\n",
        "    tab_contents.append(out)\n",
        "  return tab_contents\n",
        "\n",
        "\n",
        "video_ids = [('Youtube', 'ewyHKKa2_OU'), ('Bilibili', 'BV1of4y197jo')]\n",
        "tab_contents = display_videos(video_ids, W=854, H=480)\n",
        "tabs = widgets.Tab()\n",
        "tabs.children = tab_contents\n",
        "for i in range(len(tab_contents)):\n",
        "  tabs.set_title(i, video_ids[i][0])\n",
        "display(tabs)"
      ]
    },
    {
      "cell_type": "code",
      "execution_count": null,
      "metadata": {
        "cellView": "form",
        "execution": {},
        "id": "GrNb4WYPjMZY"
      },
      "outputs": [],
      "source": [
        "# @title Submit your feedback\n",
        "content_review(f\"{feedback_prefix}_Nano_recap_of_using_NumPy_Video\")"
      ]
    },
    {
      "cell_type": "markdown",
      "metadata": {
        "execution": {},
        "id": "BN7g5T6ljMZY"
      },
      "source": [
        "## Coding Exercise 11: Rewriting with NumPy\n",
        "\n",
        "Rewrite the single neuron plot with random input from _Exercise 7_ with numpy arrays.\n",
        "\n",
        "The time range, voltage values, and synaptic current are initialized or pre-computed as numpy arrays before numerical integration. We use `np.linspace` to initialize a numpy array `t_range` with `num=step_end=150` values from `0` to `t_max`\n",
        "We use `np.ones` to initialize a numpy array `v` with `step_end + 1` leak potential values `el`. You will pre-compute `step_end` synaptic current values in numpy array `i` with `np.random.random(step_end)` for `step_end` random numbers. Since `v[0]=el`, we should iterate for `step_end` steps but skip `step=0`."
      ]
    },
    {
      "cell_type": "code",
      "execution_count": null,
      "metadata": {
        "execution": {},
        "id": "r4KwFF11jMZY"
      },
      "outputs": [],
      "source": [
        "#################################################\n",
        "## TODO for students: fill out code to rewrite simulation in numpy##\n",
        "# Fill out code and comment or remove the next line\n",
        "raise NotImplementedError(\"Student exercise: You need to rewrite simulation in numpy\")\n",
        "#################################################\n",
        "\n",
        "# Set random number generator\n",
        "np.random.seed(2020)\n",
        "\n",
        "# Initialize step_end, t_range, v\n",
        "step_end = int(t_max / dt) - 1\n",
        "t_range = np.linspace(0, t_max, num=step_end, endpoint=False)\n",
        "v = el * np.ones(step_end)\n",
        "\n",
        "# Simulate current over time\n",
        "i = ...\n",
        "\n",
        "# Loop for step_end steps\n",
        "for step in range(1, step_end):\n",
        "\n",
        "  # Compute v as function of i\n",
        "  v[step] = ...\n",
        "\n",
        "\n",
        "# Plot membrane potential\n",
        "plt.figure()\n",
        "plt.title('$V_m$ with random I(t)')\n",
        "plt.xlabel('time (s)')\n",
        "plt.ylabel('$V_m$ (V)')\n",
        "\n",
        "plt.plot(t_range, v, 'k.')\n",
        "plt.show()"
      ]
    },
    {
      "cell_type": "markdown",
      "metadata": {
        "execution": {},
        "id": "H-pEHBL2jMZY"
      },
      "source": [
        "[*Click for solution*](https://github.com/NeuromatchAcademy/precourse/tree/main/tutorials/W0D1_PythonWorkshop1/solutions/W0D1_Tutorial1_Solution_66c71ad3.py)\n",
        "\n",
        "*Example output:*\n",
        "\n",
        "<img alt='Solution hint' align='left' width=778.0 height=577.0 src=https://raw.githubusercontent.com/NeuromatchAcademy/precourse/main/tutorials/W0D1_PythonWorkshop1/static/W0D1_Tutorial1_Solution_66c71ad3_0.png>\n",
        "\n"
      ]
    },
    {
      "cell_type": "code",
      "execution_count": null,
      "metadata": {
        "cellView": "form",
        "execution": {},
        "id": "LvEhXxZ3jMZZ"
      },
      "outputs": [],
      "source": [
        "# @title Submit your feedback\n",
        "content_review(f\"{feedback_prefix}_Rewriting_with_NumPy_Exercise\")"
      ]
    },
    {
      "cell_type": "markdown",
      "metadata": {
        "execution": {},
        "id": "BgTjldxcjMZZ"
      },
      "source": [
        "## Coding Exercise 12: Using enumerate & indexing\n",
        "Let's practice using `enumerate` to iterate over the indexes and values of the synaptic current array `i`. We want to get the step and the value of i at that step `i_step`\n"
      ]
    },
    {
      "cell_type": "code",
      "execution_count": null,
      "metadata": {
        "execution": {},
        "id": "kPVfop6ajMZg"
      },
      "outputs": [],
      "source": [
        "#################################################\n",
        "## TODO for students: fill out code to rewrite simulation in numpy##\n",
        "# Fill out code and comment or remove the next line\n",
        "raise NotImplementedError(\"Student exercise: You need to rewrite simulation in numpy\")\n",
        "#################################################\n",
        "\n",
        "# Set random number generator\n",
        "np.random.seed(2020)\n",
        "\n",
        "# Initialize step_end, t_range, v\n",
        "step_end = int(t_max / dt) - 1\n",
        "t_range = np.linspace(0, t_max, num=step_end, endpoint=False)\n",
        "v = el * np.ones(step_end)\n",
        "\n",
        "# Simulate current over time\n",
        "i = i_mean * (1 + 0.1 * (t_max/dt) ** (0.5) * (2 * np.random.random(step_end) - 1))\n",
        "\n",
        "# Loop for step_end values of i using enumerate\n",
        "for step, i_step in enumerate(i):\n",
        "\n",
        "  # Skip first iteration\n",
        "  if step==0:\n",
        "    continue\n",
        "\n",
        "  # Compute v as function of i using i_step\n",
        "  v[step] = ...\n",
        "\n",
        "# Plot figure\n",
        "plt.figure()\n",
        "plt.title('$V_m$ with random I(t)')\n",
        "plt.xlabel('time (s)')\n",
        "plt.ylabel('$V_m$ (V)')\n",
        "\n",
        "plt.plot(t_range, v, 'k')\n",
        "plt.show()"
      ]
    },
    {
      "cell_type": "markdown",
      "metadata": {
        "execution": {},
        "id": "eh-ouqiUjMZg"
      },
      "source": [
        "[*Click for solution*](https://github.com/NeuromatchAcademy/precourse/tree/main/tutorials/W0D1_PythonWorkshop1/solutions/W0D1_Tutorial1_Solution_40b5ed28.py)\n",
        "\n",
        "*Example output:*\n",
        "\n",
        "<img alt='Solution hint' align='left' width=778.0 height=577.0 src=https://raw.githubusercontent.com/NeuromatchAcademy/precourse/main/tutorials/W0D1_PythonWorkshop1/static/W0D1_Tutorial1_Solution_40b5ed28_0.png>\n",
        "\n"
      ]
    },
    {
      "cell_type": "code",
      "execution_count": null,
      "metadata": {
        "cellView": "form",
        "execution": {},
        "id": "OwYQDjg-jMZh"
      },
      "outputs": [],
      "source": [
        "# @title Submit your feedback\n",
        "content_review(f\"{feedback_prefix}_Using_enumerate_and_indexing_Exercise\")"
      ]
    },
    {
      "cell_type": "markdown",
      "metadata": {
        "execution": {},
        "id": "_KT_2FzljMZi"
      },
      "source": [
        "---\n",
        "# Section 7: Aggregation"
      ]
    },
    {
      "cell_type": "code",
      "execution_count": null,
      "metadata": {
        "cellView": "form",
        "execution": {},
        "id": "6InB-RCWjMZi"
      },
      "outputs": [],
      "source": [
        "# @title Video 11: Aggregation\n",
        "from ipywidgets import widgets\n",
        "from IPython.display import YouTubeVideo\n",
        "from IPython.display import IFrame\n",
        "from IPython.display import display\n",
        "\n",
        "\n",
        "class PlayVideo(IFrame):\n",
        "  def __init__(self, id, source, page=1, width=400, height=300, **kwargs):\n",
        "    self.id = id\n",
        "    if source == 'Bilibili':\n",
        "      src = f'https://player.bilibili.com/player.html?bvid={id}&page={page}'\n",
        "    elif source == 'Osf':\n",
        "      src = f'https://mfr.ca-1.osf.io/render?url=https://osf.io/download/{id}/?direct%26mode=render'\n",
        "    super(PlayVideo, self).__init__(src, width, height, **kwargs)\n",
        "\n",
        "\n",
        "def display_videos(video_ids, W=400, H=300, fs=1):\n",
        "  tab_contents = []\n",
        "  for i, video_id in enumerate(video_ids):\n",
        "    out = widgets.Output()\n",
        "    with out:\n",
        "      if video_ids[i][0] == 'Youtube':\n",
        "        video = YouTubeVideo(id=video_ids[i][1], width=W,\n",
        "                             height=H, fs=fs, rel=0)\n",
        "        print(f'Video available at https://youtube.com/watch?v={video.id}')\n",
        "      else:\n",
        "        video = PlayVideo(id=video_ids[i][1], source=video_ids[i][0], width=W,\n",
        "                          height=H, fs=fs, autoplay=False)\n",
        "        if video_ids[i][0] == 'Bilibili':\n",
        "          print(f'Video available at https://www.bilibili.com/video/{video.id}')\n",
        "        elif video_ids[i][0] == 'Osf':\n",
        "          print(f'Video available at https://osf.io/{video.id}')\n",
        "      display(video)\n",
        "    tab_contents.append(out)\n",
        "  return tab_contents\n",
        "\n",
        "\n",
        "video_ids = [('Youtube', 'E6FyhSsO4Vg'), ('Bilibili', 'BV1Uk4y1q76p')]\n",
        "tab_contents = display_videos(video_ids, W=854, H=480)\n",
        "tabs = widgets.Tab()\n",
        "tabs.children = tab_contents\n",
        "for i in range(len(tab_contents)):\n",
        "  tabs.set_title(i, video_ids[i][0])\n",
        "display(tabs)"
      ]
    },
    {
      "cell_type": "code",
      "execution_count": null,
      "metadata": {
        "cellView": "form",
        "execution": {},
        "id": "pzGLLPW0jMZj"
      },
      "outputs": [],
      "source": [
        "# @title Submit your feedback\n",
        "content_review(f\"{feedback_prefix}_Aggregation_Video\")"
      ]
    },
    {
      "cell_type": "code",
      "execution_count": null,
      "metadata": {
        "cellView": "form",
        "execution": {},
        "id": "yf5TjXkUjMZj"
      },
      "outputs": [],
      "source": [
        "# @title Video 12: Nano recap of aggregation\n",
        "from ipywidgets import widgets\n",
        "from IPython.display import YouTubeVideo\n",
        "from IPython.display import IFrame\n",
        "from IPython.display import display\n",
        "\n",
        "\n",
        "class PlayVideo(IFrame):\n",
        "  def __init__(self, id, source, page=1, width=400, height=300, **kwargs):\n",
        "    self.id = id\n",
        "    if source == 'Bilibili':\n",
        "      src = f'https://player.bilibili.com/player.html?bvid={id}&page={page}'\n",
        "    elif source == 'Osf':\n",
        "      src = f'https://mfr.ca-1.osf.io/render?url=https://osf.io/download/{id}/?direct%26mode=render'\n",
        "    super(PlayVideo, self).__init__(src, width, height, **kwargs)\n",
        "\n",
        "\n",
        "def display_videos(video_ids, W=400, H=300, fs=1):\n",
        "  tab_contents = []\n",
        "  for i, video_id in enumerate(video_ids):\n",
        "    out = widgets.Output()\n",
        "    with out:\n",
        "      if video_ids[i][0] == 'Youtube':\n",
        "        video = YouTubeVideo(id=video_ids[i][1], width=W,\n",
        "                             height=H, fs=fs, rel=0)\n",
        "        print(f'Video available at https://youtube.com/watch?v={video.id}')\n",
        "      else:\n",
        "        video = PlayVideo(id=video_ids[i][1], source=video_ids[i][0], width=W,\n",
        "                          height=H, fs=fs, autoplay=False)\n",
        "        if video_ids[i][0] == 'Bilibili':\n",
        "          print(f'Video available at https://www.bilibili.com/video/{video.id}')\n",
        "        elif video_ids[i][0] == 'Osf':\n",
        "          print(f'Video available at https://osf.io/{video.id}')\n",
        "      display(video)\n",
        "    tab_contents.append(out)\n",
        "  return tab_contents\n",
        "\n",
        "\n",
        "video_ids = [('Youtube', '1ME-0rJXLFg'), ('Bilibili', 'BV1vA411e7w4')]\n",
        "tab_contents = display_videos(video_ids, W=854, H=480)\n",
        "tabs = widgets.Tab()\n",
        "tabs.children = tab_contents\n",
        "for i in range(len(tab_contents)):\n",
        "  tabs.set_title(i, video_ids[i][0])\n",
        "display(tabs)"
      ]
    },
    {
      "cell_type": "code",
      "execution_count": null,
      "metadata": {
        "cellView": "form",
        "execution": {},
        "id": "DGH4M9kkjMZj"
      },
      "outputs": [],
      "source": [
        "# @title Submit your feedback\n",
        "content_review(f\"{feedback_prefix}_Nano_recap_of_aggregation_Video\")"
      ]
    },
    {
      "cell_type": "markdown",
      "metadata": {
        "execution": {},
        "id": "bsydkmrMjMZj"
      },
      "source": [
        "## Coding Exercise 13: Using 2D arrays\n",
        "\n",
        "Plot multiple realizations ($N=50$) of $V(t)$ by storing the voltage of each neuron at time $t$ in a numpy array.\n",
        "\n",
        "We first initialize a numpy array `v_n` of shape `(n, step_end)` with membrane leak potential values `el`. We pre-compute synaptic current values in numpy array `i` of shape `(n, step_end)`. After computing v, we plot results with a single plot command, by providing `v_n.T` to the plot function. `v_n.T` is the transposed version of `v_n` (with rows and columns swapped)."
      ]
    },
    {
      "cell_type": "code",
      "execution_count": null,
      "metadata": {
        "execution": {},
        "id": "j2arwzFljMZj"
      },
      "outputs": [],
      "source": [
        "#################################################\n",
        "## TODO for students: fill out code to use 2d arrays ##\n",
        "# Fill out code and comment or remove the next line\n",
        "raise NotImplementedError(\"Student exercise: You need to rewrite code to use 2d arrays\")\n",
        "#################################################\n",
        "\n",
        "# Set random number generator\n",
        "np.random.seed(2020)\n",
        "\n",
        "# Initialize step_end, n, t_range, v and i\n",
        "step_end = int(t_max / dt)\n",
        "n = 50\n",
        "t_range = np.linspace(0, t_max, num=step_end)\n",
        "v_n = el * np.ones([n, step_end])\n",
        "i = ...\n",
        "\n",
        "# Loop for step_end - 1 steps\n",
        "for step in range(1, step_end):\n",
        "\n",
        "   # Compute v_n\n",
        "   v_n[:, step] = ...\n",
        "\n",
        "# Plot figure\n",
        "plt.figure()\n",
        "plt.title('Multiple realizations of $V_m$')\n",
        "plt.xlabel('time (s)')\n",
        "plt.ylabel('$V_m$ (V)')\n",
        "\n",
        "plt.plot(...)\n",
        "plt.show()"
      ]
    },
    {
      "cell_type": "markdown",
      "metadata": {
        "execution": {},
        "id": "-KnofBrIjMZj"
      },
      "source": [
        "[*Click for solution*](https://github.com/NeuromatchAcademy/precourse/tree/main/tutorials/W0D1_PythonWorkshop1/solutions/W0D1_Tutorial1_Solution_93456241.py)\n",
        "\n",
        "*Example output:*\n",
        "\n",
        "<img alt='Solution hint' align='left' width=778.0 height=577.0 src=https://raw.githubusercontent.com/NeuromatchAcademy/precourse/main/tutorials/W0D1_PythonWorkshop1/static/W0D1_Tutorial1_Solution_93456241_0.png>\n",
        "\n"
      ]
    },
    {
      "cell_type": "code",
      "execution_count": null,
      "metadata": {
        "cellView": "form",
        "execution": {},
        "id": "hBlpPdtQjMZj"
      },
      "outputs": [],
      "source": [
        "# @title Submit your feedback\n",
        "content_review(f\"{feedback_prefix}_Using_2D_arrays_Exercise\")"
      ]
    },
    {
      "cell_type": "markdown",
      "metadata": {
        "execution": {},
        "id": "fNROPVCMjMZk"
      },
      "source": [
        "## Coding Exercise 14: Plotting sample mean and standard deviation\n",
        "\n",
        "Add sample mean $\\left\\langle V(t)\\right\\rangle$ and standard deviation $\\sigma(t)\\equiv\\sqrt{\\text{Var}\\left(t\\right)}$ to the plot.\n",
        "\n",
        "`np.mean(v_n, axis=0)` computes mean over rows, i.e. mean for each neuron\n",
        "\n",
        "`np.mean(v_n, axis=1)` computes mean over columns (axis `1`), i.e. mean for each time step\n",
        "\n",
        "We will use label argument in plt.plot to specify labels in each trace.  We label only the last voltage trace to avoid labeling all N of them."
      ]
    },
    {
      "cell_type": "code",
      "execution_count": null,
      "metadata": {
        "execution": {},
        "id": "_3vDVmmTjMZk"
      },
      "outputs": [],
      "source": [
        "#################################################\n",
        "## TODO for students: fill out code to compute sample mean and standard deviation ##\n",
        "# Fill out code and comment or remove the next line\n",
        "raise NotImplementedError(\"Student exercise: You need to  fill out code to compute sample mean and standard deviation\")\n",
        "#################################################\n",
        "\n",
        "# Set random number generator\n",
        "np.random.seed(2020)\n",
        "\n",
        "# Initialize step_end, n, t_range, v and i\n",
        "step_end = int(t_max / dt)\n",
        "n = 50\n",
        "t_range = np.linspace(0, t_max, num=step_end)\n",
        "v_n = el * np.ones([n, step_end])\n",
        "i = i_mean * (1 + 0.1 * (t_max / dt)**(0.5) * (2 * np.random.random([n, step_end]) - 1))\n",
        "\n",
        "# Loop for step_end - 1 steps\n",
        "for step in range(1, step_end):\n",
        "\n",
        "  # Compute v_n\n",
        "  v_n[:, step] = v_n[:, step - 1] + (dt / tau) * (el - v_n[:, step - 1] + r * i[:, step])\n",
        "\n",
        "# Compute sample mean (use np.mean)\n",
        "v_mean = ...\n",
        "\n",
        "# Compute sample standard deviation (use np.std)\n",
        "v_std = ...\n",
        "\n",
        "# Plot figure\n",
        "plt.figure()\n",
        "plt.title('Multiple realizations of $V_m$')\n",
        "plt.xlabel('time (s)')\n",
        "plt.ylabel('$V_m$ (V)')\n",
        "\n",
        "plt.plot(t_range, v_n.T, 'k', alpha=0.3)\n",
        "\n",
        "plt.plot(t_range, v_n[-1], 'k', alpha=0.3, label='V(t)')\n",
        "plt.plot(t_range, v_mean, 'C0', alpha=0.8, label='mean')\n",
        "plt.plot(t_range, v_mean+v_std, 'C7', alpha=0.8)\n",
        "plt.plot(t_range, v_mean-v_std, 'C7', alpha=0.8, label='mean $\\pm$ std')\n",
        "\n",
        "plt.legend()\n",
        "plt.show()"
      ]
    },
    {
      "cell_type": "markdown",
      "metadata": {
        "execution": {},
        "id": "T8Hem80jjMZk"
      },
      "source": [
        "[*Click for solution*](https://github.com/NeuromatchAcademy/precourse/tree/main/tutorials/W0D1_PythonWorkshop1/solutions/W0D1_Tutorial1_Solution_3c8e55c9.py)\n",
        "\n",
        "*Example output:*\n",
        "\n",
        "<img alt='Solution hint' align='left' width=778.0 height=577.0 src=https://raw.githubusercontent.com/NeuromatchAcademy/precourse/main/tutorials/W0D1_PythonWorkshop1/static/W0D1_Tutorial1_Solution_3c8e55c9_0.png>\n",
        "\n"
      ]
    },
    {
      "cell_type": "code",
      "execution_count": null,
      "metadata": {
        "cellView": "form",
        "execution": {},
        "id": "VdyKaTp6jMZk"
      },
      "outputs": [],
      "source": [
        "# @title Submit your feedback\n",
        "content_review(f\"{feedback_prefix}_Plotting_sample_mean_and_standard_deviation_Exercise\")"
      ]
    },
    {
      "cell_type": "markdown",
      "metadata": {
        "execution": {},
        "id": "3lNkx_0BjMZk"
      },
      "source": [
        "---\n",
        "# Summary\n"
      ]
    },
    {
      "cell_type": "code",
      "execution_count": null,
      "metadata": {
        "cellView": "form",
        "execution": {},
        "id": "SvpBPrqKjMZk"
      },
      "outputs": [],
      "source": [
        "# @title Video 13: Overview\n",
        "from ipywidgets import widgets\n",
        "from IPython.display import YouTubeVideo\n",
        "from IPython.display import IFrame\n",
        "from IPython.display import display\n",
        "\n",
        "\n",
        "class PlayVideo(IFrame):\n",
        "  def __init__(self, id, source, page=1, width=400, height=300, **kwargs):\n",
        "    self.id = id\n",
        "    if source == 'Bilibili':\n",
        "      src = f'https://player.bilibili.com/player.html?bvid={id}&page={page}'\n",
        "    elif source == 'Osf':\n",
        "      src = f'https://mfr.ca-1.osf.io/render?url=https://osf.io/download/{id}/?direct%26mode=render'\n",
        "    super(PlayVideo, self).__init__(src, width, height, **kwargs)\n",
        "\n",
        "\n",
        "def display_videos(video_ids, W=400, H=300, fs=1):\n",
        "  tab_contents = []\n",
        "  for i, video_id in enumerate(video_ids):\n",
        "    out = widgets.Output()\n",
        "    with out:\n",
        "      if video_ids[i][0] == 'Youtube':\n",
        "        video = YouTubeVideo(id=video_ids[i][1], width=W,\n",
        "                             height=H, fs=fs, rel=0)\n",
        "        print(f'Video available at https://youtube.com/watch?v={video.id}')\n",
        "      else:\n",
        "        video = PlayVideo(id=video_ids[i][1], source=video_ids[i][0], width=W,\n",
        "                          height=H, fs=fs, autoplay=False)\n",
        "        if video_ids[i][0] == 'Bilibili':\n",
        "          print(f'Video available at https://www.bilibili.com/video/{video.id}')\n",
        "        elif video_ids[i][0] == 'Osf':\n",
        "          print(f'Video available at https://osf.io/{video.id}')\n",
        "      display(video)\n",
        "    tab_contents.append(out)\n",
        "  return tab_contents\n",
        "\n",
        "\n",
        "video_ids = [('Youtube', 'VqAznnSAqmM'), ('Bilibili', 'BV1Fv411q7tE')]\n",
        "tab_contents = display_videos(video_ids, W=854, H=480)\n",
        "tabs = widgets.Tab()\n",
        "tabs.children = tab_contents\n",
        "for i in range(len(tab_contents)):\n",
        "  tabs.set_title(i, video_ids[i][0])\n",
        "display(tabs)"
      ]
    },
    {
      "cell_type": "code",
      "execution_count": null,
      "metadata": {
        "cellView": "form",
        "execution": {},
        "id": "_T7w8FuwjMZk"
      },
      "outputs": [],
      "source": [
        "# @title Submit your feedback\n",
        "content_review(f\"{feedback_prefix}_Overview_Video\")"
      ]
    }
  ],
  "metadata": {
    "colab": {
      "name": "W0D1_Tutorial1",
      "provenance": [],
      "toc_visible": true,
      "include_colab_link": true
    },
    "kernel": {
      "display_name": "Python 3",
      "language": "python",
      "name": "python3"
    },
    "kernelspec": {
      "display_name": "Python 3",
      "language": "python",
      "name": "python3"
    },
    "language_info": {
      "codemirror_mode": {
        "name": "ipython",
        "version": 3
      },
      "file_extension": ".py",
      "mimetype": "text/x-python",
      "name": "python",
      "nbconvert_exporter": "python",
      "pygments_lexer": "ipython3",
      "version": "3.9.17"
    },
    "widgets": {
      "application/vnd.jupyter.widget-state+json": {
        "2fa0eaf948c7495c9fae0aacdab24ad7": {
          "model_module": "@jupyter-widgets/controls",
          "model_name": "TabModel",
          "model_module_version": "1.5.0",
          "state": {
            "_dom_classes": [],
            "_model_module": "@jupyter-widgets/controls",
            "_model_module_version": "1.5.0",
            "_model_name": "TabModel",
            "_titles": {
              "0": "Youtube",
              "1": "Bilibili"
            },
            "_view_count": null,
            "_view_module": "@jupyter-widgets/controls",
            "_view_module_version": "1.5.0",
            "_view_name": "TabView",
            "box_style": "",
            "children": [
              "IPY_MODEL_fd84c99693f44d99987fe0825960e20a",
              "IPY_MODEL_52b6b7b5bd5540b68f28b28a4a66d06c"
            ],
            "layout": "IPY_MODEL_076d01987f734770b6297663a1ca42bb",
            "selected_index": 0
          }
        },
        "fd84c99693f44d99987fe0825960e20a": {
          "model_module": "@jupyter-widgets/output",
          "model_name": "OutputModel",
          "model_module_version": "1.0.0",
          "state": {
            "_dom_classes": [],
            "_model_module": "@jupyter-widgets/output",
            "_model_module_version": "1.0.0",
            "_model_name": "OutputModel",
            "_view_count": null,
            "_view_module": "@jupyter-widgets/output",
            "_view_module_version": "1.0.0",
            "_view_name": "OutputView",
            "layout": "IPY_MODEL_d4d6ad499e4d44c6ac9e7dde0407d37e",
            "msg_id": "",
            "outputs": [
              {
                "output_type": "stream",
                "name": "stdout",
                "text": [
                  "Video available at https://youtube.com/watch?v=Bwm6rjRpVw8\n"
                ]
              },
              {
                "output_type": "display_data",
                "data": {
                  "text/plain": "<IPython.lib.display.YouTubeVideo at 0x7e2c2435bb50>",
                  "text/html": "\n        <iframe\n            width=\"854\"\n            height=\"480\"\n            src=\"https://www.youtube.com/embed/Bwm6rjRpVw8?fs=1&rel=0\"\n            frameborder=\"0\"\n            allowfullscreen\n            \n        ></iframe>\n        ",
                  "image/jpeg": "/9j/4AAQSkZJRgABAQAAAQABAAD/2wCEAAUDBAoICA0KCggKCgoKCgsICAgKCggICAgICAoICAgICgoIChANCAoOCgoIDRUNDxERExMTCgsWGBYSGBASExIBBQUFCAcIDwkIDhIPDQ4SEhISEhISEhISEhISEhISEhUSEhISEhISEhISEhISEhISEhISEhISEhISEhISEhISEv/AABEIAWgB4AMBIgACEQEDEQH/xAAdAAEAAgIDAQEAAAAAAAAAAAAABQYEBwEDCAIJ/8QAXhAAAQQBAQMECgoNBg0EAgMAAQACAwQRBQYSIQcTMUEIFBYiUVJhcZLSGDJUVYGRk6HU8BUjNDZzlKSxsrTB0eIJQlNydeEXJDM1N0NidIKis7XxdoOF00SEJWOj/8QAGgEBAAMBAQEAAAAAAAAAAAAAAAECAwQFBv/EACoRAQEAAgEDAwMEAgMAAAAAAAABAhEDBCExEhNBBVGBInGhscHhFEJh/9oADAMBAAIRAxEAPwDxkiIgIiICIiAiIgIiICIiAiIgIiICIiAiIgIiICIiAiIgIiICIiAiIgIiICIiAiIgIiICIiAiIgIiICIiAiIgIiICIiAiIgIiICIiAiIgIiICIiAiIgIiICIiAiIgIiICIiAiIgIiICIiAiIgIiICIiAiIgIiICIiAiIgIiICIiAiIgIiICIiAiIgIiICIiAiIgIiICIiAin+5Sfx4vSf6idyk/jxek/1EEAin+5Sfx4vSf6idyk/jxek/wBRBAIp/uUn8eL0n+oncpP48XpP9RBAIp/uUn8eL0n+oncpP48XpP8AUQQCKf7lJ/Hi9J/qJ3KT+PF6T/UQQCKf7lJ/Hi9J/qJ3KT+PF6T/AFEEAin+5Sfx4vSf6idyk/jxek/1EEAin+5Sfx4vSf6idyk/jxek/wBRBAIp/uUn8eL0n+oncpP48XpP9RBAIp/uUn8eL0n+oncpP48XpP8AUQQCKf7lJ/Hi9J/qJ3KT+PF6T/UQQCKf7lJ/Hi9J/qJ3KT+PF6T/AFEEAin+5Sfx4vSf6idyk/jxek/1EEAin+5Sfx4vSf6idyk/jxek/wBRBAIp/uUn8eL0n+oncpP48XpP9RBAIp/uUn8eL0n+oncpP48XpP8AUQQCKf7lJ/Hi9J/qJ3KT+PF6T/UQQCKf7lJ/Hi9J/qJ3KT+PF6T/AFEEAin+5Sfx4vSf6idyk/jxek/1EEAin+5Sfx4vSf6idyk/jxek/wBRBAIp/uUn8eL0n+oncpP48XpP9RBAIp/uUn8eL0n+oncpP48XpP8AUQQCKf7lJ/Hi9J/qJ3KT+PF6T/UQQCKf7lJ/Hi9J/qJ3KT+PF6T/AFEEAin+5Sfx4vSf6idyk/jxek/1EEAin+5Sfx4vSf6idyk/jxek/wBRBAIp/uUn8eL0n+oncpP48XpP9RBAIp/uUn8eL0n+oncpP48XpP8AUQQCKf7lJ/Hi9J/qJ3KT+PF6T/UQQCKf7lJ/Hi9J/qJ3KT+PF6T/AFEFzREVlRERAREQEREBERAREQEREBERAREQEREBERAREQEREBERAREQEREBERAREQEREBERAREQEREBERAREQEREBERAREQEREBERAREQEREBEWBrmo9qxh+5v5eGY3t3GQ52c4Pi/OiWeiq/dcPc5+U/gTuuHuc/KfwKDS0Iqv3XD3OflP4E7rh7nPyn8CGloRVfuuHuc/KfwJ3XD3OflP4ENLQiq/dcPc5+U/gTuuHuc/KfwIaWhFV+64e5z8p/AndcPc5+U/gQ0tCKr91w9zn5T+BO64e5z8p/AhpaEVX7rh7nPyn8Cd1w9zn5T+BDS0Iqv3XD3OflP4E7rh7nPyn8CGloRVfuuHuc/KfwJ3XD3OflP4ENLQiq/dcPc5+U/gTuuHuc/KfwIaWhFV+64e5z8p/AndcPc5+U/gQ0tCKr91w9zn5T+BO64e5z8p/AhpaEVX7rh7nPyn8Cd1w9zn5T+BDS0Iqv3XD3OflP4E7rh7nPyn8CGloRVfuuHuc/KfwJ3XD3OflP4ENLQiq/dcPc5+U/gTuuHuc/KfwIaWhFV+64e5z8p/AndcPc5+U/gQ0tCLqqTc5G1+Mb7GvxnON4B2M9fSu1SgREQEREBERAREQEREBERAREQEREBERAREQEREBQO3P3M38K39CVTygdufuZv4Vv6EqhKloiKEiIiAiIgIiICIvRPYR8mOlbS2r0eqVXWG14a8kAE9mvuOlkma85ryNLshrenKDzsi9buZyWm2+nLTvVJGSurvmkk1QxMkjeY3d9HZkw3eB74txjicKl9llyBwbLRQahp1qSfTrcva+7M6OSWCd8b7EO5LE1rZ4XxslIOMjm+JdvZAefEREBFbuSjk6v7T3XUtOjjfNHA63IJZWQsbBHJDC528/pO/NGMDJ4nwKA2i0qShcnqTbvO1Z5ak24d5nO15HwybrsDebvNOCgwEXrrsdKcT+SvXpHRRue2XUtyRzGue3GmacRuuIy3BJPBeRUBERAREQEREBERAREQEREBERAREQbI0j7ni/BR/oNWUsXSPueL8FH+g1ZSsgRERAiIgIiICIiAiIgIiICIiAiIgIiICIiAiIgKB25+5m/hW/oSqeUDtz9zN/Ct/QlUJUtERQkREQEREBERAXrv+TT+7tU/3ar/1bC8iL13/ACaf3dqn+7Vf+rYQaQt8mOs6zr1mGnpVuTnb9gCYwTR1Y2unlPOyzvaI4o8cd4njwAySAfVnZJbQ6Zs9p+zui3xDeZWs0nX68zGzB+lUqU+lzW5I8EhxdNzkfRvOgfj2pWmuULsr9pW2rNWCWnWbFYmrxzRVWunDIpXxtObL5GbxaBk7vmwvPe0OtWdRsvtW7EtixM7fmnme6SR5wGjLndQaA0AcAAAMAAIN/dnTyYVtD1Otb0+rHXo365ZzUDcQR3KpaJC0N71gkhkgcB/OLZT4V29hXyd0LrdR1rWK0U2mabWczcnYJIXThvbViXBPF0FeMcD7paR0LYcR7uOSgjjJqGhjh7d0jpdJjy3h7aZ0umyY696Rx6S1RfLrjYzk6o7PtJZf1U89qOO9eA10du+HOjxnErqlUZ9vGx444KCZ7BTbPTLupWq0GhQ077or2oPvQ82GMoTXqhi0xgDA7mo+dhAyeiEcOK1t2SPKPs9ZGp6dX2ViramL0sJ1gGAvM9a+11qfgwPzM2OYHj/rT0rI/k4/vqs/2NY/XtKWk+Wf75NU/tbUP1ywg9X9hjoI1Tk81WiZ2122792s+y8bzK7JdO0tj5iC4b240udgkA46R0qG2W292Bo6hBotXZpmoQvnjov1y3Xp23yzTPbD2yHWmmR8W+7JcwRADeLGEBoPz2NpxyUa/wDhdT+fStNBXlrk/wD870/9+q/9eJBtXsz+TOrs1r7G0Wc3Uu1hcjr7xc2tKJJIp4WFxJ5vvWPGTw5wgcGhXzkg5LtE2f2WbtTtLWNwzhr9N0w4MZZOS2pmPeDLEszAZcPJYyMglu8Dj6/lJ/8APGn/AO4SfrDlZOzExLyd6HJXH+Kh2nOaGjDWMfpU4g73A3AG5bggYJA4dCCC2B5TNj9qL0ek3tiKWli49tapcqGuHCxId2FkktStXlh3n7rQ4F4LntDgG5ctJdkZyXP2S1t9HnHTV5GC3QsOAEklWRz2NbLugN55j2PY4jAO6HYaHhoqXJ/DJJq9NkWedfeqshA9tzrp4mx4x17xC9Pfylk0Zv6YwEc62tafIOG8IpJYGwkjwbzJ8eYoLf8A4H9mp9itJ1HUIq+nwwVqOp6xeij5u3fiNKRrqnOsBeXT2pq5IaC927utw4tIxOSDanYjaq8dCh2Pgqtkgk7VszQVGW5mws3ntNiu42IZubDnh4lce8d3wOMw3ZM/6Kdn/wCvpX/aNQWo+wi+/rT/ADXv+23kFE5ZNkRoOvXNNbI6RlSw6OGR2OcdA8NlgL90AGTmns3sADOcABVFbZ7MD79tT/DxfqlVamQEREBERAREQEREGyNI+54vwUf6DVlLF0j7ni/BR/oNWUrIEREQIiICIiAi4Ll8GdoON4ZAyR5FG06diLBdcGQQ9uOGG5B3uOD5esdCyopc+T937VEylTca7EXwJW5xnzeXzeFfalAiIpQIiICIiAiIgIiICgdufuZv4Vv6EqnlA7c/czfwrf0JVCVLREUJEREBERAREQF6D7CzlT0zZe1ek1KWWNtmGCOAxwyT5dE+Vz8iMd7wc1efEQSm1txlnULM0ZJjmtTzRkjBMcsr3sJB6DukcFFoiD1T/Jw63Zj1u5SYwvqT0hZsO/mwT1ZWMrvyTgBzZ5mFoGXHcPQwrXHZh7dfZzauyWP3q1E/Yupj2pbVc4WJOnDt+y6wQ4dLOb8GVM8gHLVQ2T0G/DFUtP1m+HiG41sAqwbkTo6IJdNvuEcj5pThgyXhvUCtCINmdjTynDZPXmX5IXTV3wyU7sce7z5rTGOTfh33BpkbLFC7DiA4Nc3Lc7wv3ZG2Nh9Sit6ppWo3jrFqRk7aAhniounmnjddmk7Ypgtc6N078Nmxv4wMcF51RB6I5GuVbS9M2C1bRrMsrb1+S66rG2GR8bhZo0q0W9IBuszJFIOPQBnrWi9krjK2oVppCRHDagmkIGSI4pWPeQB0ndB4KLRBvvsz+U7TdqNRqT6bLJJHBVfBKZIpICJHTOeABIMuG6elS3Iby56aNCds3tNVls6Yctq2ow6SWqwv55scga4SbscnfMkjJc3g3dLQMebkQesdkNb5ONlrI1Ola1TV7kPf0q80UgFeYhzRIznataLIDj30jpC3Ac0bwBWgeWblDtbUavLqNoBheBFXrtJcyrVjLuZrtcQC/G85znYG897zhucCmIg9F8tfKxpeq7B6To1aaV16g6g63G6GSONoq6fbqzbsju9fiWVgGOkHK192Mm19TQdqamo3nvZWri0JXsY6V45+larx4Yzi7MkjBw8K1qiC/dkPtRW1raa7qFNzn1rMsb4XPY6J5ayvBE7LHcW98x3SqCiICIiAiIgIiICIiDZGkfc8X4KP9Bqyli6R9zxfgo/0GrKVkCIiIEREBY+oWBHGXOzgdOBk/EF3PeG9JwqxreobxwD3vVjBBwSOKrbpbGbfF7WHOwI2luAd/J4YdgDzedRksjyDlx4+U4PgP5l1Tu3jjw4+MZx5+td9ajJIcNaTjp6cebOOCr2nleS3tHQxzuHk4/u/YpSPVHtZjeBI6MjJAHgPQfhXQ/TZmZBjIGM9QOB18V1PqSMaHOYQ13QeOSPB5OkfGo9WNWuGU8ysynqLt8F5B/mjyZxxHgKtcEmRgnj8+Opa/eXMOCMZ/Ys2jfMZb0d6d4kZ3nDj3pOePT1q0mlL3XhFg0L3OYBYWFw3mZwQ9oxnzHiOCzlaKaERFKBERAREQEREBQO3P3M38K39CVTygdufuZv4Vv6EqhKloiKEiIiC07Acnmqa+ZRplCS2a4YbAjdE0xibfEZPOvbnPNv6M9CrEjC0kEEEEgggggjgQQeg5XoTsAtpu0trRWc4hmo1Jqu7nvefhAuxPPl3YJmD8LjrVC7J7Zr7E7XajXAIY6065Dww3mr4bdY1vhazniz/AICOkFBC0eTPWJ9Jdq8emzP05jXvddBj5sMheYpXYL98hr2uBIb1HwKoL9QuT3ZCCPZCHZyTdZNLoW7ahHAsfqUUrbUo4e6pJjvdOeK/Obky2TfquvVNMdG8OsXYq1hntZIohIO23EHBaY4myuI6e8KDr2v2E1LSIK89+jJVivMMtJ0hjBnja2KRzgxri5uGzQk7wGN8DpVaXoz+UB2mFvadlGN32rS6cVfmwAGMsWR21KW4H9C+o3HQObx4VUuTHscNodfrNtQVI69WRofBZuy9rtnYeh8cbWvlcwjBD9wNcDwJQagRbU5VuQDXtm4DZt02y1G4El2pILMERccDnRhskLc4G+9gblzRnJwqBshoE+q3oaNZrXWLUrYIGucI2GR5w0FzuDR5UEUrXySbEybR6zX0uGeOCS0ZQyaUOdGzmK81o7wZxOWxEcOshXil2NW0c2qv01tKLnYoo57Fgzx9pV45+c5oPmGd57ix32tgc7rxjJFj7HbY2zs/ynVNMtuidYrOsCV0DnSQnn9HtWWbjnsaT3krM5aOOUGo+VrYqTZ3WbGlzTMnkqmIPmjDmxv5+CGyN0P4jAlA49YKqq3F2aP386l/Wqf9uoqA2n5GtX0vRo9Xuww1as/N8xHNPEy5KZz9rY2tnf3yzMhb0hgcTjBCDXiK1cmfJ7qW0dvtXTajp5GgPmeXMigrxk7vOSyyENYOnAyXOwQ0OPBbU2i7EnaOlVksuOnyshifPKyK0/nBHE10j8c9CxpIaDw3kGldkNGdqWo1qTHtjfctQUmSOBLI32pWQNe4N4loLwTjjwVt5eeS6fZHUmULFqKy+Wqy6JIWyMYGSy2IAwiQZ3gYHHwd8FG8if3zaV/a+nfrtdekuzM5O9T2k21graZTdO9mjVnTSZbFBWjdd1MCSaWQhsY4Ow3Jc7dduhxGEHj5FuPlP7G3X9n6TrtiGvYrRjesSU5nTms0kDflZJGx+5k8XNDgOkkDitOtGTgcSeAHWSg4Rb02O7FLabUa4nNWCk14Do470xhsOaWhwJhijkfCeON2UMcCOICpHKxyQ6xsu5v2SpFkUjtyC5E9s9SZ4BduCSM/a34DiGSBjiGuIBAygoSK08mGwN7aS92jp7I32OafY3ZJGwt5uIsDzvP4Zy9vBXrY3sa9otUszwxVIomVJ5ac9yeZsdR1mu7m5YonMa59jDt4FzGFoLXAkHgg04i2RyvcietbLBsl+q015Hc3Hdrv5+qZSCeac7AdE8gEgPa3ew7GcHGt0Fu0zk11ezpT9Wh06V+nRNkfJdDohGxsB3ZSQX7/AHpz0BVFe2+Sf/Q3d/Aal/1nrxIgIiICIiDZGkfc8X4KP9Bqyli6R9zxfgo/0GrKVkCIiIF8yP3Rn+9fS6LoJjOOnHDz9SipiA1y+S7dBxgdOTx6eGOo8cfAo/TaMlk8G5A4E9WfgWNYBBxxJ4b2c5cT5TxW09hdLEddpxxPfHzkdHFcvUcnt47+XZ0vD7uer4iP2V2GG8Hy99wyOnGergevyq56fsxFE7IaRxz8J83Qs+o7d6AVJwyDHE/n/cvKz5ssru19DxcOHHNYxD29nYpcZjyR0Y/bjpXTd0SLgHRjgMdAPR1Kyic+X+5Y9gZH71nbrxW2p8xqnbzZVjmGWPvXNHR0ggdA8i1rvEHj09Getb32obiJ3g4/t+ZaR1GMNldjAGT5RknOPMvV6HkuWOq+f+pceOOe8ZrbP0a6WvaN7h7TjxwCeono6VbK7st4nJ+vDgqFQe/nRggZdneI6Mcd74Artpsm83oI6CM4zxz046Cuydq8694y0RFdQREQEREBERAUDtz9zN/Ct/QlU8oHbn7mb+Fb+hKoSpaIihIiIgnuTvaF2k6vUvt3v8TtwWnNYcOfHDKx8kQ4j27A5hBOCHEL192XPJ2NV2y0CZjDJDqjo6FndGYzDSnZalkLgPbOqWJcAniIOHQV4jX6adjvdr65srouo2Ced0qN4bI52XMnpVrmjTPlPHeD4Hvk49bmE8Qgo1HlBDuWGSnvHmzpf2Dbg946aKMa0XEdG815niBPHJI61A8jPJ22nyoa1akaBX0xs2oRyO4CKXXGieLGBjcbWlvtz1bg6TnHmLRtv3M2wZrr3OYHax9k5h7Zza8toyzw4GcjmHPjwOrgOpe8Oyr1GHRNmdVvxNa23qVeDSy/Ia6XnS+q3DgM70dee08f1erpQeLeTyFm2O38TrLSYdR1Sa7NE/jmrFz13tR3E97zMQh4HgOhbG7PvlAuHXG6PBZkgpU6sJlrQvdFHNYst54ulbGQJGthMDWtdkN78jG8VpLkI2tZoW0lHUZf8jXsjtggFxZWna+tZkDWgl7mxSyODQOJaB1rfvZxclt+/q0Wt6ZTl1CndqwNkkpMfceyaJrhHKWV2uJryV+YLZRluQ4HGWbwd3YBbb2b1u5oN6R1yhNQksRwWXGwyIMfDWnrNbLn7RNFYO9HndzHwHfuJ1fyc7Pt0nlMgoMzzdTXnVod45cYIrEjYHE9ZMQYfhW4Owg5ObegSXdoNZhk02rFSfWiFxjq8hjMkVizZdFIBJGxjYGNbkd/zh3c4C01yWbQfZblIrXw1zRc1022MdjejjnnkkjjOCRlrC1vAnoQbf7PHlY1OjqjNHo2ZKMHa8dy3NWe6CzcmmL42tfLHh7Y2RxNG60jeyd7IDQ3VHYf6jNa2/06axPLPM82g+aaR80rwzS7sbA58hLnbrGtaMngGgdSmv5QX78P/jqv6VhVvsK/v603z3P+230HpjaDkird1+q7V64MaVQ5mzUrFhl7bkqUKYktSMaCXQRSMc1sePtkjeOGsxJ5K7IDlXtbW6q63NvR1ot6LTqW9llWuTkkgcHTyYa6R/SSGj2rGAek9peXZ2zPKDqdG9vTaLblqCxGWmU0ZJNOotdajjwTJERwkiAJcO+aC4br9YdlnyGs0fGt6PuzaJc3JftJEsVB1nDoS17Mh1KXebzcgOAXNYTxj3wuXYA65Ukpapo/bnaOpXhv07TSxth8Zrywh1cu/wApNWeXTBnT9sJAIDyNZ8qfJHtXsmZrBnty1H7wn1ShZsujeyQOa422scJYQWYDjK3cy4ND3KibG8mWtapQdqWm0JrUNewa8jqpElqGeNkUzS2BjuefwkaQ6NrsFpzjhn2D2F2sbUWBaq69Xtu0yKv9psapDJHYE5eGurB9pofbhdCZi4v3wzcjGQHYIeOORP75tK/tfTv12uvVvZ38r2oaRbi0nTpDTdYqMu3tQhO5cmidLZggqRytw6BjTFK8uad477QC0b4f5q2LFYbdVRTx2oNo64pYJLe1Bqcfa2Cekc1uLZ/8oz99df8Asev+uamg2P2E2v2dW2a1qrfszXImNc1osySWSIrlSwyeHMxJEbubB3OjLnnGXHOn+wN2Vg1Pa1sk8Ye3T6kupxNc0OYbUctavXcQQRvMdOZW9BDomnqWzf5Pr/MuueaH9WurVHYP7Z19G2rZ2y8RxX60ml8844jilmkrzwOeeoOlgZHnoBlBOBkgI/sq+Ue/qu092N1udtWjclo06jZXsgiFGR1d0zWNIBkkkY+QvOXd8BnDWgb57E7VpNstkdU0PU5pLZrhsdeecmaaKK7HM+kRJJkvdBZryPYXElo3G+1a0LUPZQ8imsVNpLditply5Uv2Zb9exVry22tdbeZ5oJBXYeZcyV8jQHY3mtaRnitxdj1o8nJ/sZqOsatH2rau7rq1OXLLDuaikZpteSMjeinknmnJZjLGd87G64NDU/8AJ8/ff/8AHWv06y6Oyq5YdYm2gt0Ib0tKnQtTVoa1KSSq2RzJCZLM7oS108r35ed44BPAZLi7v/k+fvv/APjrX6dZYvZQ8j2ux7S3Lcek2bVa9bmtVbFKGa7GWSu3hHJzDC6vKN7dLXgZIdulwGUG7Ox31qxthyf6nQ1SY2pIBYqw2ZsyzbgrR2qUsj3kmWWGyC4PPHDI+sZPhVe3OTSjLsFyb3rOpDta9qTpu06cmGzsmtV21KML4yc86NySw5ntmsyHBpa4DxGg9t8k/wDobu/gNS/6z14kXtvkn/0N3fwGpf8AWevEiAiIgIiINkaR9zxfgo/0GrKWLpH3PF+Cj/QaspWQIiIgWPdO6N49AHhxg9KyFg6xC57O96Rk8ejGMFVy8LY+VRneZJgT1uAcRw4E/wB62jpG0EFdmJHEAAAYGergtYUoN+wxvDi8fsP5lfjCIpubZG1790v3nHDG8Cd0uIIBOMdGePUuPqJMrJXodHlcZbFw2f2rrWDhmR5HYB8+PArZDNFjePHHxDC1RTg51hkfDzJAHFrSDvHJdjvRwbgcT05CuukSllMb7cvIBOc9OFwcuMxvZ6/DnllO/wDWmVre2NavwLHuJ6m8fzKIbtdHL7WJ7R17x3SM+R3EjzKP5jnCHb7Gbx75zg7A443e9ad3A8OM4PFRjtRmYHNkqN3GdLxjJ74gc2Dxe3AByCMZPA8M6Y8cynj+WfJnljfP8J2/dEjHdGSMEHjgngtMa4N2w8DBAcRn+5beNNvN77ehzQ4Nz0deB9QtX7W0eZskAYa4b+enp4Eedb9HZMrHF18twl+1RVY8eI4Hh0cBnpCumhn7SPiz4ccAVVKtNz2lzQcdZ4Y+FWjRmbg3eoDdJ6ienI+PpXfvu8uyyJJERXZiIiAiIgIiICgdufuZv4Vv6EqnlA7c/czfwrf0JVCVLREUJEREBXTZblU1rS9Nl02nqckFKxzvP12sgdvdtRtgn3ZJIzJFvMaPaObg5IwSSqWiArttxyra1rdOOnqGpSWa0D2SwwujrMDJIo3wseXQxNc8iN7298T7Y9apKIC2Hye8tm0GgQCvp+rSxVwd5taSOvbhZk7zmxttxP5hpOSRHu5JcekkrXiIL1yicr2u7QRiLUtWmsQtO8K7Ww1aznAgtc+GpHHHK5pAw54JHHGMnNV2c1qxp1uK3VlMVivI2avMGseY5GcWu3ZGlrseAghR6IJ/bzbK/rtvtvUbRs2ObbDzzmQxnmo94sZuwMa3hvO44zxWPsftLb0i7Heozmvag3+ZnDY3lnOxvgk72VrmnMb3t4g9KiEQS+2G0lvV7sl69OZ7U+4Zpy2NheYo2Qs72JrWjEbGN4AdCsmznK/rmn6adMr6m5unubLG6lJDUtQmOzvc/Fi1C8iN+88lgO7lzjjLjmiIgunJzyqa1s617dL1OWqyR3OSQhsM8DpMBvOczZjfGH7oaC4NyQ1vgCmtt+X3aTWar6tzWJHVpBuywQw1KbZWEbro5HVIWPkjcM5Y5xacngtYogy9G1GWnZiswPMc9eWOzXlAa4xzQPbLFIA8EEte1pwQRwUxygbb6hr9ptrUrbrU7Im1mSuZDEWwMfJI2PdgY1uA+SQ5xnvvMq4iC37B8peraFDNDp191aK3jtpjYq0nO7rXsbkzxOLe9e8d6R0qoIiDamyvZD7UaZWbWr63KYWN3I22Iql18beIaGy3IXybrehrd7dAAGMABVXlD5RNV2glbJqeozWzHnmmP3I4It72xjgga2KJx4ZLWgnAz0BVVEHoj+T5++//AOOtfp1l18pvLVr+z+0+q1tO1WSGt9lLb21nx1rULHPle5/NttRP5jLiXEM3QSSTkkrRmz2u29Om5+lcsU5t0x8/VnmqzbjsFzOcgc126cDIzg4CxtSvS2ZnzTzSTTSuMk08r3yzSyOOXPfJIS57iekkkoLByicoOqbQztm1S/LbfG0thDhHHFCH4L+bhgY2KIu3W5LWgu3W5zgYq6IguWl8qOsVdIfo8OoOZpsrZGS0xFWLXtsHemHOOiMg3iT0O82FTURAREQEREGyNI+54vwUf6DVlLF0j7ni/BR/oNWUrIEREQLghcooSxNL0rf1GMgDB3nnhjDo2l3z4+dX2zp7S3o49eP3KD2Tx2xxAyGP3SekHGOHlwSrfHj9pXl9Zv1Pb+m6uP5Qo0wZaDnic7vUevip+ywNGMcAOI6lFv1ONk4L2970NdnvWgeHz+Fd+p6wxzsxs3uGHHOG+TJPSfIMrluNr1JqWxy3SmTNJA49RH87zrqi07jhzRw6nAZ/Mu7Q7LgC4DHfZEZOegDPwqXksRvbvDrReyeUTYg3eHDox5v7lrvbelvytHh4jPXxwfPjwLZNyXgceDgoltRk0g32ghm88uI6GtGT+YfMteG+m7cPU4zOemfKpaFs8Wxuc52QI3Oa0fzsDLsHr6elYWkwhkTQOOQDnwk9J4q969e5qsN0FpfvMYMAbrZMFxx1d6PjcqevQ6a3KXKvK66Y4WYY/E7iIi6nniIiAiIgIiIC4c0HpAPnAP51yiDr5lviN9EfuTmW+I30R+5diKEuvmW+I30R+5TGw2mw2dWpQSxNfFPqNKtPHxbvw2LcEMzN5hDm7zHOGQQRngQVFqf5NP8APum/2tp369VQe0fY67L+8rfxvUvpSex12X95W/jepfSltZFCWqfY67L+8rfxvUvpSex12X95W/jepfSlednNstO1KaWCnqNazNWO7ahhmjlkrneczEjWnLO+a5vHrCzdotbradWfauWYq1ePd52xM9sUMfOPbEzee8gDL3MaPK4INc+x12X95W/jepfSk9jrsv7yt/G9S+lLZejanDdrssVpmTwTNEkM8bg+KVh6Hsc3g4HwhZaDVPsddl/eVv43qX0pPY67L+8rfxvUvpS2siDVPsddl/eVv43qX0pPY67L+8rfxvUvpS2siDVPsddl/eVv43qX0pPY67L+8rfxvUvpS2so/aLW62nVn2rlmKtXi3edsTPbFDHzj2xM3nuOG5e9jR5XBBrn2Ouy/vK38b1L6Unsddl/eVv43qX0pWfQeVHQr87a9XXdOnnkO7FBHcrOmld07sbN/ekdgE4aCeBVvQap9jrsv7yt/G9S+lJ7HXZf3lb+N6l9KWzNX1GGnA+xYmZDBCwyzTSODI4o2jLnvceDWgda50u/FagZPBKyWGZjZoJo3B8csUgDmSMcODmuaQQR4UGsvY67L+8rfxvUvpSex12X95W/jepfSltZVnlL25p7O6e6/fe9ldj2ROdHG6Z4fKd1net44z1oKf7HXZf3lb+N6l9KT2Ouy/vK38b1L6UtrIg1T7HXZf3lb+N6l9KT2Ouy/vK38b1L6UtrIg1T7HXZf3lb+N6l9KT2Ouy/vK38b1L6UtrIg1T7HXZf3lb+N6l9KVb5VOQnZyjoWoWq+kNjnradcs15O2b7+bngrSyRP3ZLBa7D2tOHAg44grfSp3Lj97Gq/wBk3/1SdB+c3Mt8Rvoj9ycy3xG+iP3LsRSh18y3xG+iP3JzLfEb6I/cuxEHAGFyiKUCIiAiIgzNFn5udjvLunzPBYfzqy3JyGcPCQceD/zwVOBVmiuh4Dup2N4Y4A9BB+H9i4urw3qvQ6Ll9NsYnONkwS9uMcesjycM4UlV5tgyZAeGMZJx83DqWPY01hy4RtcSd52AMn4+ldldkbu9Fcl3gwwAfOuSZx7WHFhr9Vu/y+fsnHG7hM3OcgA8fgz0lZ9SbLTg8Mb2eIwScHp8q6q2mMjIcWN3vJg4+HHD4Fxbl74tHRw3scMALO5S+EZ4+idq75H96MeD8/So+TWo6kzGvhkk34nyb0e6THzZBy4Fw4Eb3X/N6Cu2WwCcDzDwcFB69ITYJGBiMRZx3zmOLZMZPQDgfP4V0cHFMrqvO5+a4SWeXOv6mbUu9jDW96xvXjrJ/wBo/uUciL0scZjNR5Wedyu75oiIrKCIiAiIgIiICIiAiIgKf5NP8+6b/a2nfr1VQCn+TT/Pum/2tp369VQfpOiIqrPCfIpZdoW1kWrb5FTVtd1jZm/kEsilM1eeicj2m/PLDxOQGwTdGcravZt25NRjj0OFzgI9P1LafVHMcA6Kpo9Sy6g2Rp9tFNdww9YMbD5RUdJ2PdrOwevRxNcbVTaTU9UoljXPlbZoGvKREGd8ZXwdsRN3eOZR09CmNie29Y2b2l2l1Gs+Czf0W1ptWF4I5mnpulytndEHAOZHPcdM8tIHfRfCQ2byMahcq7AadLQoC/bbQqtgpOsMptlMkrIpHOnkaWxtjjc+U8MuEZaOJCjNQ5UNf0XVNPg1zSdOFPV7jNNgs6basTS07U5a2Fs7bUbRKC5wyWAANa85JAa6nart1c0Dkw0ixSfzMk7aVCa/zRsfYytO2d0t3mt0iQt5tsYDuGZW444Bp/K/b0atc0J9fay1rMkWvUbV+zZ1V+pU6tfnucfK9sbu1NOPeuwwBjgxj+BDXFBvrl35X5NmdQ0yszTnXRqjrUfNxFxtGauKorQwMAw90sthjMkjd6eK7LHKRf0XQbWrbSafXpGFzDUo05+25ntmEbYq0kmdx1jnnFpczvA0F3EAqscuczZNtNknse17Hzao9j2kOY9j69FzXtc3g5pBBBHTlZPZy7LWdU2Rk7Wa976VmHUZIYwXOlrwtmhm70e2DGzGY+SInqQZ2xm122GosguO0DSqtKy6KQ1Jbtn7Kw05XNPOu+1CLf5o7/Nu3XdRDTwGfyicqFuLW49B0XT4r2qOrm9bkszOr0NNqZa1kk7o2ukkc5zmd40AjnIunewM/ZDlv2e1CnBOzWaMT7DYwKMtmCO/FPJus7WNUv5wyNkO53rSDjLSQQVrZuqQ7Ocp16fU5WVauu6bXdp1+c81VM9GOnXlqOneBHG/7RI7vnDGYB0ysyFz2Q5Ur8Oux6Fr+mwU7luF1jS71GaWzpuocy1754BzzGvrysaxxw/p4DDd6PnMfs2vvE1H/wDR/wC56eqpt/rNfaTb3QoNLsR226N27qGqW6z2T1q0cza7Y4XzREtLy+AMLQSQZm568Wvs2vvE1H/9H/uenoNL8q1XQtotJ07TNArU7W0T20nNsUImQvoxQRt7bsXrcDAGRMJILXucQ97SG5wt7cu/KpJsmzTf8UddF24yjZ3N82dwCPfkrxMB5+dwLt2PIy4tGeK0n2QO0mzE2yVZ9W5Sfr1eKh9i5dNkYdTguR9r84HSUzvxMDBNkSEAODcd+GK08uM1qRuxT7zS26/WdJffYQGubcd2ibTS0cGkSl4IHAILxqm1OsDZ7Vbuu6BQhgipGzU0vtnt4zx7k7rNW+7d5skAQDvG4O+/hwWTd5VKeh7E1dalpshifQpup6XWLY2c/ahY6vRhJbiONozl26d1kbyGnG6ZnskfvR1b+zbP/SctH8rulWZeTLQrleA2BpLdH1e1AN4l1SvSdHK7DWuO60ysLjjDWc648GlBddqOU/avRtJk1W/s3p5riIS8xWvSm7p+/jcN1kse7M0Eta7mXEt3s4Ia7EH2W2uO1Pk1gvujEbrrNKvOiaS5sbrbYrDow4jLg0vIyfAujsgOXfRtY2Wt1NLlmv2bVMyPhhgnZ9j6zHRuntXXzMayBjODMAuLnviaAQ8OWB2QQxyRad/uOhfq1ZBZ9teW/XdPqDWjszGzZ8TRt3p7PN6zJTne2OG/2v7Ws17nMAieHPy9ucNO8NvbcaxqMdOKTSNOivz2JWMxYsilXrVpIpZTckcWOdK0ObEzm2DePOg/zStf9m/94uof1qX/AHGioXl925s6ZHoNFmonSaeqPEOpa21jHSVIIIqu7CySVrmVXSmV325w7wR73tWvQTuyvKdq9faWDQdd06lFJqFaa1p13Tp7E1d7qzZJZYJG2WBwcI4pSXd7ghgwd/LeOUnlltaXtK3Q6ujO1GafTW3aTIpObkltyTyxCGV8g5utWbHFJI6Zx4BuMcQtSNv6PU5QtCfU2gn1KCKG/BZ1K7qk2qQNsy0bLIoWXJ3mASOMsWY4iMGWPIBc3Oypv9LLf/Sp/wC4PQYLeXLWqGrSaLqWzkc2rS1mW9Gr6ZYMkF7nXuj5uaWwP8UjZuTufO/DWiCThxaXWHk85UNWdtK7QNc0ypVsyUfspSnpWJJ4ZIBIYjE8SjO9ls3fd7xiPekODlFan/par/8ApZ369bXVtB/pcpf+mH/repIN/qncuP3sar/ZN/8AVJ1cVTuXH72NV/sm/wDqk6D86kRFZUREQEREBERAREQFLaBFlrz4C0Dwcd4n4eDVg6bSfYlbGwZc7r6mtHFz3eBoGSVaKTmBro4/axv3BwwS4Abz3eFzunycB1LDqO3Hb+zo6bHfJHMVgcMY6gfJ4RhScJZ0AAEdBz7ZV3UaTgcxuw7pI6j+4rHiFo8d1xx07uPj4rzPTK9ecuWPZY70m6zez9f3qAkv8C1vFx6cftPUuJKliXg8lrenBwM/EsvS6ADiMY3cY6MHPSUxxkRny5Z180ahI3nfAOoY/OVAag/elcf9oj4AcD8yu0jN0fMPj/ZxVJ1Cu6KQte0g53hkY3mu4tcPCCOOV19Jd21xdbNY4z93QiIu95wiIgIiICIiAiIgIiICIiAp/k0/z7pv9rad+vVVAKY2GuR1tWpTyu3IoNRpWZ5MOduQ17cE0z91gLnbrGuOACTjgCUH6XItW+yE2Z99/wAj1T6KnshNmfff8j1T6KqrNiaPo9ak1zKtWCs2SV9iVkEUUDZLEuOdneImgPldgZeeJwMlZF+pHYifDNEyWKVjoZoZGtkilikaWSRSMeC2RjmktLSCCCQVrP2QmzPvv+R6p9FT2QmzPvv+R6p9FQbA+wFPtPtLtKt2lzfMdo8xD2nzP9D2vu83zf8As7uFGQ8n+kMpvpN0bT205XiWWm2nVFaWRuC2R8Qj3XvBDcOIJGB4FUvZCbM++/5Hqn0VPZCbM++/5Hqn0VBfTs1R3q7vsfU3qDeb013a8G9p8ZYyIsqHczUbuMjbiPdGGNHQApVat9kJsz77/keqfRU9kJsz77/keqfRUFpr8nGix2e2maFpjbO+Zu2W0abZxKSXOlEgi3hISSS4HJJPFTG0Og1NRh5i7Tr24SQ4wWYYrMW832rtyZpbvDqOMha+9kJsz77/AJHqn0VPZCbM++/5Hqn0VBfdmdmqOmRmKjQq043HffHVghrMe/GN9zYWgOdjhk8Vk63pNe9A6varQ2YJN3nK9iKOxBJuObIzfjlaWv3XtY4ZHAtB6Qtc+yE2Z99/yPVPoqeyE2Z99/yPVPoqC36JsHpFGUS1NF06rKOiWvRp15R5nxRBw+NSeraJVtuifZp17D60rbFR88MUzqthhBZPC6RpMMoIBD24IwOK177ITZn33/I9U+ip7ITZn33/ACPVPoqDZWpUYrML4Z4Y5oZWmOaCVjJYZY3DDmPjkBa9pHAgggqG2nitUtLLNGpVHTwNhjpUJD2pS5mOSJskDTCAIAK4lDMDdDgzhjIVO9kJsz77/keqfRU9kJsz77/keqfRUFA220banaahJpA2Yo7OVrkkX2S1J2o09QfJXjkbK9sMGnxtcZCWjhIcOBLSW7xc3e8+ytGWhHQnpQWqkMcUTK1qGK1Du1mtZCSyZpa5zQ0YOFR/ZCbM++/5Hqn0VPZCbM++/wCR6p9FQbF1zSK16B1e3VgtV5N3nK9iKOxBJuObIzfimaWu3Xta4ZHAtB6l065s/Tv1u1rdKtZrd7itPDFPADHwjIjkaWgt6iBw6lQPZCbM++/5Hqn0VPZCbM++/wCR6p9FQW65sDpE1WOpJo2nSVYHGSvUfSqOrQPdnedHE6PcjJyckDjk5UqdFq9t9udqQduc12sLvMxdt9rb2/2vz+7znNb/AH25nGeOFrz2QmzPvv8AkeqfRU9kJsz77/keqfRUGw3aLVNsXDUrm42LtZt0wxG22vvF/MCfd5wRbxc7czjJJwuJNEquttuup1zcZF2uy6YYjbZXJc8wNnLecbFvOedwHGXOOOK177ITZn33/I9U+ip7ITZn33/I9U+ioNpKncuP3sar/ZN/9UnVe9kJsz77/keqfRVWuVTlw2fvaFqFWvqnOT2dOuVq8fauos5yeetLHEzekrBrcvc0ZcQBniQg8YIiKyoiIgIuWMLiAASScNaAS5xPAAAcSfIr3s7yZWZwH2Hisw8dzHOWMeVoIbH8Jz5EFDXbUqyTHEcb5D4GNc8/E0Fb20XYGhWGRAJnj+fYPO5Ph3ODG+irLWAa3DGMZjhutaGgfAOCvMKjbQ+nbAajP/8AimMHrmc2L/lJ3vmVm03kkkxvWLTQOtkLS4+bfkx+itqiVx4E4+ILGnBznPAdPlPV86t6JPKN1TdX0yvpOnSGKLHe70j/AG0sgbxDHPx0Fwx1DyBa42eaWxEuOXSSPkkPhe95c8+bJPwLanKYw/Y2fAziFwb4QejOfBla5p19yBnWccfOeled9Qys1j8eXq/TsZZb+HNk4IPT1EqV0eUe1x0rFlhD4/L0/F05XdXqHHAkEdeRxHwrgxd2WDv1GRpcWgdAxnqWJTZxJwePD6+BZbqh4ZHE9J/Ou2aMAfXPDypfKJihtbmLIHu6mtc4fACRhWzWNl2XNMgD+8nhqxFsuCeIjbvMf4Wk/F0+FVutSNywyuBlpIfN4BC0guz/AFjhv/Etthg3i3qDNzyYxj4l6P0/j7W3xXnfUc5uYzzHnfV9GsVDiaB7B1PIJjcOoteO9cPhWAvSdKUSd7ugsaNzHAtGAAW+UjGCfOo3WtkaNtuHVo2OP+sjDYJQfDlntvDxyF35cevDzZn93n5FedouTW1A4mvizHngBhk4HgLScO84PwBU6/RlrnE0MkR6MSMczPm3hx+BZWaXY6IiAiIgIiICIiAiIgIiICIiAiIgIiICIiAiIgIiICIiAiIgIiICIiAiIgIiICIiAiIgIisfJzo/bmoMa5uY4/t0o6iGEbrT537vDwZSTY2XyYbJMp1xYlYDZkbv5PTAx4G5G3xXEEFxHHjjq43bm+tfY9rjw4OfCCQvu1wGfK0/GR+9dM45pn63WxvDK63d6c9R4Hz+H4l2tOCkv5/iVtHqdcpGMjp/OegBdW7kgf8AE49X16l0mQMzk/1R1+DPkWG98m+HBxAaQ7cacb2CD3xHts+DoSYXL9kXKQ2qrCatLEMEuheAB7bgOnHT04Wp6FrfY1rhulvBwPAgjpBz1rb2oQ85I6VpDvtQY1g4SM74ve7HD/Y6B/NKru0uz7Hxc+xuJWNHOADhOwAZdj+ka3j5QPNjz+t4cs5uTvN/mPS6Hnxwvpt7XXf7VWK0Ycd0fF1gHoUhBAWLHps3DkDhj23AhZFjVGdDunpBHDzDj5V48e1XcY974FFak/GfIMjynwDwlZFW8XnDWnvu8Y3GS4nrwpaDZslwc878nt2xZIjjI9qXEDJdnyYGOvgtuLiy5L+mdvu5+blx45+q9/sytg9J5iIyOb9sf9sl8Ixksj8zR0+UuVlh8PWenpHSo6DU3MkEccAfE1u5I/JDzJnviw9BA8vSetSVZ46RxHhIzu+RzV9Bjx+3jJ8Pnc+T15W3y5rMDSQPGLvS7785K+5t0DJ4k9DR0k8OhddyQswR32e94dWeg8OjicfCF91IOO845cfm8gUo3pzHFjiRlx6B/NaF82g1zSx7Q8Hg5rwHsPhyHLvmeAPrldDI88T19XkUWEVHX9gKNoExsNWQ9DouMRP+1EeGP6u6tb7TbFW6AL3MEsI/18XfNA8L2+2j8/R5Vvd0YXRbOG7vU7jjqx0fCCsrgt6nmtFcOUjZ5lZ4mhbuxvduvYOhkhyQW+BrgDw6iPKAqes7NLCIiAiIgIiICIiAiIgIiICIiAiIgIiICIiAiIgIiICIiAiIgIiICIiAiIgIiIC3LyF6Xzdd07h30ziQf/648sYPT5w/EtOwRGR4Y0Zc9wY0eFziGtHxkL0fs5WbWrNjb0RtbCPLuta0n4SSVrw47yU5LqJGM5Yw+A7p8x6Pn/OuzUD3g84HzhdFR2Yh5CPmK7b5y1o/2wP2rq12Y77j1yTkIPr+xcKqzFvRZbkdI+ddLW7wBHX8JWa5Y8Td127/ADXcW+Q9Y+Pj8atjVLHVzWT0fCvvJDSMBwPU7OfjH1C7nM4/X4FyGqdy+TvPDX+r1DVlxx5p5zHkDDT/ADojjr8Hk8yx6GlduT7jOG6C+V577cbnA4eE8ceYq/a9QFisYyBk+1d0FjskteD4QePl4+FdOxukCrUbvNxNIxskzvbHnXAd5nqazJHweXj5ef0+e9vzh51/h6uP1K+zr/v4/wBumjosdXAhA3hjemeA956yMkcM+TCzpoi4EE4B6QOG91cesjyLMIz+1fB8y9TGY49sZJHlZZZZXeV3WGyANHAYHwL4lO70dPUsx5x1Z8AXXHF1np/N9eCtcqjT4qwnpc4kniASS0fAssu3QuBwXXIcnCzq8fIbk8epdy+PIuSq6Ta+Qcux5PnJwsbUHAk+Bp5v4SM/n3V30XZc53wfX4lhWPaP8O9vfM1ytrsrvuqO39fnKMo62Df9Ah5+YFagW+NUiD2kEd69pa4eEEYI+IrR2oVjDK+M9LHFnnwcA/CMFcmc1XRjdx0IiKiRFP7D7Os1OWeI3GVnw0bV+BropJ3XH0Y3TuqRtjILXuiZO7e74gROw13QMbQdmL+oM36em3bUfH7bWq2bMWW8COchjLcg8MZygiUWRqNGatIYp4JYJQA50M8UleZoOQCY5mhwBweJHUVjoCIiAiIgIiICIiAiIgIiZQERZFShNMyR8cEsjIGiSxJHHJJHXjcd1skzmNIhYTwDnEDKDHREQEREBERAREQEREBERAREQEREFn5MaHP6g1xHewgzu8472P8A5nA/At4wnEP/ALg+dzf71rrkd0/drSTHpmfut/qRZH6Zf8S2FGftP/uD5uK6uCMeWu+qe9cPFOfBwzld1k9+0eDLj+YfnKjLUpjyQeHe5I48N9rXfMVlc7vPJ+D4Bxx862vhnPLLY5CviMr6VV3LeldczM/nB8B6iu3K4KaRXXG7I4+2HA9XmI8hX03iPr9Sus8Dnr/OOtq+mkdI/wDHhCIZIGcA9GB5va8FywYb8f5zhGHjjwtaR+1fOe8PnI/5j+4LSM3UVw44/cjnY8/WV1tGf2nwqq8BxPhPh6vMvroQ8FyAotWfJXWzicrmTjwTGAqjhy4mfgfAvl0gWNYkz9fAg76zwyDeJxkkk/Dw8/HqUfzu8XDBGR8+D046+I+Zdlp/2uNuOsk+TdLsfOAvjdwB8OfhwFfSm2NYG9F5cArUXKDX3Lhd1SMa/wCEZYf0QtvVeMfHrGPJwGFrblOr43HeK5zD/wAYDh+iVzc0+XRhVJREWC7ffJBt72lWrajqstK1XphuhaRSgqU5teqvwwGw14ayWKq2qZGuy9xkJYMbzsvwuX3atj7l6vKNZo6hVsx1tPrMvh2imnE/7qFdjI3VjNW3ZGhu/kvi74YcFTNha0d3RNTqMqQSX4hW1apNzQdfdVqybmpQwye2AZE6OURt4uDp+B4YqPOWNQtN3pJbVqzJHCx8sj5p7E0hZBAwyTOJeSebYN48BujgAiV22K2sdqL49J1ieS1SsvFetbncZ72j253ble5WsSZkMIkcxskLnFhZnAGCHUXWqElOxNXmAEtaaWtM0ZwJa73xSBpI4t3mnB6xhbQ2c5L75pTtbotxmuafqVORjpyyOhJSlEnetMv2i0I54d97muI3JWEOIDmqo8sdhk+s2ZmajX1EzFksl2pA6pUlmdEwPbDG6STLWkAb4e4P4uySSgt2u8lOn6Ua7tT2kjqx3KkNqBsdCzasb8rSZt+OGQiGvGTHiZxzIS8Brdwkx1zkfuM2gOjtsQO3YPsg7UTmOszTMZfee3eJYA77XuAnv8d9unfHd2Td6KzeouhmjmaNnqEZdE9krWyB99xjJYSA/dcw7vThzfCtpalttRq7VDnLtdle/svX0zt/7TZrVLL3zTQunDt6MxbuN5rwW9/Hvd6SUQ0/d2Eoz0rNnSNc+yLtOiFq9Wkoz6dIam8WyXa7ppHCaNnS5hw5rcEnJa10TyhbHHSIKEpsCb7JabDqm6I+a7XM43jBnfdzu6C3v+9zx70LZO0UWtUqFp1rWdnK8MtOetu0o9HNrVY5mYdTq9p0mylso4b5Ld3vXHGMt+dstn27SaRpNipqemQsoaVFpmpi5bZVfRmqtja972OaXFhxIR0EgMI3g/ICFq8jLn67W0kaiM29JZrHbHaxIjMgnHawj58b+Hxf5Tebwd7XI44um8lcNy2ylT12vZtxtlm1hza1mPTtKrV2t5+YXZCG3w2VwjG4G7xcCdwBxG3K2t0m7d0JY79d9ZuzMcLLRliZGS3t+RgcXOxHIYi1+4SHAOHBaZ7HnW6td9ujdsNqQ6tpM2l9uv72OpPKzdifKTwZGQ6QFxIAIZnAJIJZEnJtSuVbEuja83U5qMJtWqT6FnT5pa0fCWxVMz3dsNb4gGeLeOXNDvqHkypw6VS1TUNeZTq32SO5ttKxctNlY/EcUUcDyZmmMPe+UhoYQxuHl4xZuT3Qu491rUtRv6c97tOnpafSp22XJr9my6Etc0MaCyu3m25e4cA/J3d3vqzypXIn7M7OxRzRyPhq6gyZjHse+Imak1oka05jJLH4Bxndd4EQzte5JKOlzs+yO00EFW21kml2IqVmzNbgkaxxszRRv3aMDDIwb7nuDuJG7g4j28jlv7Pz6S+zDGynCbtrVHtcKsenhjJBaLN7Icd8N5suGHNk77daXLnsirsU9bSBFNHKWbOU45BG9shjkDHgxvDCdx+QRunjwW1NrtpdPm2m1SjJqFeKHWdDh02HUecZJVgtczKYmyyNdusY5s5OSQMhg/nhBrnZ/kooas6c6ZtIyyypVlsztl0+zUsh8bcw7kc8gEteRweDIDmMhgLXb4Inamy2iv2Ka92txxsdrDXv1b7D3JJo7DqYDtM5lrueexoy7nQ7mzjoysvka2RGz9u7JqOqaYyaTR7kFatBdisOkY7mpZp3uw0RMHNRhgdhz96Q7o5sqt8n9VmsbHyaRDbqQ6hDqzdSZXt2I6vbNV1WOAuifJwc5ry/I6t0ZxvNyShtM5O6kOnw39W1oadBddINMhZSsX7lyGIgG2YYng14eLXcc5D4+ILmg3fkn2Zgjq7Q04NXp2a8ulU3t1Ub8NWKGU6iZHWWOy6u+JrXufHlxA3es4GHr2jDajSNMZSvUY7ukVDpOoULVqKs/EHNRR24H5LJ4X80Xb7SWkPbxy0hY+x1GDSdO2hqO1SjakfpFUCStMHwPsufdbLUhe/d7adG58TS5gxmRo4HIBCuatyeU36RPqWla2NSbQdE3UYH0LGnSxssODI7EQsPJfHnPAgcGScctLVrpbP5J70UWzu0LJJo2Plq6e2Fj3sY+ZwnuAiNrjmQgvYCG59s3wrWCAiIgIiICIiAiIgIiICIiAiKY2Ko9sX4mYy0P51/9WL7Yc+cgD4Ug3HszR7WqxQ44sjaHf1yN6T/AJi5S0Z+1D8KPnBWOwrujP2kfhWfnwu3jmrGGd7O65HlvEdILD4DvDgfjx866KUu9k5+D8318izbIzH8IPk4EKpXot25vYwWksyCQ7dkAe3o4Ob1eQt8q2yx3GUuquEZx9fjX3lROm23E7ruPDgevhjgVIMkB+v1+vxrORe13ZQH6/X4F15+v1+v7eQ5NK7fR4rrBwfAfmKF6+HOHhVkJD+aw+ADPT0ELoklxkDx3HzDOf3pZkxCMHiQOrOPqVjuky4+QkfmUy/Bp9gfF4PCvoH/AMLq31zzgUG3ZlfLj9ev68F8b31+vmQlV0tMnPQumd+Rw837FyX/AF+vQutxUeEyul/A4XWX+FdFm6wng9uR5frldE13ca48CQOHg3nHASVNn2dtmUhsZH+2CPBkk5XZBIXHieokf8uVEz2TzbSekOx8YOfzrK0uYBjj4Af2H9iv8KfLsov+1D4ejp6SqfylV8wOPg3XjztIB+YlWjTn/ahx/v8AqcqM2vg5ys8de47Hh9qVhyTeLbHy0+iIuVqy9G1OelYjs1pnwWIHiWCeMgPjeARkZBDgQXNLSC1zXOaQQSDcpdqdHuv527oc1eySJJLGj3G0oZ5c5L+07UEsdVxOCTE4ZJJwFQkQb/5KeVx4snTabYNMq2Irr239Vv2tRmi1E1pH1LUli29sMcZmjiDoGxhpL3EEuPfaf2t2jbfjgb9jdPqSV2ytmmoVo6YvOlexzZJmQgMywMw3dAHfvIwCGiAREuAEAXKIhwGgdQQtHgXKIOMeTyrlEQcBoHQEwuUQTWlbJXrVc2IKckkP2wh7ebDpe12785hjc4SWtwe25prt3BzjC62bMXDTNwVJO1QwzGbvB9oa/mnWBHvc46ASd6Zg3cBBBdwKvfJ3tNptJtJ8srIn1xZZdD9PdfuOksvtNjmq2pHFtGq2GWuXMhDJd6KfvZDLvKD1K/p81eKV1622aDSINGNGvG6F876kLaRcbLwYu0J4gZXxOG+TI9m7g7yCE1TY+/UhEs1GWONz44+hjnslnaXQRyxRuMleR4B3WSNa52OAKkNU5P7tanz09eRkrr9fTIagY2aSea1FdlLWuhkduzsdWZGa5bv5nZnd4B167uNMqyTSwPikadR03VKtVmmurzvg0y8bLq1y9M581y6Ynj7ZI90W9E9wfmTdEXs1tNpujuYYrc97/wDmYtSkBrPgLanaGsUHuxO/El1jrsb3DgxxawNeeJaFNsbE6g2eOu6hK6aZssleNnNz88KrXPsiN0LnMkfG1pLmAlzeAIBIB7b+wmpwROmkoSNiiidYdLvQPYYGN3pZ4jHIe2I2N4vdFvBgzvbqtI2uqVo2V4poHMbDqzy+jp32Lqts6hpE2l1A2N2ZpJXPLOced1jWiIDf3C5RmjbTVonUS5z8VNF1TTpsMJ3bWod0HMNb4zSLtXLhwGXZ9qUSq9rQLUUk0b6z2vqRtmttO7/i8UhgZG95zjDjPABgnPONxlRy2PttqPN6FUY+OWK9qEFeO+2RrmOk07QX2q2lz7smH7thr4DvEd99jmkEgjOuEQIiICIiAiIgIiICIiAiIgK/cj9LL5ZyOAaIGHyuIe/5gz41QVuLYClzFCMEYc/Mz/PJxb8TNwK/HN1GXhY8ruccRf8AuMPxOasbPxLvsnFd3k770eK68PLDLwkpTlpHhHwKnbUPI1GJnVJC6Q+UwEA/pM+JWsPz8Iz51W9qI29u1nnpEdmMf8Qhdj/kK6b4rH5ZdKTB+ZSsD1X4ZepSNSbqXPGmSW3kLljNfwXJcrKu7f8AJ9eC4XVn6/GvuN3fDzj84QSThwx1cAPgwo9zu+PnP51mxv4/CVFsdkA+EA/GArSdkMjOfKuF0krhkigZBK4Ll0mTy/X4F8GTH18yhLte76/GsaeUAL4klWBcnwCoTETalHHvcqs6ldkE7GtkO49265vA7p3XcQfOBw86lNQmJOMnHgUPda1u653ACRrW/wBZ+WZPx/OmK2XhYqBywAk5xvHznA/v+FZ4eWb48Mefi4D86i9NfvF56mvDB5mtBPzuHxLPkeCXeRjQf+Ik4+ZXynZXHyyqDt1uOsD86W++aQfN5V1Vn4aSek9XgC4c7gsfho0yipndXP4kXov9dO6ufxIvRf664XRpc0VM7q5/Ei9F/rp3Vz+JF6L/AF0NLmipndXP4kXov9dO6ufxIvRf66GlzRUzurn8SL0X+undXP4kXov9dDS5oqZ3Vz+JF6L/AF07q5/Ei9F/roaXNFTO6ufxIvRf66d1c/iRei/10NLmipndXP4kXov9dO6ufxIvRf66GlzRUzurn8SL0X+undXP4kXov9dDS5oqZ3Vz+JF6L/XTurn8SL0X+uhpc0VM7q5/Ei9F/rp3Vz+JF6L/AF0NLo4knJJJ4DJ4nAAaBx6gAB5gFwqZ3Vz+JF6L/XTurn8SL0X+uhpc0VM7q5/Ei9F/rp3Vz+JF6L/XQ0uaKmd1c/iRei/107q5/Ei9F/roaXNFTO6ufxIvRf66d1c/iRei/wBdDS5oqZ3Vz+JF6L/XTurn8SL0X+uhpc0VM7q5/Ei9F/rp3Vz+JF6L/XQ0uaKmd1c/iRei/wBdO6ufxIvRf66Gl80uqZ52RD+e9rPgJ74/AMlbwjwBgdAAAHUB0ALy9o+3dmrMJWRV3OaCGh7ZS0bwLSe9lBzgnrVh/wANOof0FP5Ox9IWmGUitx29Ew8Vkvb9rLfCCPjXnJnLfqI//HpfJ2fpK+v8Oepe56Xydn6StsObGeWefHb4eiNLm3o2+EDdPnbw/Yq1yhzua+uW9IlOMdPEY/atMV+W3UWZxBS4knjHY4Z6cf4wsTUuV2/Ykje+GpmFxcwCOcNJcMd8DOcj4lrl1ONx1P8Az+1Jw3bfDHcfz+dZMchz4PAtAHlhv/0FT5Ox/wDevocseof0FP5Ox9IWfvYr+3XpKCUloJ6f/C+uc+v/AIXnNvLdqIGBXpfJ2fpK5HLfqX9BS+Ts/SVac+CntZPRQl8P16V2xu74ecfnC84Hlv1H3PS+Ts/SVyzlw1IH/IUvDjm7OP1lT/yMD2cnpuN/A+f51gVnZaPMF56by9amDntejx6RzVnHn+6V0s5ctSAx2vS+Ts/SVN6jDR7OT0c4r4JXnM8uWpf0FL5Oz9JXyeW/Uj/qafydj6Qq+/ge1k9GFy63OXnf/DdqX9DT+TsfSE/w3aj/AEFL5Ox9IT38D2sm/LMm6MlQ9uxnpK0jNyw6g88Yqvm3J8D/AP3WLLyp3Xf6qsPMyb9syr7+K04q3BbnYT0qC2rmDoO94Yc13nwen48LWruUi2R/kaw8oZNn55ljW9u7Mrd0xwecNlz88qreXHV0tMK3jslPzkBd47nO+HvAfzKRqO3g/wArwPgaB+3K0RpPKXcrR7jIqxHE5cyYnvuJ6JgsmHlXvMbgQ1eJLuMc+cu6eidXvUY2Tas4rK3jJL3wHV4Oo/3Lh7/KtHjlXvZzzNX0J/8A71y/lZvH/U1fQn/+9U97Fb0Vr9ERcrYREQEREBERAREQEREBERAREQEREBERAREQEREBERAREQEREBERAREQEREBERAREQEREBERAREQEREBERAREQEREBERAREQEREBERAREQEREBERAREQEREBERAREQEREBERAREQEREBERAREQEREBERAREQEREBERAREQEREBERAREQEREBERAREQEREBERAREQEREBERAREQEREBERAREQEREBERAREQEREBERAREQEREBERAREQEREBERAREQEREBERAREQEREBERAREQEREBERAREQEREBERAREQEREH/9k=\n"
                },
                "metadata": {}
              }
            ]
          }
        },
        "52b6b7b5bd5540b68f28b28a4a66d06c": {
          "model_module": "@jupyter-widgets/output",
          "model_name": "OutputModel",
          "model_module_version": "1.0.0",
          "state": {
            "_dom_classes": [],
            "_model_module": "@jupyter-widgets/output",
            "_model_module_version": "1.0.0",
            "_model_name": "OutputModel",
            "_view_count": null,
            "_view_module": "@jupyter-widgets/output",
            "_view_module_version": "1.0.0",
            "_view_name": "OutputView",
            "layout": "IPY_MODEL_e22a2b26cc324bdd83683f8a36aed194",
            "msg_id": "",
            "outputs": [
              {
                "output_type": "stream",
                "name": "stdout",
                "text": [
                  "Video available at https://www.bilibili.com/video/BV1vV41167T1\n"
                ]
              },
              {
                "output_type": "display_data",
                "data": {
                  "text/plain": "<__main__.PlayVideo at 0x7e2c24365390>",
                  "text/html": "\n        <iframe\n            width=\"854\"\n            height=\"480\"\n            src=\"https://player.bilibili.com/player.html?bvid=BV1vV41167T1&page=1?fs=1&autoplay=False\"\n            frameborder=\"0\"\n            allowfullscreen\n            \n        ></iframe>\n        "
                },
                "metadata": {}
              }
            ]
          }
        },
        "076d01987f734770b6297663a1ca42bb": {
          "model_module": "@jupyter-widgets/base",
          "model_name": "LayoutModel",
          "model_module_version": "1.2.0",
          "state": {
            "_model_module": "@jupyter-widgets/base",
            "_model_module_version": "1.2.0",
            "_model_name": "LayoutModel",
            "_view_count": null,
            "_view_module": "@jupyter-widgets/base",
            "_view_module_version": "1.2.0",
            "_view_name": "LayoutView",
            "align_content": null,
            "align_items": null,
            "align_self": null,
            "border": null,
            "bottom": null,
            "display": null,
            "flex": null,
            "flex_flow": null,
            "grid_area": null,
            "grid_auto_columns": null,
            "grid_auto_flow": null,
            "grid_auto_rows": null,
            "grid_column": null,
            "grid_gap": null,
            "grid_row": null,
            "grid_template_areas": null,
            "grid_template_columns": null,
            "grid_template_rows": null,
            "height": null,
            "justify_content": null,
            "justify_items": null,
            "left": null,
            "margin": null,
            "max_height": null,
            "max_width": null,
            "min_height": null,
            "min_width": null,
            "object_fit": null,
            "object_position": null,
            "order": null,
            "overflow": null,
            "overflow_x": null,
            "overflow_y": null,
            "padding": null,
            "right": null,
            "top": null,
            "visibility": null,
            "width": null
          }
        },
        "d4d6ad499e4d44c6ac9e7dde0407d37e": {
          "model_module": "@jupyter-widgets/base",
          "model_name": "LayoutModel",
          "model_module_version": "1.2.0",
          "state": {
            "_model_module": "@jupyter-widgets/base",
            "_model_module_version": "1.2.0",
            "_model_name": "LayoutModel",
            "_view_count": null,
            "_view_module": "@jupyter-widgets/base",
            "_view_module_version": "1.2.0",
            "_view_name": "LayoutView",
            "align_content": null,
            "align_items": null,
            "align_self": null,
            "border": null,
            "bottom": null,
            "display": null,
            "flex": null,
            "flex_flow": null,
            "grid_area": null,
            "grid_auto_columns": null,
            "grid_auto_flow": null,
            "grid_auto_rows": null,
            "grid_column": null,
            "grid_gap": null,
            "grid_row": null,
            "grid_template_areas": null,
            "grid_template_columns": null,
            "grid_template_rows": null,
            "height": null,
            "justify_content": null,
            "justify_items": null,
            "left": null,
            "margin": null,
            "max_height": null,
            "max_width": null,
            "min_height": null,
            "min_width": null,
            "object_fit": null,
            "object_position": null,
            "order": null,
            "overflow": null,
            "overflow_x": null,
            "overflow_y": null,
            "padding": null,
            "right": null,
            "top": null,
            "visibility": null,
            "width": null
          }
        },
        "e22a2b26cc324bdd83683f8a36aed194": {
          "model_module": "@jupyter-widgets/base",
          "model_name": "LayoutModel",
          "model_module_version": "1.2.0",
          "state": {
            "_model_module": "@jupyter-widgets/base",
            "_model_module_version": "1.2.0",
            "_model_name": "LayoutModel",
            "_view_count": null,
            "_view_module": "@jupyter-widgets/base",
            "_view_module_version": "1.2.0",
            "_view_name": "LayoutView",
            "align_content": null,
            "align_items": null,
            "align_self": null,
            "border": null,
            "bottom": null,
            "display": null,
            "flex": null,
            "flex_flow": null,
            "grid_area": null,
            "grid_auto_columns": null,
            "grid_auto_flow": null,
            "grid_auto_rows": null,
            "grid_column": null,
            "grid_gap": null,
            "grid_row": null,
            "grid_template_areas": null,
            "grid_template_columns": null,
            "grid_template_rows": null,
            "height": null,
            "justify_content": null,
            "justify_items": null,
            "left": null,
            "margin": null,
            "max_height": null,
            "max_width": null,
            "min_height": null,
            "min_width": null,
            "object_fit": null,
            "object_position": null,
            "order": null,
            "overflow": null,
            "overflow_x": null,
            "overflow_y": null,
            "padding": null,
            "right": null,
            "top": null,
            "visibility": null,
            "width": null
          }
        },
        "3e3fbc1dd5904ce19ae7a14db58da477": {
          "model_module": "@jupyter-widgets/controls",
          "model_name": "VBoxModel",
          "model_module_version": "1.5.0",
          "state": {
            "_dom_classes": [],
            "_model_module": "@jupyter-widgets/controls",
            "_model_module_version": "1.5.0",
            "_model_name": "VBoxModel",
            "_view_count": null,
            "_view_module": "@jupyter-widgets/controls",
            "_view_module_version": "1.5.0",
            "_view_name": "VBoxView",
            "box_style": "",
            "children": [
              "IPY_MODEL_54778e875f8e4f1fb09b372cdfdb5dd0"
            ],
            "layout": "IPY_MODEL_b8179878e90a45dfb760c8bec29004f9"
          }
        },
        "54778e875f8e4f1fb09b372cdfdb5dd0": {
          "model_module": "@jupyter-widgets/controls",
          "model_name": "VBoxModel",
          "model_module_version": "1.5.0",
          "state": {
            "_dom_classes": [],
            "_model_module": "@jupyter-widgets/controls",
            "_model_module_version": "1.5.0",
            "_model_name": "VBoxModel",
            "_view_count": null,
            "_view_module": "@jupyter-widgets/controls",
            "_view_module_version": "1.5.0",
            "_view_name": "VBoxView",
            "box_style": "",
            "children": [
              "IPY_MODEL_573e48f4629f40fe88996836c8d80dbf",
              "IPY_MODEL_0290fb47007c4408bc37a0402a989428",
              "IPY_MODEL_16079650889e4635b0291269bdb992aa"
            ],
            "layout": "IPY_MODEL_919d90ba11b6414eb766e6aab3d092f0"
          }
        },
        "b8179878e90a45dfb760c8bec29004f9": {
          "model_module": "@jupyter-widgets/base",
          "model_name": "LayoutModel",
          "model_module_version": "1.2.0",
          "state": {
            "_model_module": "@jupyter-widgets/base",
            "_model_module_version": "1.2.0",
            "_model_name": "LayoutModel",
            "_view_count": null,
            "_view_module": "@jupyter-widgets/base",
            "_view_module_version": "1.2.0",
            "_view_name": "LayoutView",
            "align_content": null,
            "align_items": null,
            "align_self": null,
            "border": null,
            "bottom": null,
            "display": null,
            "flex": null,
            "flex_flow": null,
            "grid_area": null,
            "grid_auto_columns": null,
            "grid_auto_flow": null,
            "grid_auto_rows": null,
            "grid_column": null,
            "grid_gap": null,
            "grid_row": null,
            "grid_template_areas": null,
            "grid_template_columns": null,
            "grid_template_rows": null,
            "height": null,
            "justify_content": null,
            "justify_items": null,
            "left": null,
            "margin": null,
            "max_height": null,
            "max_width": null,
            "min_height": null,
            "min_width": null,
            "object_fit": null,
            "object_position": null,
            "order": null,
            "overflow": null,
            "overflow_x": null,
            "overflow_y": null,
            "padding": null,
            "right": null,
            "top": null,
            "visibility": null,
            "width": null
          }
        },
        "573e48f4629f40fe88996836c8d80dbf": {
          "model_module": "@jupyter-widgets/controls",
          "model_name": "HBoxModel",
          "model_module_version": "1.5.0",
          "state": {
            "_dom_classes": [],
            "_model_module": "@jupyter-widgets/controls",
            "_model_module_version": "1.5.0",
            "_model_name": "HBoxModel",
            "_view_count": null,
            "_view_module": "@jupyter-widgets/controls",
            "_view_module_version": "1.5.0",
            "_view_name": "HBoxView",
            "box_style": "",
            "children": [
              "IPY_MODEL_0a377dc5177740f981d186dcd85b45ae",
              "IPY_MODEL_a766fdf42d3243a8a5a0c694d74ce408",
              "IPY_MODEL_3f07072d3693490fad1a71e450e116af"
            ],
            "layout": "IPY_MODEL_7afb51d58cce47d3866c357eddda16be"
          }
        },
        "0290fb47007c4408bc37a0402a989428": {
          "model_module": "@jupyter-widgets/controls",
          "model_name": "HBoxModel",
          "model_module_version": "1.5.0",
          "state": {
            "_dom_classes": [],
            "_model_module": "@jupyter-widgets/controls",
            "_model_module_version": "1.5.0",
            "_model_name": "HBoxModel",
            "_view_count": null,
            "_view_module": "@jupyter-widgets/controls",
            "_view_module_version": "1.5.0",
            "_view_name": "HBoxView",
            "box_style": "",
            "children": [
              "IPY_MODEL_1b452978d0c940fc85db1eca7537f76a",
              "IPY_MODEL_6799c857502b4ba1b2607503db4e1c7f"
            ],
            "layout": "IPY_MODEL_2539f68281094c4ca35d848623072caf"
          }
        },
        "16079650889e4635b0291269bdb992aa": {
          "model_module": "@jupyter-widgets/controls",
          "model_name": "LabelModel",
          "model_module_version": "1.5.0",
          "state": {
            "_dom_classes": [],
            "_model_module": "@jupyter-widgets/controls",
            "_model_module_version": "1.5.0",
            "_model_name": "LabelModel",
            "_view_count": null,
            "_view_module": "@jupyter-widgets/controls",
            "_view_module_version": "1.5.0",
            "_view_name": "LabelView",
            "description": "",
            "description_tooltip": null,
            "layout": "IPY_MODEL_bfd2784a60564b1a963948ec825df1b6",
            "placeholder": "​",
            "style": "IPY_MODEL_8b193ee512f1427e91c28b76b629a2e5",
            "value": "Thanks for your feedback!"
          }
        },
        "919d90ba11b6414eb766e6aab3d092f0": {
          "model_module": "@jupyter-widgets/base",
          "model_name": "LayoutModel",
          "model_module_version": "1.2.0",
          "state": {
            "_model_module": "@jupyter-widgets/base",
            "_model_module_version": "1.2.0",
            "_model_name": "LayoutModel",
            "_view_count": null,
            "_view_module": "@jupyter-widgets/base",
            "_view_module_version": "1.2.0",
            "_view_name": "LayoutView",
            "align_content": null,
            "align_items": null,
            "align_self": null,
            "border": null,
            "bottom": null,
            "display": null,
            "flex": null,
            "flex_flow": null,
            "grid_area": null,
            "grid_auto_columns": null,
            "grid_auto_flow": null,
            "grid_auto_rows": null,
            "grid_column": null,
            "grid_gap": null,
            "grid_row": null,
            "grid_template_areas": null,
            "grid_template_columns": null,
            "grid_template_rows": null,
            "height": null,
            "justify_content": null,
            "justify_items": null,
            "left": null,
            "margin": null,
            "max_height": null,
            "max_width": null,
            "min_height": null,
            "min_width": null,
            "object_fit": null,
            "object_position": null,
            "order": null,
            "overflow": null,
            "overflow_x": null,
            "overflow_y": null,
            "padding": null,
            "right": null,
            "top": null,
            "visibility": null,
            "width": null
          }
        },
        "0a377dc5177740f981d186dcd85b45ae": {
          "model_module": "@jupyter-widgets/controls",
          "model_name": "ButtonModel",
          "model_module_version": "1.5.0",
          "state": {
            "_dom_classes": [
              "happy"
            ],
            "_model_module": "@jupyter-widgets/controls",
            "_model_module_version": "1.5.0",
            "_model_name": "ButtonModel",
            "_view_count": null,
            "_view_module": "@jupyter-widgets/controls",
            "_view_module_version": "1.5.0",
            "_view_name": "ButtonView",
            "button_style": "",
            "description": "🙂",
            "disabled": false,
            "icon": "",
            "layout": "IPY_MODEL_ffaa5a88b7dc4bf4844cb001559d7c85",
            "style": "IPY_MODEL_43173e2e1aeb4d66adc0c21caa062d8d",
            "tooltip": "happy"
          }
        },
        "a766fdf42d3243a8a5a0c694d74ce408": {
          "model_module": "@jupyter-widgets/controls",
          "model_name": "ButtonModel",
          "model_module_version": "1.5.0",
          "state": {
            "_dom_classes": [
              "medium"
            ],
            "_model_module": "@jupyter-widgets/controls",
            "_model_module_version": "1.5.0",
            "_model_name": "ButtonModel",
            "_view_count": null,
            "_view_module": "@jupyter-widgets/controls",
            "_view_module_version": "1.5.0",
            "_view_name": "ButtonView",
            "button_style": "",
            "description": "😐",
            "disabled": false,
            "icon": "",
            "layout": "IPY_MODEL_75ec97ccbf1c4b60a7b74a96ab4e4d5e",
            "style": "IPY_MODEL_4de4c6073df74cb0aaf75c09162d88a4",
            "tooltip": "medium"
          }
        },
        "3f07072d3693490fad1a71e450e116af": {
          "model_module": "@jupyter-widgets/controls",
          "model_name": "ButtonModel",
          "model_module_version": "1.5.0",
          "state": {
            "_dom_classes": [
              "sad"
            ],
            "_model_module": "@jupyter-widgets/controls",
            "_model_module_version": "1.5.0",
            "_model_name": "ButtonModel",
            "_view_count": null,
            "_view_module": "@jupyter-widgets/controls",
            "_view_module_version": "1.5.0",
            "_view_name": "ButtonView",
            "button_style": "",
            "description": "🙁",
            "disabled": false,
            "icon": "",
            "layout": "IPY_MODEL_1281c3875af246f6a57041fa6b625324",
            "style": "IPY_MODEL_2ed0427bcafe46a89e31aa70e462c0ce",
            "tooltip": "sad"
          }
        },
        "7afb51d58cce47d3866c357eddda16be": {
          "model_module": "@jupyter-widgets/base",
          "model_name": "LayoutModel",
          "model_module_version": "1.2.0",
          "state": {
            "_model_module": "@jupyter-widgets/base",
            "_model_module_version": "1.2.0",
            "_model_name": "LayoutModel",
            "_view_count": null,
            "_view_module": "@jupyter-widgets/base",
            "_view_module_version": "1.2.0",
            "_view_name": "LayoutView",
            "align_content": null,
            "align_items": null,
            "align_self": null,
            "border": null,
            "bottom": null,
            "display": null,
            "flex": null,
            "flex_flow": null,
            "grid_area": null,
            "grid_auto_columns": null,
            "grid_auto_flow": null,
            "grid_auto_rows": null,
            "grid_column": null,
            "grid_gap": null,
            "grid_row": null,
            "grid_template_areas": null,
            "grid_template_columns": null,
            "grid_template_rows": null,
            "height": null,
            "justify_content": null,
            "justify_items": null,
            "left": null,
            "margin": null,
            "max_height": null,
            "max_width": null,
            "min_height": null,
            "min_width": null,
            "object_fit": null,
            "object_position": null,
            "order": null,
            "overflow": null,
            "overflow_x": null,
            "overflow_y": null,
            "padding": null,
            "right": null,
            "top": null,
            "visibility": null,
            "width": null
          }
        },
        "1b452978d0c940fc85db1eca7537f76a": {
          "model_module": "@jupyter-widgets/controls",
          "model_name": "TextareaModel",
          "model_module_version": "1.5.0",
          "state": {
            "_dom_classes": [],
            "_model_module": "@jupyter-widgets/controls",
            "_model_module_version": "1.5.0",
            "_model_name": "TextareaModel",
            "_view_count": null,
            "_view_module": "@jupyter-widgets/controls",
            "_view_module_version": "1.5.0",
            "_view_name": "TextareaView",
            "continuous_update": true,
            "description": "",
            "description_tooltip": null,
            "disabled": false,
            "layout": "IPY_MODEL_98d3f33d85e74abb9fac17826e60fd01",
            "placeholder": "We want your feedback!",
            "rows": null,
            "style": "IPY_MODEL_b0c7efe2542a4224a70158063e61823f",
            "value": ""
          }
        },
        "6799c857502b4ba1b2607503db4e1c7f": {
          "model_module": "@jupyter-widgets/controls",
          "model_name": "ButtonModel",
          "model_module_version": "1.5.0",
          "state": {
            "_dom_classes": [],
            "_model_module": "@jupyter-widgets/controls",
            "_model_module_version": "1.5.0",
            "_model_name": "ButtonModel",
            "_view_count": null,
            "_view_module": "@jupyter-widgets/controls",
            "_view_module_version": "1.5.0",
            "_view_name": "ButtonView",
            "button_style": "",
            "description": "Submit",
            "disabled": false,
            "icon": "",
            "layout": "IPY_MODEL_d1fc0d973b0e442fbeeae11c017fc9fa",
            "style": "IPY_MODEL_01520e5b430a4ae2b66c4d5d537c4598",
            "tooltip": ""
          }
        },
        "2539f68281094c4ca35d848623072caf": {
          "model_module": "@jupyter-widgets/base",
          "model_name": "LayoutModel",
          "model_module_version": "1.2.0",
          "state": {
            "_model_module": "@jupyter-widgets/base",
            "_model_module_version": "1.2.0",
            "_model_name": "LayoutModel",
            "_view_count": null,
            "_view_module": "@jupyter-widgets/base",
            "_view_module_version": "1.2.0",
            "_view_name": "LayoutView",
            "align_content": null,
            "align_items": null,
            "align_self": null,
            "border": null,
            "bottom": null,
            "display": "none",
            "flex": null,
            "flex_flow": null,
            "grid_area": null,
            "grid_auto_columns": null,
            "grid_auto_flow": null,
            "grid_auto_rows": null,
            "grid_column": null,
            "grid_gap": null,
            "grid_row": null,
            "grid_template_areas": null,
            "grid_template_columns": null,
            "grid_template_rows": null,
            "height": null,
            "justify_content": null,
            "justify_items": null,
            "left": null,
            "margin": null,
            "max_height": null,
            "max_width": null,
            "min_height": null,
            "min_width": null,
            "object_fit": null,
            "object_position": null,
            "order": null,
            "overflow": null,
            "overflow_x": null,
            "overflow_y": null,
            "padding": null,
            "right": null,
            "top": null,
            "visibility": null,
            "width": null
          }
        },
        "bfd2784a60564b1a963948ec825df1b6": {
          "model_module": "@jupyter-widgets/base",
          "model_name": "LayoutModel",
          "model_module_version": "1.2.0",
          "state": {
            "_model_module": "@jupyter-widgets/base",
            "_model_module_version": "1.2.0",
            "_model_name": "LayoutModel",
            "_view_count": null,
            "_view_module": "@jupyter-widgets/base",
            "_view_module_version": "1.2.0",
            "_view_name": "LayoutView",
            "align_content": null,
            "align_items": null,
            "align_self": null,
            "border": null,
            "bottom": null,
            "display": "none",
            "flex": null,
            "flex_flow": null,
            "grid_area": null,
            "grid_auto_columns": null,
            "grid_auto_flow": null,
            "grid_auto_rows": null,
            "grid_column": null,
            "grid_gap": null,
            "grid_row": null,
            "grid_template_areas": null,
            "grid_template_columns": null,
            "grid_template_rows": null,
            "height": null,
            "justify_content": null,
            "justify_items": null,
            "left": null,
            "margin": null,
            "max_height": null,
            "max_width": null,
            "min_height": null,
            "min_width": null,
            "object_fit": null,
            "object_position": null,
            "order": null,
            "overflow": null,
            "overflow_x": null,
            "overflow_y": null,
            "padding": null,
            "right": null,
            "top": null,
            "visibility": null,
            "width": null
          }
        },
        "8b193ee512f1427e91c28b76b629a2e5": {
          "model_module": "@jupyter-widgets/controls",
          "model_name": "DescriptionStyleModel",
          "model_module_version": "1.5.0",
          "state": {
            "_model_module": "@jupyter-widgets/controls",
            "_model_module_version": "1.5.0",
            "_model_name": "DescriptionStyleModel",
            "_view_count": null,
            "_view_module": "@jupyter-widgets/base",
            "_view_module_version": "1.2.0",
            "_view_name": "StyleView",
            "description_width": ""
          }
        },
        "ffaa5a88b7dc4bf4844cb001559d7c85": {
          "model_module": "@jupyter-widgets/base",
          "model_name": "LayoutModel",
          "model_module_version": "1.2.0",
          "state": {
            "_model_module": "@jupyter-widgets/base",
            "_model_module_version": "1.2.0",
            "_model_name": "LayoutModel",
            "_view_count": null,
            "_view_module": "@jupyter-widgets/base",
            "_view_module_version": "1.2.0",
            "_view_name": "LayoutView",
            "align_content": null,
            "align_items": null,
            "align_self": null,
            "border": null,
            "bottom": null,
            "display": null,
            "flex": null,
            "flex_flow": null,
            "grid_area": null,
            "grid_auto_columns": null,
            "grid_auto_flow": null,
            "grid_auto_rows": null,
            "grid_column": null,
            "grid_gap": null,
            "grid_row": null,
            "grid_template_areas": null,
            "grid_template_columns": null,
            "grid_template_rows": null,
            "height": "auto",
            "justify_content": null,
            "justify_items": null,
            "left": null,
            "margin": null,
            "max_height": null,
            "max_width": null,
            "min_height": null,
            "min_width": null,
            "object_fit": null,
            "object_position": null,
            "order": null,
            "overflow": null,
            "overflow_x": null,
            "overflow_y": null,
            "padding": "0.5em",
            "right": null,
            "top": null,
            "visibility": null,
            "width": "auto"
          }
        },
        "43173e2e1aeb4d66adc0c21caa062d8d": {
          "model_module": "@jupyter-widgets/controls",
          "model_name": "ButtonStyleModel",
          "model_module_version": "1.5.0",
          "state": {
            "_model_module": "@jupyter-widgets/controls",
            "_model_module_version": "1.5.0",
            "_model_name": "ButtonStyleModel",
            "_view_count": null,
            "_view_module": "@jupyter-widgets/base",
            "_view_module_version": "1.2.0",
            "_view_name": "StyleView",
            "button_color": "#aaffaa",
            "font_weight": ""
          }
        },
        "75ec97ccbf1c4b60a7b74a96ab4e4d5e": {
          "model_module": "@jupyter-widgets/base",
          "model_name": "LayoutModel",
          "model_module_version": "1.2.0",
          "state": {
            "_model_module": "@jupyter-widgets/base",
            "_model_module_version": "1.2.0",
            "_model_name": "LayoutModel",
            "_view_count": null,
            "_view_module": "@jupyter-widgets/base",
            "_view_module_version": "1.2.0",
            "_view_name": "LayoutView",
            "align_content": null,
            "align_items": null,
            "align_self": null,
            "border": null,
            "bottom": null,
            "display": null,
            "flex": null,
            "flex_flow": null,
            "grid_area": null,
            "grid_auto_columns": null,
            "grid_auto_flow": null,
            "grid_auto_rows": null,
            "grid_column": null,
            "grid_gap": null,
            "grid_row": null,
            "grid_template_areas": null,
            "grid_template_columns": null,
            "grid_template_rows": null,
            "height": "auto",
            "justify_content": null,
            "justify_items": null,
            "left": null,
            "margin": null,
            "max_height": null,
            "max_width": null,
            "min_height": null,
            "min_width": null,
            "object_fit": null,
            "object_position": null,
            "order": null,
            "overflow": null,
            "overflow_x": null,
            "overflow_y": null,
            "padding": "0.5em",
            "right": null,
            "top": null,
            "visibility": null,
            "width": "auto"
          }
        },
        "4de4c6073df74cb0aaf75c09162d88a4": {
          "model_module": "@jupyter-widgets/controls",
          "model_name": "ButtonStyleModel",
          "model_module_version": "1.5.0",
          "state": {
            "_model_module": "@jupyter-widgets/controls",
            "_model_module_version": "1.5.0",
            "_model_name": "ButtonStyleModel",
            "_view_count": null,
            "_view_module": "@jupyter-widgets/base",
            "_view_module_version": "1.2.0",
            "_view_name": "StyleView",
            "button_color": "#dddd77",
            "font_weight": ""
          }
        },
        "1281c3875af246f6a57041fa6b625324": {
          "model_module": "@jupyter-widgets/base",
          "model_name": "LayoutModel",
          "model_module_version": "1.2.0",
          "state": {
            "_model_module": "@jupyter-widgets/base",
            "_model_module_version": "1.2.0",
            "_model_name": "LayoutModel",
            "_view_count": null,
            "_view_module": "@jupyter-widgets/base",
            "_view_module_version": "1.2.0",
            "_view_name": "LayoutView",
            "align_content": null,
            "align_items": null,
            "align_self": null,
            "border": null,
            "bottom": null,
            "display": null,
            "flex": null,
            "flex_flow": null,
            "grid_area": null,
            "grid_auto_columns": null,
            "grid_auto_flow": null,
            "grid_auto_rows": null,
            "grid_column": null,
            "grid_gap": null,
            "grid_row": null,
            "grid_template_areas": null,
            "grid_template_columns": null,
            "grid_template_rows": null,
            "height": "auto",
            "justify_content": null,
            "justify_items": null,
            "left": null,
            "margin": null,
            "max_height": null,
            "max_width": null,
            "min_height": null,
            "min_width": null,
            "object_fit": null,
            "object_position": null,
            "order": null,
            "overflow": null,
            "overflow_x": null,
            "overflow_y": null,
            "padding": "0.5em",
            "right": null,
            "top": null,
            "visibility": null,
            "width": "auto"
          }
        },
        "2ed0427bcafe46a89e31aa70e462c0ce": {
          "model_module": "@jupyter-widgets/controls",
          "model_name": "ButtonStyleModel",
          "model_module_version": "1.5.0",
          "state": {
            "_model_module": "@jupyter-widgets/controls",
            "_model_module_version": "1.5.0",
            "_model_name": "ButtonStyleModel",
            "_view_count": null,
            "_view_module": "@jupyter-widgets/base",
            "_view_module_version": "1.2.0",
            "_view_name": "StyleView",
            "button_color": "#ffaaaa",
            "font_weight": ""
          }
        },
        "98d3f33d85e74abb9fac17826e60fd01": {
          "model_module": "@jupyter-widgets/base",
          "model_name": "LayoutModel",
          "model_module_version": "1.2.0",
          "state": {
            "_model_module": "@jupyter-widgets/base",
            "_model_module_version": "1.2.0",
            "_model_name": "LayoutModel",
            "_view_count": null,
            "_view_module": "@jupyter-widgets/base",
            "_view_module_version": "1.2.0",
            "_view_name": "LayoutView",
            "align_content": null,
            "align_items": null,
            "align_self": null,
            "border": null,
            "bottom": null,
            "display": null,
            "flex": null,
            "flex_flow": null,
            "grid_area": null,
            "grid_auto_columns": null,
            "grid_auto_flow": null,
            "grid_auto_rows": null,
            "grid_column": null,
            "grid_gap": null,
            "grid_row": null,
            "grid_template_areas": null,
            "grid_template_columns": null,
            "grid_template_rows": null,
            "height": "auto",
            "justify_content": null,
            "justify_items": null,
            "left": null,
            "margin": null,
            "max_height": null,
            "max_width": null,
            "min_height": null,
            "min_width": null,
            "object_fit": null,
            "object_position": null,
            "order": null,
            "overflow": null,
            "overflow_x": null,
            "overflow_y": null,
            "padding": null,
            "right": null,
            "top": null,
            "visibility": null,
            "width": "auto"
          }
        },
        "b0c7efe2542a4224a70158063e61823f": {
          "model_module": "@jupyter-widgets/controls",
          "model_name": "DescriptionStyleModel",
          "model_module_version": "1.5.0",
          "state": {
            "_model_module": "@jupyter-widgets/controls",
            "_model_module_version": "1.5.0",
            "_model_name": "DescriptionStyleModel",
            "_view_count": null,
            "_view_module": "@jupyter-widgets/base",
            "_view_module_version": "1.2.0",
            "_view_name": "StyleView",
            "description_width": ""
          }
        },
        "d1fc0d973b0e442fbeeae11c017fc9fa": {
          "model_module": "@jupyter-widgets/base",
          "model_name": "LayoutModel",
          "model_module_version": "1.2.0",
          "state": {
            "_model_module": "@jupyter-widgets/base",
            "_model_module_version": "1.2.0",
            "_model_name": "LayoutModel",
            "_view_count": null,
            "_view_module": "@jupyter-widgets/base",
            "_view_module_version": "1.2.0",
            "_view_name": "LayoutView",
            "align_content": null,
            "align_items": null,
            "align_self": null,
            "border": null,
            "bottom": null,
            "display": null,
            "flex": null,
            "flex_flow": null,
            "grid_area": null,
            "grid_auto_columns": null,
            "grid_auto_flow": null,
            "grid_auto_rows": null,
            "grid_column": null,
            "grid_gap": null,
            "grid_row": null,
            "grid_template_areas": null,
            "grid_template_columns": null,
            "grid_template_rows": null,
            "height": "auto",
            "justify_content": null,
            "justify_items": null,
            "left": null,
            "margin": null,
            "max_height": null,
            "max_width": null,
            "min_height": null,
            "min_width": null,
            "object_fit": null,
            "object_position": null,
            "order": null,
            "overflow": null,
            "overflow_x": null,
            "overflow_y": null,
            "padding": null,
            "right": null,
            "top": null,
            "visibility": null,
            "width": "auto"
          }
        },
        "01520e5b430a4ae2b66c4d5d537c4598": {
          "model_module": "@jupyter-widgets/controls",
          "model_name": "ButtonStyleModel",
          "model_module_version": "1.5.0",
          "state": {
            "_model_module": "@jupyter-widgets/controls",
            "_model_module_version": "1.5.0",
            "_model_name": "ButtonStyleModel",
            "_view_count": null,
            "_view_module": "@jupyter-widgets/base",
            "_view_module_version": "1.2.0",
            "_view_name": "StyleView",
            "button_color": null,
            "font_weight": ""
          }
        },
        "053dd1c17e7f4881b2c71427086650e6": {
          "model_module": "@jupyter-widgets/controls",
          "model_name": "TabModel",
          "model_module_version": "1.5.0",
          "state": {
            "_dom_classes": [],
            "_model_module": "@jupyter-widgets/controls",
            "_model_module_version": "1.5.0",
            "_model_name": "TabModel",
            "_titles": {
              "0": "Youtube",
              "1": "Bilibili"
            },
            "_view_count": null,
            "_view_module": "@jupyter-widgets/controls",
            "_view_module_version": "1.5.0",
            "_view_name": "TabView",
            "box_style": "",
            "children": [
              "IPY_MODEL_5d2b0eba7e3a4b2da3a8a313b26e6ac5",
              "IPY_MODEL_ce0504128f64438e93175bcb6fc72f79"
            ],
            "layout": "IPY_MODEL_a334b085fd9d47a19e96fc70f7e9e9e0",
            "selected_index": 0
          }
        },
        "5d2b0eba7e3a4b2da3a8a313b26e6ac5": {
          "model_module": "@jupyter-widgets/output",
          "model_name": "OutputModel",
          "model_module_version": "1.0.0",
          "state": {
            "_dom_classes": [],
            "_model_module": "@jupyter-widgets/output",
            "_model_module_version": "1.0.0",
            "_model_name": "OutputModel",
            "_view_count": null,
            "_view_module": "@jupyter-widgets/output",
            "_view_module_version": "1.0.0",
            "_view_name": "OutputView",
            "layout": "IPY_MODEL_72bc9237ab92489ab32369a1e870c51e",
            "msg_id": "",
            "outputs": [
              {
                "output_type": "stream",
                "name": "stdout",
                "text": [
                  "Video available at https://youtube.com/watch?v=UP8rD2AwceM\n"
                ]
              },
              {
                "output_type": "display_data",
                "data": {
                  "text/plain": "<IPython.lib.display.YouTubeVideo at 0x7e2c24390190>",
                  "text/html": "\n        <iframe\n            width=\"854\"\n            height=\"480\"\n            src=\"https://www.youtube.com/embed/UP8rD2AwceM?fs=1&rel=0\"\n            frameborder=\"0\"\n            allowfullscreen\n            \n        ></iframe>\n        ",
                  "image/jpeg": "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\n"
                },
                "metadata": {}
              }
            ]
          }
        },
        "ce0504128f64438e93175bcb6fc72f79": {
          "model_module": "@jupyter-widgets/output",
          "model_name": "OutputModel",
          "model_module_version": "1.0.0",
          "state": {
            "_dom_classes": [],
            "_model_module": "@jupyter-widgets/output",
            "_model_module_version": "1.0.0",
            "_model_name": "OutputModel",
            "_view_count": null,
            "_view_module": "@jupyter-widgets/output",
            "_view_module_version": "1.0.0",
            "_view_name": "OutputView",
            "layout": "IPY_MODEL_f744f9f14e1b47b38d415ae6351e8bf4",
            "msg_id": "",
            "outputs": [
              {
                "output_type": "stream",
                "name": "stdout",
                "text": [
                  "Video available at https://www.bilibili.com/video/BV1fg4y1v7P3\n"
                ]
              },
              {
                "output_type": "display_data",
                "data": {
                  "text/plain": "<__main__.PlayVideo at 0x7e2c24390e50>",
                  "text/html": "\n        <iframe\n            width=\"854\"\n            height=\"480\"\n            src=\"https://player.bilibili.com/player.html?bvid=BV1fg4y1v7P3&page=1?fs=1&autoplay=False\"\n            frameborder=\"0\"\n            allowfullscreen\n            \n        ></iframe>\n        "
                },
                "metadata": {}
              }
            ]
          }
        },
        "a334b085fd9d47a19e96fc70f7e9e9e0": {
          "model_module": "@jupyter-widgets/base",
          "model_name": "LayoutModel",
          "model_module_version": "1.2.0",
          "state": {
            "_model_module": "@jupyter-widgets/base",
            "_model_module_version": "1.2.0",
            "_model_name": "LayoutModel",
            "_view_count": null,
            "_view_module": "@jupyter-widgets/base",
            "_view_module_version": "1.2.0",
            "_view_name": "LayoutView",
            "align_content": null,
            "align_items": null,
            "align_self": null,
            "border": null,
            "bottom": null,
            "display": null,
            "flex": null,
            "flex_flow": null,
            "grid_area": null,
            "grid_auto_columns": null,
            "grid_auto_flow": null,
            "grid_auto_rows": null,
            "grid_column": null,
            "grid_gap": null,
            "grid_row": null,
            "grid_template_areas": null,
            "grid_template_columns": null,
            "grid_template_rows": null,
            "height": null,
            "justify_content": null,
            "justify_items": null,
            "left": null,
            "margin": null,
            "max_height": null,
            "max_width": null,
            "min_height": null,
            "min_width": null,
            "object_fit": null,
            "object_position": null,
            "order": null,
            "overflow": null,
            "overflow_x": null,
            "overflow_y": null,
            "padding": null,
            "right": null,
            "top": null,
            "visibility": null,
            "width": null
          }
        },
        "72bc9237ab92489ab32369a1e870c51e": {
          "model_module": "@jupyter-widgets/base",
          "model_name": "LayoutModel",
          "model_module_version": "1.2.0",
          "state": {
            "_model_module": "@jupyter-widgets/base",
            "_model_module_version": "1.2.0",
            "_model_name": "LayoutModel",
            "_view_count": null,
            "_view_module": "@jupyter-widgets/base",
            "_view_module_version": "1.2.0",
            "_view_name": "LayoutView",
            "align_content": null,
            "align_items": null,
            "align_self": null,
            "border": null,
            "bottom": null,
            "display": null,
            "flex": null,
            "flex_flow": null,
            "grid_area": null,
            "grid_auto_columns": null,
            "grid_auto_flow": null,
            "grid_auto_rows": null,
            "grid_column": null,
            "grid_gap": null,
            "grid_row": null,
            "grid_template_areas": null,
            "grid_template_columns": null,
            "grid_template_rows": null,
            "height": null,
            "justify_content": null,
            "justify_items": null,
            "left": null,
            "margin": null,
            "max_height": null,
            "max_width": null,
            "min_height": null,
            "min_width": null,
            "object_fit": null,
            "object_position": null,
            "order": null,
            "overflow": null,
            "overflow_x": null,
            "overflow_y": null,
            "padding": null,
            "right": null,
            "top": null,
            "visibility": null,
            "width": null
          }
        },
        "f744f9f14e1b47b38d415ae6351e8bf4": {
          "model_module": "@jupyter-widgets/base",
          "model_name": "LayoutModel",
          "model_module_version": "1.2.0",
          "state": {
            "_model_module": "@jupyter-widgets/base",
            "_model_module_version": "1.2.0",
            "_model_name": "LayoutModel",
            "_view_count": null,
            "_view_module": "@jupyter-widgets/base",
            "_view_module_version": "1.2.0",
            "_view_name": "LayoutView",
            "align_content": null,
            "align_items": null,
            "align_self": null,
            "border": null,
            "bottom": null,
            "display": null,
            "flex": null,
            "flex_flow": null,
            "grid_area": null,
            "grid_auto_columns": null,
            "grid_auto_flow": null,
            "grid_auto_rows": null,
            "grid_column": null,
            "grid_gap": null,
            "grid_row": null,
            "grid_template_areas": null,
            "grid_template_columns": null,
            "grid_template_rows": null,
            "height": null,
            "justify_content": null,
            "justify_items": null,
            "left": null,
            "margin": null,
            "max_height": null,
            "max_width": null,
            "min_height": null,
            "min_width": null,
            "object_fit": null,
            "object_position": null,
            "order": null,
            "overflow": null,
            "overflow_x": null,
            "overflow_y": null,
            "padding": null,
            "right": null,
            "top": null,
            "visibility": null,
            "width": null
          }
        },
        "84d09020a7c548ee96a7990c01d477e7": {
          "model_module": "@jupyter-widgets/controls",
          "model_name": "VBoxModel",
          "model_module_version": "1.5.0",
          "state": {
            "_dom_classes": [],
            "_model_module": "@jupyter-widgets/controls",
            "_model_module_version": "1.5.0",
            "_model_name": "VBoxModel",
            "_view_count": null,
            "_view_module": "@jupyter-widgets/controls",
            "_view_module_version": "1.5.0",
            "_view_name": "VBoxView",
            "box_style": "",
            "children": [
              "IPY_MODEL_2b42197ceb78401ebbf9d95eb18dae3f"
            ],
            "layout": "IPY_MODEL_9c6b4986571c41e09acf92d8269a2707"
          }
        },
        "2b42197ceb78401ebbf9d95eb18dae3f": {
          "model_module": "@jupyter-widgets/controls",
          "model_name": "VBoxModel",
          "model_module_version": "1.5.0",
          "state": {
            "_dom_classes": [],
            "_model_module": "@jupyter-widgets/controls",
            "_model_module_version": "1.5.0",
            "_model_name": "VBoxModel",
            "_view_count": null,
            "_view_module": "@jupyter-widgets/controls",
            "_view_module_version": "1.5.0",
            "_view_name": "VBoxView",
            "box_style": "",
            "children": [
              "IPY_MODEL_308d10ccab16488687239d38f437ce5a",
              "IPY_MODEL_8090adeaf55f4781b8e5aa7985615532",
              "IPY_MODEL_ada9bc83d7f34a0494bffa2adc1b5f85"
            ],
            "layout": "IPY_MODEL_9127f1b92f9a428c9d6e8aafbfd17527"
          }
        },
        "9c6b4986571c41e09acf92d8269a2707": {
          "model_module": "@jupyter-widgets/base",
          "model_name": "LayoutModel",
          "model_module_version": "1.2.0",
          "state": {
            "_model_module": "@jupyter-widgets/base",
            "_model_module_version": "1.2.0",
            "_model_name": "LayoutModel",
            "_view_count": null,
            "_view_module": "@jupyter-widgets/base",
            "_view_module_version": "1.2.0",
            "_view_name": "LayoutView",
            "align_content": null,
            "align_items": null,
            "align_self": null,
            "border": null,
            "bottom": null,
            "display": null,
            "flex": null,
            "flex_flow": null,
            "grid_area": null,
            "grid_auto_columns": null,
            "grid_auto_flow": null,
            "grid_auto_rows": null,
            "grid_column": null,
            "grid_gap": null,
            "grid_row": null,
            "grid_template_areas": null,
            "grid_template_columns": null,
            "grid_template_rows": null,
            "height": null,
            "justify_content": null,
            "justify_items": null,
            "left": null,
            "margin": null,
            "max_height": null,
            "max_width": null,
            "min_height": null,
            "min_width": null,
            "object_fit": null,
            "object_position": null,
            "order": null,
            "overflow": null,
            "overflow_x": null,
            "overflow_y": null,
            "padding": null,
            "right": null,
            "top": null,
            "visibility": null,
            "width": null
          }
        },
        "308d10ccab16488687239d38f437ce5a": {
          "model_module": "@jupyter-widgets/controls",
          "model_name": "HBoxModel",
          "model_module_version": "1.5.0",
          "state": {
            "_dom_classes": [],
            "_model_module": "@jupyter-widgets/controls",
            "_model_module_version": "1.5.0",
            "_model_name": "HBoxModel",
            "_view_count": null,
            "_view_module": "@jupyter-widgets/controls",
            "_view_module_version": "1.5.0",
            "_view_name": "HBoxView",
            "box_style": "",
            "children": [
              "IPY_MODEL_aa0128f41995452fa34982a57534c41a",
              "IPY_MODEL_f8b5d7aa93464ef681a7c282aead7182",
              "IPY_MODEL_0fb356af82624256ba3c5fd4ff15a458"
            ],
            "layout": "IPY_MODEL_2495435b565348db9c13509ed9a6193f"
          }
        },
        "8090adeaf55f4781b8e5aa7985615532": {
          "model_module": "@jupyter-widgets/controls",
          "model_name": "HBoxModel",
          "model_module_version": "1.5.0",
          "state": {
            "_dom_classes": [],
            "_model_module": "@jupyter-widgets/controls",
            "_model_module_version": "1.5.0",
            "_model_name": "HBoxModel",
            "_view_count": null,
            "_view_module": "@jupyter-widgets/controls",
            "_view_module_version": "1.5.0",
            "_view_name": "HBoxView",
            "box_style": "",
            "children": [
              "IPY_MODEL_9aa014c42e57473f8238763f4e7f3ec0",
              "IPY_MODEL_b106a89c8602420e93632daf2a64a0de"
            ],
            "layout": "IPY_MODEL_98f9ccdcea8b43999ddaec252273d2a0"
          }
        },
        "ada9bc83d7f34a0494bffa2adc1b5f85": {
          "model_module": "@jupyter-widgets/controls",
          "model_name": "LabelModel",
          "model_module_version": "1.5.0",
          "state": {
            "_dom_classes": [],
            "_model_module": "@jupyter-widgets/controls",
            "_model_module_version": "1.5.0",
            "_model_name": "LabelModel",
            "_view_count": null,
            "_view_module": "@jupyter-widgets/controls",
            "_view_module_version": "1.5.0",
            "_view_name": "LabelView",
            "description": "",
            "description_tooltip": null,
            "layout": "IPY_MODEL_f3377d8bdc214a24a7eeecb7d591a8de",
            "placeholder": "​",
            "style": "IPY_MODEL_583a653c7c844befa5b67a542add4103",
            "value": "Thanks for your feedback!"
          }
        },
        "9127f1b92f9a428c9d6e8aafbfd17527": {
          "model_module": "@jupyter-widgets/base",
          "model_name": "LayoutModel",
          "model_module_version": "1.2.0",
          "state": {
            "_model_module": "@jupyter-widgets/base",
            "_model_module_version": "1.2.0",
            "_model_name": "LayoutModel",
            "_view_count": null,
            "_view_module": "@jupyter-widgets/base",
            "_view_module_version": "1.2.0",
            "_view_name": "LayoutView",
            "align_content": null,
            "align_items": null,
            "align_self": null,
            "border": null,
            "bottom": null,
            "display": null,
            "flex": null,
            "flex_flow": null,
            "grid_area": null,
            "grid_auto_columns": null,
            "grid_auto_flow": null,
            "grid_auto_rows": null,
            "grid_column": null,
            "grid_gap": null,
            "grid_row": null,
            "grid_template_areas": null,
            "grid_template_columns": null,
            "grid_template_rows": null,
            "height": null,
            "justify_content": null,
            "justify_items": null,
            "left": null,
            "margin": null,
            "max_height": null,
            "max_width": null,
            "min_height": null,
            "min_width": null,
            "object_fit": null,
            "object_position": null,
            "order": null,
            "overflow": null,
            "overflow_x": null,
            "overflow_y": null,
            "padding": null,
            "right": null,
            "top": null,
            "visibility": null,
            "width": null
          }
        },
        "aa0128f41995452fa34982a57534c41a": {
          "model_module": "@jupyter-widgets/controls",
          "model_name": "ButtonModel",
          "model_module_version": "1.5.0",
          "state": {
            "_dom_classes": [
              "happy"
            ],
            "_model_module": "@jupyter-widgets/controls",
            "_model_module_version": "1.5.0",
            "_model_name": "ButtonModel",
            "_view_count": null,
            "_view_module": "@jupyter-widgets/controls",
            "_view_module_version": "1.5.0",
            "_view_name": "ButtonView",
            "button_style": "",
            "description": "🙂",
            "disabled": false,
            "icon": "",
            "layout": "IPY_MODEL_c86115124aaf414999d16fa1f65a911e",
            "style": "IPY_MODEL_77a2b41faf554153864b7c1e711740d8",
            "tooltip": "happy"
          }
        },
        "f8b5d7aa93464ef681a7c282aead7182": {
          "model_module": "@jupyter-widgets/controls",
          "model_name": "ButtonModel",
          "model_module_version": "1.5.0",
          "state": {
            "_dom_classes": [
              "medium"
            ],
            "_model_module": "@jupyter-widgets/controls",
            "_model_module_version": "1.5.0",
            "_model_name": "ButtonModel",
            "_view_count": null,
            "_view_module": "@jupyter-widgets/controls",
            "_view_module_version": "1.5.0",
            "_view_name": "ButtonView",
            "button_style": "",
            "description": "😐",
            "disabled": false,
            "icon": "",
            "layout": "IPY_MODEL_cb7f223c0e604c68943383c1f0c92756",
            "style": "IPY_MODEL_defd99e6f82c4808b549d872a12b62a9",
            "tooltip": "medium"
          }
        },
        "0fb356af82624256ba3c5fd4ff15a458": {
          "model_module": "@jupyter-widgets/controls",
          "model_name": "ButtonModel",
          "model_module_version": "1.5.0",
          "state": {
            "_dom_classes": [
              "sad"
            ],
            "_model_module": "@jupyter-widgets/controls",
            "_model_module_version": "1.5.0",
            "_model_name": "ButtonModel",
            "_view_count": null,
            "_view_module": "@jupyter-widgets/controls",
            "_view_module_version": "1.5.0",
            "_view_name": "ButtonView",
            "button_style": "",
            "description": "🙁",
            "disabled": false,
            "icon": "",
            "layout": "IPY_MODEL_cfc9617de7874530951dd67ac3d7c089",
            "style": "IPY_MODEL_c3ffe4e2ca47452ca2ea6fe3b4201849",
            "tooltip": "sad"
          }
        },
        "2495435b565348db9c13509ed9a6193f": {
          "model_module": "@jupyter-widgets/base",
          "model_name": "LayoutModel",
          "model_module_version": "1.2.0",
          "state": {
            "_model_module": "@jupyter-widgets/base",
            "_model_module_version": "1.2.0",
            "_model_name": "LayoutModel",
            "_view_count": null,
            "_view_module": "@jupyter-widgets/base",
            "_view_module_version": "1.2.0",
            "_view_name": "LayoutView",
            "align_content": null,
            "align_items": null,
            "align_self": null,
            "border": null,
            "bottom": null,
            "display": null,
            "flex": null,
            "flex_flow": null,
            "grid_area": null,
            "grid_auto_columns": null,
            "grid_auto_flow": null,
            "grid_auto_rows": null,
            "grid_column": null,
            "grid_gap": null,
            "grid_row": null,
            "grid_template_areas": null,
            "grid_template_columns": null,
            "grid_template_rows": null,
            "height": null,
            "justify_content": null,
            "justify_items": null,
            "left": null,
            "margin": null,
            "max_height": null,
            "max_width": null,
            "min_height": null,
            "min_width": null,
            "object_fit": null,
            "object_position": null,
            "order": null,
            "overflow": null,
            "overflow_x": null,
            "overflow_y": null,
            "padding": null,
            "right": null,
            "top": null,
            "visibility": null,
            "width": null
          }
        },
        "9aa014c42e57473f8238763f4e7f3ec0": {
          "model_module": "@jupyter-widgets/controls",
          "model_name": "TextareaModel",
          "model_module_version": "1.5.0",
          "state": {
            "_dom_classes": [],
            "_model_module": "@jupyter-widgets/controls",
            "_model_module_version": "1.5.0",
            "_model_name": "TextareaModel",
            "_view_count": null,
            "_view_module": "@jupyter-widgets/controls",
            "_view_module_version": "1.5.0",
            "_view_name": "TextareaView",
            "continuous_update": true,
            "description": "",
            "description_tooltip": null,
            "disabled": false,
            "layout": "IPY_MODEL_2d9402c5594047a2a6d03c38a8d46254",
            "placeholder": "We want your feedback!",
            "rows": null,
            "style": "IPY_MODEL_b70f780a9d1a456f877d6a379fffde91",
            "value": ""
          }
        },
        "b106a89c8602420e93632daf2a64a0de": {
          "model_module": "@jupyter-widgets/controls",
          "model_name": "ButtonModel",
          "model_module_version": "1.5.0",
          "state": {
            "_dom_classes": [],
            "_model_module": "@jupyter-widgets/controls",
            "_model_module_version": "1.5.0",
            "_model_name": "ButtonModel",
            "_view_count": null,
            "_view_module": "@jupyter-widgets/controls",
            "_view_module_version": "1.5.0",
            "_view_name": "ButtonView",
            "button_style": "",
            "description": "Submit",
            "disabled": false,
            "icon": "",
            "layout": "IPY_MODEL_6c0377eda67a445bb69d5bda3c3a0697",
            "style": "IPY_MODEL_cfb5341a7726410a8e0ac5a4748757b9",
            "tooltip": ""
          }
        },
        "98f9ccdcea8b43999ddaec252273d2a0": {
          "model_module": "@jupyter-widgets/base",
          "model_name": "LayoutModel",
          "model_module_version": "1.2.0",
          "state": {
            "_model_module": "@jupyter-widgets/base",
            "_model_module_version": "1.2.0",
            "_model_name": "LayoutModel",
            "_view_count": null,
            "_view_module": "@jupyter-widgets/base",
            "_view_module_version": "1.2.0",
            "_view_name": "LayoutView",
            "align_content": null,
            "align_items": null,
            "align_self": null,
            "border": null,
            "bottom": null,
            "display": "none",
            "flex": null,
            "flex_flow": null,
            "grid_area": null,
            "grid_auto_columns": null,
            "grid_auto_flow": null,
            "grid_auto_rows": null,
            "grid_column": null,
            "grid_gap": null,
            "grid_row": null,
            "grid_template_areas": null,
            "grid_template_columns": null,
            "grid_template_rows": null,
            "height": null,
            "justify_content": null,
            "justify_items": null,
            "left": null,
            "margin": null,
            "max_height": null,
            "max_width": null,
            "min_height": null,
            "min_width": null,
            "object_fit": null,
            "object_position": null,
            "order": null,
            "overflow": null,
            "overflow_x": null,
            "overflow_y": null,
            "padding": null,
            "right": null,
            "top": null,
            "visibility": null,
            "width": null
          }
        },
        "f3377d8bdc214a24a7eeecb7d591a8de": {
          "model_module": "@jupyter-widgets/base",
          "model_name": "LayoutModel",
          "model_module_version": "1.2.0",
          "state": {
            "_model_module": "@jupyter-widgets/base",
            "_model_module_version": "1.2.0",
            "_model_name": "LayoutModel",
            "_view_count": null,
            "_view_module": "@jupyter-widgets/base",
            "_view_module_version": "1.2.0",
            "_view_name": "LayoutView",
            "align_content": null,
            "align_items": null,
            "align_self": null,
            "border": null,
            "bottom": null,
            "display": "none",
            "flex": null,
            "flex_flow": null,
            "grid_area": null,
            "grid_auto_columns": null,
            "grid_auto_flow": null,
            "grid_auto_rows": null,
            "grid_column": null,
            "grid_gap": null,
            "grid_row": null,
            "grid_template_areas": null,
            "grid_template_columns": null,
            "grid_template_rows": null,
            "height": null,
            "justify_content": null,
            "justify_items": null,
            "left": null,
            "margin": null,
            "max_height": null,
            "max_width": null,
            "min_height": null,
            "min_width": null,
            "object_fit": null,
            "object_position": null,
            "order": null,
            "overflow": null,
            "overflow_x": null,
            "overflow_y": null,
            "padding": null,
            "right": null,
            "top": null,
            "visibility": null,
            "width": null
          }
        },
        "583a653c7c844befa5b67a542add4103": {
          "model_module": "@jupyter-widgets/controls",
          "model_name": "DescriptionStyleModel",
          "model_module_version": "1.5.0",
          "state": {
            "_model_module": "@jupyter-widgets/controls",
            "_model_module_version": "1.5.0",
            "_model_name": "DescriptionStyleModel",
            "_view_count": null,
            "_view_module": "@jupyter-widgets/base",
            "_view_module_version": "1.2.0",
            "_view_name": "StyleView",
            "description_width": ""
          }
        },
        "c86115124aaf414999d16fa1f65a911e": {
          "model_module": "@jupyter-widgets/base",
          "model_name": "LayoutModel",
          "model_module_version": "1.2.0",
          "state": {
            "_model_module": "@jupyter-widgets/base",
            "_model_module_version": "1.2.0",
            "_model_name": "LayoutModel",
            "_view_count": null,
            "_view_module": "@jupyter-widgets/base",
            "_view_module_version": "1.2.0",
            "_view_name": "LayoutView",
            "align_content": null,
            "align_items": null,
            "align_self": null,
            "border": null,
            "bottom": null,
            "display": null,
            "flex": null,
            "flex_flow": null,
            "grid_area": null,
            "grid_auto_columns": null,
            "grid_auto_flow": null,
            "grid_auto_rows": null,
            "grid_column": null,
            "grid_gap": null,
            "grid_row": null,
            "grid_template_areas": null,
            "grid_template_columns": null,
            "grid_template_rows": null,
            "height": "auto",
            "justify_content": null,
            "justify_items": null,
            "left": null,
            "margin": null,
            "max_height": null,
            "max_width": null,
            "min_height": null,
            "min_width": null,
            "object_fit": null,
            "object_position": null,
            "order": null,
            "overflow": null,
            "overflow_x": null,
            "overflow_y": null,
            "padding": "0.5em",
            "right": null,
            "top": null,
            "visibility": null,
            "width": "auto"
          }
        },
        "77a2b41faf554153864b7c1e711740d8": {
          "model_module": "@jupyter-widgets/controls",
          "model_name": "ButtonStyleModel",
          "model_module_version": "1.5.0",
          "state": {
            "_model_module": "@jupyter-widgets/controls",
            "_model_module_version": "1.5.0",
            "_model_name": "ButtonStyleModel",
            "_view_count": null,
            "_view_module": "@jupyter-widgets/base",
            "_view_module_version": "1.2.0",
            "_view_name": "StyleView",
            "button_color": "#aaffaa",
            "font_weight": ""
          }
        },
        "cb7f223c0e604c68943383c1f0c92756": {
          "model_module": "@jupyter-widgets/base",
          "model_name": "LayoutModel",
          "model_module_version": "1.2.0",
          "state": {
            "_model_module": "@jupyter-widgets/base",
            "_model_module_version": "1.2.0",
            "_model_name": "LayoutModel",
            "_view_count": null,
            "_view_module": "@jupyter-widgets/base",
            "_view_module_version": "1.2.0",
            "_view_name": "LayoutView",
            "align_content": null,
            "align_items": null,
            "align_self": null,
            "border": null,
            "bottom": null,
            "display": null,
            "flex": null,
            "flex_flow": null,
            "grid_area": null,
            "grid_auto_columns": null,
            "grid_auto_flow": null,
            "grid_auto_rows": null,
            "grid_column": null,
            "grid_gap": null,
            "grid_row": null,
            "grid_template_areas": null,
            "grid_template_columns": null,
            "grid_template_rows": null,
            "height": "auto",
            "justify_content": null,
            "justify_items": null,
            "left": null,
            "margin": null,
            "max_height": null,
            "max_width": null,
            "min_height": null,
            "min_width": null,
            "object_fit": null,
            "object_position": null,
            "order": null,
            "overflow": null,
            "overflow_x": null,
            "overflow_y": null,
            "padding": "0.5em",
            "right": null,
            "top": null,
            "visibility": null,
            "width": "auto"
          }
        },
        "defd99e6f82c4808b549d872a12b62a9": {
          "model_module": "@jupyter-widgets/controls",
          "model_name": "ButtonStyleModel",
          "model_module_version": "1.5.0",
          "state": {
            "_model_module": "@jupyter-widgets/controls",
            "_model_module_version": "1.5.0",
            "_model_name": "ButtonStyleModel",
            "_view_count": null,
            "_view_module": "@jupyter-widgets/base",
            "_view_module_version": "1.2.0",
            "_view_name": "StyleView",
            "button_color": "#dddd77",
            "font_weight": ""
          }
        },
        "cfc9617de7874530951dd67ac3d7c089": {
          "model_module": "@jupyter-widgets/base",
          "model_name": "LayoutModel",
          "model_module_version": "1.2.0",
          "state": {
            "_model_module": "@jupyter-widgets/base",
            "_model_module_version": "1.2.0",
            "_model_name": "LayoutModel",
            "_view_count": null,
            "_view_module": "@jupyter-widgets/base",
            "_view_module_version": "1.2.0",
            "_view_name": "LayoutView",
            "align_content": null,
            "align_items": null,
            "align_self": null,
            "border": null,
            "bottom": null,
            "display": null,
            "flex": null,
            "flex_flow": null,
            "grid_area": null,
            "grid_auto_columns": null,
            "grid_auto_flow": null,
            "grid_auto_rows": null,
            "grid_column": null,
            "grid_gap": null,
            "grid_row": null,
            "grid_template_areas": null,
            "grid_template_columns": null,
            "grid_template_rows": null,
            "height": "auto",
            "justify_content": null,
            "justify_items": null,
            "left": null,
            "margin": null,
            "max_height": null,
            "max_width": null,
            "min_height": null,
            "min_width": null,
            "object_fit": null,
            "object_position": null,
            "order": null,
            "overflow": null,
            "overflow_x": null,
            "overflow_y": null,
            "padding": "0.5em",
            "right": null,
            "top": null,
            "visibility": null,
            "width": "auto"
          }
        },
        "c3ffe4e2ca47452ca2ea6fe3b4201849": {
          "model_module": "@jupyter-widgets/controls",
          "model_name": "ButtonStyleModel",
          "model_module_version": "1.5.0",
          "state": {
            "_model_module": "@jupyter-widgets/controls",
            "_model_module_version": "1.5.0",
            "_model_name": "ButtonStyleModel",
            "_view_count": null,
            "_view_module": "@jupyter-widgets/base",
            "_view_module_version": "1.2.0",
            "_view_name": "StyleView",
            "button_color": "#ffaaaa",
            "font_weight": ""
          }
        },
        "2d9402c5594047a2a6d03c38a8d46254": {
          "model_module": "@jupyter-widgets/base",
          "model_name": "LayoutModel",
          "model_module_version": "1.2.0",
          "state": {
            "_model_module": "@jupyter-widgets/base",
            "_model_module_version": "1.2.0",
            "_model_name": "LayoutModel",
            "_view_count": null,
            "_view_module": "@jupyter-widgets/base",
            "_view_module_version": "1.2.0",
            "_view_name": "LayoutView",
            "align_content": null,
            "align_items": null,
            "align_self": null,
            "border": null,
            "bottom": null,
            "display": null,
            "flex": null,
            "flex_flow": null,
            "grid_area": null,
            "grid_auto_columns": null,
            "grid_auto_flow": null,
            "grid_auto_rows": null,
            "grid_column": null,
            "grid_gap": null,
            "grid_row": null,
            "grid_template_areas": null,
            "grid_template_columns": null,
            "grid_template_rows": null,
            "height": "auto",
            "justify_content": null,
            "justify_items": null,
            "left": null,
            "margin": null,
            "max_height": null,
            "max_width": null,
            "min_height": null,
            "min_width": null,
            "object_fit": null,
            "object_position": null,
            "order": null,
            "overflow": null,
            "overflow_x": null,
            "overflow_y": null,
            "padding": null,
            "right": null,
            "top": null,
            "visibility": null,
            "width": "auto"
          }
        },
        "b70f780a9d1a456f877d6a379fffde91": {
          "model_module": "@jupyter-widgets/controls",
          "model_name": "DescriptionStyleModel",
          "model_module_version": "1.5.0",
          "state": {
            "_model_module": "@jupyter-widgets/controls",
            "_model_module_version": "1.5.0",
            "_model_name": "DescriptionStyleModel",
            "_view_count": null,
            "_view_module": "@jupyter-widgets/base",
            "_view_module_version": "1.2.0",
            "_view_name": "StyleView",
            "description_width": ""
          }
        },
        "6c0377eda67a445bb69d5bda3c3a0697": {
          "model_module": "@jupyter-widgets/base",
          "model_name": "LayoutModel",
          "model_module_version": "1.2.0",
          "state": {
            "_model_module": "@jupyter-widgets/base",
            "_model_module_version": "1.2.0",
            "_model_name": "LayoutModel",
            "_view_count": null,
            "_view_module": "@jupyter-widgets/base",
            "_view_module_version": "1.2.0",
            "_view_name": "LayoutView",
            "align_content": null,
            "align_items": null,
            "align_self": null,
            "border": null,
            "bottom": null,
            "display": null,
            "flex": null,
            "flex_flow": null,
            "grid_area": null,
            "grid_auto_columns": null,
            "grid_auto_flow": null,
            "grid_auto_rows": null,
            "grid_column": null,
            "grid_gap": null,
            "grid_row": null,
            "grid_template_areas": null,
            "grid_template_columns": null,
            "grid_template_rows": null,
            "height": "auto",
            "justify_content": null,
            "justify_items": null,
            "left": null,
            "margin": null,
            "max_height": null,
            "max_width": null,
            "min_height": null,
            "min_width": null,
            "object_fit": null,
            "object_position": null,
            "order": null,
            "overflow": null,
            "overflow_x": null,
            "overflow_y": null,
            "padding": null,
            "right": null,
            "top": null,
            "visibility": null,
            "width": "auto"
          }
        },
        "cfb5341a7726410a8e0ac5a4748757b9": {
          "model_module": "@jupyter-widgets/controls",
          "model_name": "ButtonStyleModel",
          "model_module_version": "1.5.0",
          "state": {
            "_model_module": "@jupyter-widgets/controls",
            "_model_module_version": "1.5.0",
            "_model_name": "ButtonStyleModel",
            "_view_count": null,
            "_view_module": "@jupyter-widgets/base",
            "_view_module_version": "1.2.0",
            "_view_name": "StyleView",
            "button_color": null,
            "font_weight": ""
          }
        },
        "150f501d31154afcaa41428656e8ed28": {
          "model_module": "@jupyter-widgets/controls",
          "model_name": "VBoxModel",
          "model_module_version": "1.5.0",
          "state": {
            "_dom_classes": [],
            "_model_module": "@jupyter-widgets/controls",
            "_model_module_version": "1.5.0",
            "_model_name": "VBoxModel",
            "_view_count": null,
            "_view_module": "@jupyter-widgets/controls",
            "_view_module_version": "1.5.0",
            "_view_name": "VBoxView",
            "box_style": "",
            "children": [
              "IPY_MODEL_88bb9f726539403e9da5951f9fd78ccb"
            ],
            "layout": "IPY_MODEL_996353d2f9144ff1b476f9c8ead82ffa"
          }
        },
        "88bb9f726539403e9da5951f9fd78ccb": {
          "model_module": "@jupyter-widgets/controls",
          "model_name": "VBoxModel",
          "model_module_version": "1.5.0",
          "state": {
            "_dom_classes": [],
            "_model_module": "@jupyter-widgets/controls",
            "_model_module_version": "1.5.0",
            "_model_name": "VBoxModel",
            "_view_count": null,
            "_view_module": "@jupyter-widgets/controls",
            "_view_module_version": "1.5.0",
            "_view_name": "VBoxView",
            "box_style": "",
            "children": [
              "IPY_MODEL_9dacf34a6bbf496a9d685be1c5d16f07",
              "IPY_MODEL_37bf46787ce14feeb52f0a0bcbd01447",
              "IPY_MODEL_ba3655a109ec41939c2ed0f4ba7970d0"
            ],
            "layout": "IPY_MODEL_7cc96957bff1465d9e3c434c07df667e"
          }
        },
        "996353d2f9144ff1b476f9c8ead82ffa": {
          "model_module": "@jupyter-widgets/base",
          "model_name": "LayoutModel",
          "model_module_version": "1.2.0",
          "state": {
            "_model_module": "@jupyter-widgets/base",
            "_model_module_version": "1.2.0",
            "_model_name": "LayoutModel",
            "_view_count": null,
            "_view_module": "@jupyter-widgets/base",
            "_view_module_version": "1.2.0",
            "_view_name": "LayoutView",
            "align_content": null,
            "align_items": null,
            "align_self": null,
            "border": null,
            "bottom": null,
            "display": null,
            "flex": null,
            "flex_flow": null,
            "grid_area": null,
            "grid_auto_columns": null,
            "grid_auto_flow": null,
            "grid_auto_rows": null,
            "grid_column": null,
            "grid_gap": null,
            "grid_row": null,
            "grid_template_areas": null,
            "grid_template_columns": null,
            "grid_template_rows": null,
            "height": null,
            "justify_content": null,
            "justify_items": null,
            "left": null,
            "margin": null,
            "max_height": null,
            "max_width": null,
            "min_height": null,
            "min_width": null,
            "object_fit": null,
            "object_position": null,
            "order": null,
            "overflow": null,
            "overflow_x": null,
            "overflow_y": null,
            "padding": null,
            "right": null,
            "top": null,
            "visibility": null,
            "width": null
          }
        },
        "9dacf34a6bbf496a9d685be1c5d16f07": {
          "model_module": "@jupyter-widgets/controls",
          "model_name": "HBoxModel",
          "model_module_version": "1.5.0",
          "state": {
            "_dom_classes": [],
            "_model_module": "@jupyter-widgets/controls",
            "_model_module_version": "1.5.0",
            "_model_name": "HBoxModel",
            "_view_count": null,
            "_view_module": "@jupyter-widgets/controls",
            "_view_module_version": "1.5.0",
            "_view_name": "HBoxView",
            "box_style": "",
            "children": [
              "IPY_MODEL_e7035d2f8c86463eb801a92de83f91a5",
              "IPY_MODEL_1969b09d98a147709c4cd8e530c1d51f",
              "IPY_MODEL_5f5b671e96d14e99ad36c5538699a072"
            ],
            "layout": "IPY_MODEL_c9f1d72a0fba46db88bbbb6bd822923d"
          }
        },
        "37bf46787ce14feeb52f0a0bcbd01447": {
          "model_module": "@jupyter-widgets/controls",
          "model_name": "HBoxModel",
          "model_module_version": "1.5.0",
          "state": {
            "_dom_classes": [],
            "_model_module": "@jupyter-widgets/controls",
            "_model_module_version": "1.5.0",
            "_model_name": "HBoxModel",
            "_view_count": null,
            "_view_module": "@jupyter-widgets/controls",
            "_view_module_version": "1.5.0",
            "_view_name": "HBoxView",
            "box_style": "",
            "children": [
              "IPY_MODEL_4c80dd850c1a4bb8859e92d1a0d8e407",
              "IPY_MODEL_de9823505eeb4ebdae8617bea8c27c43"
            ],
            "layout": "IPY_MODEL_79045febd4224a7f89b4f1858f449e7e"
          }
        },
        "ba3655a109ec41939c2ed0f4ba7970d0": {
          "model_module": "@jupyter-widgets/controls",
          "model_name": "LabelModel",
          "model_module_version": "1.5.0",
          "state": {
            "_dom_classes": [],
            "_model_module": "@jupyter-widgets/controls",
            "_model_module_version": "1.5.0",
            "_model_name": "LabelModel",
            "_view_count": null,
            "_view_module": "@jupyter-widgets/controls",
            "_view_module_version": "1.5.0",
            "_view_name": "LabelView",
            "description": "",
            "description_tooltip": null,
            "layout": "IPY_MODEL_0d74c09f4a964942a25125e247e1e568",
            "placeholder": "​",
            "style": "IPY_MODEL_0635b99ccbb5456cb56d4ff8020c76ac",
            "value": "Thanks for your feedback!"
          }
        },
        "7cc96957bff1465d9e3c434c07df667e": {
          "model_module": "@jupyter-widgets/base",
          "model_name": "LayoutModel",
          "model_module_version": "1.2.0",
          "state": {
            "_model_module": "@jupyter-widgets/base",
            "_model_module_version": "1.2.0",
            "_model_name": "LayoutModel",
            "_view_count": null,
            "_view_module": "@jupyter-widgets/base",
            "_view_module_version": "1.2.0",
            "_view_name": "LayoutView",
            "align_content": null,
            "align_items": null,
            "align_self": null,
            "border": null,
            "bottom": null,
            "display": null,
            "flex": null,
            "flex_flow": null,
            "grid_area": null,
            "grid_auto_columns": null,
            "grid_auto_flow": null,
            "grid_auto_rows": null,
            "grid_column": null,
            "grid_gap": null,
            "grid_row": null,
            "grid_template_areas": null,
            "grid_template_columns": null,
            "grid_template_rows": null,
            "height": null,
            "justify_content": null,
            "justify_items": null,
            "left": null,
            "margin": null,
            "max_height": null,
            "max_width": null,
            "min_height": null,
            "min_width": null,
            "object_fit": null,
            "object_position": null,
            "order": null,
            "overflow": null,
            "overflow_x": null,
            "overflow_y": null,
            "padding": null,
            "right": null,
            "top": null,
            "visibility": null,
            "width": null
          }
        },
        "e7035d2f8c86463eb801a92de83f91a5": {
          "model_module": "@jupyter-widgets/controls",
          "model_name": "ButtonModel",
          "model_module_version": "1.5.0",
          "state": {
            "_dom_classes": [
              "happy"
            ],
            "_model_module": "@jupyter-widgets/controls",
            "_model_module_version": "1.5.0",
            "_model_name": "ButtonModel",
            "_view_count": null,
            "_view_module": "@jupyter-widgets/controls",
            "_view_module_version": "1.5.0",
            "_view_name": "ButtonView",
            "button_style": "",
            "description": "🙂",
            "disabled": false,
            "icon": "",
            "layout": "IPY_MODEL_07b6a5d83e054b329d4f19838d8f0276",
            "style": "IPY_MODEL_e38f7f22dcac44ce8c33aa8a611af9d2",
            "tooltip": "happy"
          }
        },
        "1969b09d98a147709c4cd8e530c1d51f": {
          "model_module": "@jupyter-widgets/controls",
          "model_name": "ButtonModel",
          "model_module_version": "1.5.0",
          "state": {
            "_dom_classes": [
              "medium"
            ],
            "_model_module": "@jupyter-widgets/controls",
            "_model_module_version": "1.5.0",
            "_model_name": "ButtonModel",
            "_view_count": null,
            "_view_module": "@jupyter-widgets/controls",
            "_view_module_version": "1.5.0",
            "_view_name": "ButtonView",
            "button_style": "",
            "description": "😐",
            "disabled": false,
            "icon": "",
            "layout": "IPY_MODEL_7726f1780be34ee1a70345ed8b955644",
            "style": "IPY_MODEL_471960b1060a46e8b2dfb0ff4f922e49",
            "tooltip": "medium"
          }
        },
        "5f5b671e96d14e99ad36c5538699a072": {
          "model_module": "@jupyter-widgets/controls",
          "model_name": "ButtonModel",
          "model_module_version": "1.5.0",
          "state": {
            "_dom_classes": [
              "sad"
            ],
            "_model_module": "@jupyter-widgets/controls",
            "_model_module_version": "1.5.0",
            "_model_name": "ButtonModel",
            "_view_count": null,
            "_view_module": "@jupyter-widgets/controls",
            "_view_module_version": "1.5.0",
            "_view_name": "ButtonView",
            "button_style": "",
            "description": "🙁",
            "disabled": false,
            "icon": "",
            "layout": "IPY_MODEL_bf91aa6ff32a458eb25a7a45318a7de3",
            "style": "IPY_MODEL_19e77a9fabd94054a25cbb3996d754c8",
            "tooltip": "sad"
          }
        },
        "c9f1d72a0fba46db88bbbb6bd822923d": {
          "model_module": "@jupyter-widgets/base",
          "model_name": "LayoutModel",
          "model_module_version": "1.2.0",
          "state": {
            "_model_module": "@jupyter-widgets/base",
            "_model_module_version": "1.2.0",
            "_model_name": "LayoutModel",
            "_view_count": null,
            "_view_module": "@jupyter-widgets/base",
            "_view_module_version": "1.2.0",
            "_view_name": "LayoutView",
            "align_content": null,
            "align_items": null,
            "align_self": null,
            "border": null,
            "bottom": null,
            "display": null,
            "flex": null,
            "flex_flow": null,
            "grid_area": null,
            "grid_auto_columns": null,
            "grid_auto_flow": null,
            "grid_auto_rows": null,
            "grid_column": null,
            "grid_gap": null,
            "grid_row": null,
            "grid_template_areas": null,
            "grid_template_columns": null,
            "grid_template_rows": null,
            "height": null,
            "justify_content": null,
            "justify_items": null,
            "left": null,
            "margin": null,
            "max_height": null,
            "max_width": null,
            "min_height": null,
            "min_width": null,
            "object_fit": null,
            "object_position": null,
            "order": null,
            "overflow": null,
            "overflow_x": null,
            "overflow_y": null,
            "padding": null,
            "right": null,
            "top": null,
            "visibility": null,
            "width": null
          }
        },
        "4c80dd850c1a4bb8859e92d1a0d8e407": {
          "model_module": "@jupyter-widgets/controls",
          "model_name": "TextareaModel",
          "model_module_version": "1.5.0",
          "state": {
            "_dom_classes": [],
            "_model_module": "@jupyter-widgets/controls",
            "_model_module_version": "1.5.0",
            "_model_name": "TextareaModel",
            "_view_count": null,
            "_view_module": "@jupyter-widgets/controls",
            "_view_module_version": "1.5.0",
            "_view_name": "TextareaView",
            "continuous_update": true,
            "description": "",
            "description_tooltip": null,
            "disabled": false,
            "layout": "IPY_MODEL_e54f0f2e2ca74ef3ab61e7a6f691ea07",
            "placeholder": "We want your feedback!",
            "rows": null,
            "style": "IPY_MODEL_0aefc3c31f9f463f98e635f4092ae23b",
            "value": ""
          }
        },
        "de9823505eeb4ebdae8617bea8c27c43": {
          "model_module": "@jupyter-widgets/controls",
          "model_name": "ButtonModel",
          "model_module_version": "1.5.0",
          "state": {
            "_dom_classes": [],
            "_model_module": "@jupyter-widgets/controls",
            "_model_module_version": "1.5.0",
            "_model_name": "ButtonModel",
            "_view_count": null,
            "_view_module": "@jupyter-widgets/controls",
            "_view_module_version": "1.5.0",
            "_view_name": "ButtonView",
            "button_style": "",
            "description": "Submit",
            "disabled": false,
            "icon": "",
            "layout": "IPY_MODEL_b103cb0a8e994b07afad754a656f3646",
            "style": "IPY_MODEL_837589a74e0f4062846d8f96a9b36ab0",
            "tooltip": ""
          }
        },
        "79045febd4224a7f89b4f1858f449e7e": {
          "model_module": "@jupyter-widgets/base",
          "model_name": "LayoutModel",
          "model_module_version": "1.2.0",
          "state": {
            "_model_module": "@jupyter-widgets/base",
            "_model_module_version": "1.2.0",
            "_model_name": "LayoutModel",
            "_view_count": null,
            "_view_module": "@jupyter-widgets/base",
            "_view_module_version": "1.2.0",
            "_view_name": "LayoutView",
            "align_content": null,
            "align_items": null,
            "align_self": null,
            "border": null,
            "bottom": null,
            "display": "none",
            "flex": null,
            "flex_flow": null,
            "grid_area": null,
            "grid_auto_columns": null,
            "grid_auto_flow": null,
            "grid_auto_rows": null,
            "grid_column": null,
            "grid_gap": null,
            "grid_row": null,
            "grid_template_areas": null,
            "grid_template_columns": null,
            "grid_template_rows": null,
            "height": null,
            "justify_content": null,
            "justify_items": null,
            "left": null,
            "margin": null,
            "max_height": null,
            "max_width": null,
            "min_height": null,
            "min_width": null,
            "object_fit": null,
            "object_position": null,
            "order": null,
            "overflow": null,
            "overflow_x": null,
            "overflow_y": null,
            "padding": null,
            "right": null,
            "top": null,
            "visibility": null,
            "width": null
          }
        },
        "0d74c09f4a964942a25125e247e1e568": {
          "model_module": "@jupyter-widgets/base",
          "model_name": "LayoutModel",
          "model_module_version": "1.2.0",
          "state": {
            "_model_module": "@jupyter-widgets/base",
            "_model_module_version": "1.2.0",
            "_model_name": "LayoutModel",
            "_view_count": null,
            "_view_module": "@jupyter-widgets/base",
            "_view_module_version": "1.2.0",
            "_view_name": "LayoutView",
            "align_content": null,
            "align_items": null,
            "align_self": null,
            "border": null,
            "bottom": null,
            "display": "none",
            "flex": null,
            "flex_flow": null,
            "grid_area": null,
            "grid_auto_columns": null,
            "grid_auto_flow": null,
            "grid_auto_rows": null,
            "grid_column": null,
            "grid_gap": null,
            "grid_row": null,
            "grid_template_areas": null,
            "grid_template_columns": null,
            "grid_template_rows": null,
            "height": null,
            "justify_content": null,
            "justify_items": null,
            "left": null,
            "margin": null,
            "max_height": null,
            "max_width": null,
            "min_height": null,
            "min_width": null,
            "object_fit": null,
            "object_position": null,
            "order": null,
            "overflow": null,
            "overflow_x": null,
            "overflow_y": null,
            "padding": null,
            "right": null,
            "top": null,
            "visibility": null,
            "width": null
          }
        },
        "0635b99ccbb5456cb56d4ff8020c76ac": {
          "model_module": "@jupyter-widgets/controls",
          "model_name": "DescriptionStyleModel",
          "model_module_version": "1.5.0",
          "state": {
            "_model_module": "@jupyter-widgets/controls",
            "_model_module_version": "1.5.0",
            "_model_name": "DescriptionStyleModel",
            "_view_count": null,
            "_view_module": "@jupyter-widgets/base",
            "_view_module_version": "1.2.0",
            "_view_name": "StyleView",
            "description_width": ""
          }
        },
        "07b6a5d83e054b329d4f19838d8f0276": {
          "model_module": "@jupyter-widgets/base",
          "model_name": "LayoutModel",
          "model_module_version": "1.2.0",
          "state": {
            "_model_module": "@jupyter-widgets/base",
            "_model_module_version": "1.2.0",
            "_model_name": "LayoutModel",
            "_view_count": null,
            "_view_module": "@jupyter-widgets/base",
            "_view_module_version": "1.2.0",
            "_view_name": "LayoutView",
            "align_content": null,
            "align_items": null,
            "align_self": null,
            "border": null,
            "bottom": null,
            "display": null,
            "flex": null,
            "flex_flow": null,
            "grid_area": null,
            "grid_auto_columns": null,
            "grid_auto_flow": null,
            "grid_auto_rows": null,
            "grid_column": null,
            "grid_gap": null,
            "grid_row": null,
            "grid_template_areas": null,
            "grid_template_columns": null,
            "grid_template_rows": null,
            "height": "auto",
            "justify_content": null,
            "justify_items": null,
            "left": null,
            "margin": null,
            "max_height": null,
            "max_width": null,
            "min_height": null,
            "min_width": null,
            "object_fit": null,
            "object_position": null,
            "order": null,
            "overflow": null,
            "overflow_x": null,
            "overflow_y": null,
            "padding": "0.5em",
            "right": null,
            "top": null,
            "visibility": null,
            "width": "auto"
          }
        },
        "e38f7f22dcac44ce8c33aa8a611af9d2": {
          "model_module": "@jupyter-widgets/controls",
          "model_name": "ButtonStyleModel",
          "model_module_version": "1.5.0",
          "state": {
            "_model_module": "@jupyter-widgets/controls",
            "_model_module_version": "1.5.0",
            "_model_name": "ButtonStyleModel",
            "_view_count": null,
            "_view_module": "@jupyter-widgets/base",
            "_view_module_version": "1.2.0",
            "_view_name": "StyleView",
            "button_color": "#aaffaa",
            "font_weight": ""
          }
        },
        "7726f1780be34ee1a70345ed8b955644": {
          "model_module": "@jupyter-widgets/base",
          "model_name": "LayoutModel",
          "model_module_version": "1.2.0",
          "state": {
            "_model_module": "@jupyter-widgets/base",
            "_model_module_version": "1.2.0",
            "_model_name": "LayoutModel",
            "_view_count": null,
            "_view_module": "@jupyter-widgets/base",
            "_view_module_version": "1.2.0",
            "_view_name": "LayoutView",
            "align_content": null,
            "align_items": null,
            "align_self": null,
            "border": null,
            "bottom": null,
            "display": null,
            "flex": null,
            "flex_flow": null,
            "grid_area": null,
            "grid_auto_columns": null,
            "grid_auto_flow": null,
            "grid_auto_rows": null,
            "grid_column": null,
            "grid_gap": null,
            "grid_row": null,
            "grid_template_areas": null,
            "grid_template_columns": null,
            "grid_template_rows": null,
            "height": "auto",
            "justify_content": null,
            "justify_items": null,
            "left": null,
            "margin": null,
            "max_height": null,
            "max_width": null,
            "min_height": null,
            "min_width": null,
            "object_fit": null,
            "object_position": null,
            "order": null,
            "overflow": null,
            "overflow_x": null,
            "overflow_y": null,
            "padding": "0.5em",
            "right": null,
            "top": null,
            "visibility": null,
            "width": "auto"
          }
        },
        "471960b1060a46e8b2dfb0ff4f922e49": {
          "model_module": "@jupyter-widgets/controls",
          "model_name": "ButtonStyleModel",
          "model_module_version": "1.5.0",
          "state": {
            "_model_module": "@jupyter-widgets/controls",
            "_model_module_version": "1.5.0",
            "_model_name": "ButtonStyleModel",
            "_view_count": null,
            "_view_module": "@jupyter-widgets/base",
            "_view_module_version": "1.2.0",
            "_view_name": "StyleView",
            "button_color": "#dddd77",
            "font_weight": ""
          }
        },
        "bf91aa6ff32a458eb25a7a45318a7de3": {
          "model_module": "@jupyter-widgets/base",
          "model_name": "LayoutModel",
          "model_module_version": "1.2.0",
          "state": {
            "_model_module": "@jupyter-widgets/base",
            "_model_module_version": "1.2.0",
            "_model_name": "LayoutModel",
            "_view_count": null,
            "_view_module": "@jupyter-widgets/base",
            "_view_module_version": "1.2.0",
            "_view_name": "LayoutView",
            "align_content": null,
            "align_items": null,
            "align_self": null,
            "border": null,
            "bottom": null,
            "display": null,
            "flex": null,
            "flex_flow": null,
            "grid_area": null,
            "grid_auto_columns": null,
            "grid_auto_flow": null,
            "grid_auto_rows": null,
            "grid_column": null,
            "grid_gap": null,
            "grid_row": null,
            "grid_template_areas": null,
            "grid_template_columns": null,
            "grid_template_rows": null,
            "height": "auto",
            "justify_content": null,
            "justify_items": null,
            "left": null,
            "margin": null,
            "max_height": null,
            "max_width": null,
            "min_height": null,
            "min_width": null,
            "object_fit": null,
            "object_position": null,
            "order": null,
            "overflow": null,
            "overflow_x": null,
            "overflow_y": null,
            "padding": "0.5em",
            "right": null,
            "top": null,
            "visibility": null,
            "width": "auto"
          }
        },
        "19e77a9fabd94054a25cbb3996d754c8": {
          "model_module": "@jupyter-widgets/controls",
          "model_name": "ButtonStyleModel",
          "model_module_version": "1.5.0",
          "state": {
            "_model_module": "@jupyter-widgets/controls",
            "_model_module_version": "1.5.0",
            "_model_name": "ButtonStyleModel",
            "_view_count": null,
            "_view_module": "@jupyter-widgets/base",
            "_view_module_version": "1.2.0",
            "_view_name": "StyleView",
            "button_color": "#ffaaaa",
            "font_weight": ""
          }
        },
        "e54f0f2e2ca74ef3ab61e7a6f691ea07": {
          "model_module": "@jupyter-widgets/base",
          "model_name": "LayoutModel",
          "model_module_version": "1.2.0",
          "state": {
            "_model_module": "@jupyter-widgets/base",
            "_model_module_version": "1.2.0",
            "_model_name": "LayoutModel",
            "_view_count": null,
            "_view_module": "@jupyter-widgets/base",
            "_view_module_version": "1.2.0",
            "_view_name": "LayoutView",
            "align_content": null,
            "align_items": null,
            "align_self": null,
            "border": null,
            "bottom": null,
            "display": null,
            "flex": null,
            "flex_flow": null,
            "grid_area": null,
            "grid_auto_columns": null,
            "grid_auto_flow": null,
            "grid_auto_rows": null,
            "grid_column": null,
            "grid_gap": null,
            "grid_row": null,
            "grid_template_areas": null,
            "grid_template_columns": null,
            "grid_template_rows": null,
            "height": "auto",
            "justify_content": null,
            "justify_items": null,
            "left": null,
            "margin": null,
            "max_height": null,
            "max_width": null,
            "min_height": null,
            "min_width": null,
            "object_fit": null,
            "object_position": null,
            "order": null,
            "overflow": null,
            "overflow_x": null,
            "overflow_y": null,
            "padding": null,
            "right": null,
            "top": null,
            "visibility": null,
            "width": "auto"
          }
        },
        "0aefc3c31f9f463f98e635f4092ae23b": {
          "model_module": "@jupyter-widgets/controls",
          "model_name": "DescriptionStyleModel",
          "model_module_version": "1.5.0",
          "state": {
            "_model_module": "@jupyter-widgets/controls",
            "_model_module_version": "1.5.0",
            "_model_name": "DescriptionStyleModel",
            "_view_count": null,
            "_view_module": "@jupyter-widgets/base",
            "_view_module_version": "1.2.0",
            "_view_name": "StyleView",
            "description_width": ""
          }
        },
        "b103cb0a8e994b07afad754a656f3646": {
          "model_module": "@jupyter-widgets/base",
          "model_name": "LayoutModel",
          "model_module_version": "1.2.0",
          "state": {
            "_model_module": "@jupyter-widgets/base",
            "_model_module_version": "1.2.0",
            "_model_name": "LayoutModel",
            "_view_count": null,
            "_view_module": "@jupyter-widgets/base",
            "_view_module_version": "1.2.0",
            "_view_name": "LayoutView",
            "align_content": null,
            "align_items": null,
            "align_self": null,
            "border": null,
            "bottom": null,
            "display": null,
            "flex": null,
            "flex_flow": null,
            "grid_area": null,
            "grid_auto_columns": null,
            "grid_auto_flow": null,
            "grid_auto_rows": null,
            "grid_column": null,
            "grid_gap": null,
            "grid_row": null,
            "grid_template_areas": null,
            "grid_template_columns": null,
            "grid_template_rows": null,
            "height": "auto",
            "justify_content": null,
            "justify_items": null,
            "left": null,
            "margin": null,
            "max_height": null,
            "max_width": null,
            "min_height": null,
            "min_width": null,
            "object_fit": null,
            "object_position": null,
            "order": null,
            "overflow": null,
            "overflow_x": null,
            "overflow_y": null,
            "padding": null,
            "right": null,
            "top": null,
            "visibility": null,
            "width": "auto"
          }
        },
        "837589a74e0f4062846d8f96a9b36ab0": {
          "model_module": "@jupyter-widgets/controls",
          "model_name": "ButtonStyleModel",
          "model_module_version": "1.5.0",
          "state": {
            "_model_module": "@jupyter-widgets/controls",
            "_model_module_version": "1.5.0",
            "_model_name": "ButtonStyleModel",
            "_view_count": null,
            "_view_module": "@jupyter-widgets/base",
            "_view_module_version": "1.2.0",
            "_view_name": "StyleView",
            "button_color": null,
            "font_weight": ""
          }
        },
        "77c3d0c71e854c098d37b644d9fc4e09": {
          "model_module": "@jupyter-widgets/controls",
          "model_name": "VBoxModel",
          "model_module_version": "1.5.0",
          "state": {
            "_dom_classes": [],
            "_model_module": "@jupyter-widgets/controls",
            "_model_module_version": "1.5.0",
            "_model_name": "VBoxModel",
            "_view_count": null,
            "_view_module": "@jupyter-widgets/controls",
            "_view_module_version": "1.5.0",
            "_view_name": "VBoxView",
            "box_style": "",
            "children": [
              "IPY_MODEL_7b09df9c65484b84a787b4c1a4ac6f3c"
            ],
            "layout": "IPY_MODEL_deb0d60183f642859ef4c22ae6b634a3"
          }
        },
        "7b09df9c65484b84a787b4c1a4ac6f3c": {
          "model_module": "@jupyter-widgets/controls",
          "model_name": "VBoxModel",
          "model_module_version": "1.5.0",
          "state": {
            "_dom_classes": [],
            "_model_module": "@jupyter-widgets/controls",
            "_model_module_version": "1.5.0",
            "_model_name": "VBoxModel",
            "_view_count": null,
            "_view_module": "@jupyter-widgets/controls",
            "_view_module_version": "1.5.0",
            "_view_name": "VBoxView",
            "box_style": "",
            "children": [
              "IPY_MODEL_6e8610780b304ff493f5a9e65e2ebf17",
              "IPY_MODEL_a41d1377d08a4988bbc44f132e4def9f",
              "IPY_MODEL_5f0a76d74c234d6a918fe5e610d12388"
            ],
            "layout": "IPY_MODEL_5034450bfd7b42b7855415a533d2c271"
          }
        },
        "deb0d60183f642859ef4c22ae6b634a3": {
          "model_module": "@jupyter-widgets/base",
          "model_name": "LayoutModel",
          "model_module_version": "1.2.0",
          "state": {
            "_model_module": "@jupyter-widgets/base",
            "_model_module_version": "1.2.0",
            "_model_name": "LayoutModel",
            "_view_count": null,
            "_view_module": "@jupyter-widgets/base",
            "_view_module_version": "1.2.0",
            "_view_name": "LayoutView",
            "align_content": null,
            "align_items": null,
            "align_self": null,
            "border": null,
            "bottom": null,
            "display": null,
            "flex": null,
            "flex_flow": null,
            "grid_area": null,
            "grid_auto_columns": null,
            "grid_auto_flow": null,
            "grid_auto_rows": null,
            "grid_column": null,
            "grid_gap": null,
            "grid_row": null,
            "grid_template_areas": null,
            "grid_template_columns": null,
            "grid_template_rows": null,
            "height": null,
            "justify_content": null,
            "justify_items": null,
            "left": null,
            "margin": null,
            "max_height": null,
            "max_width": null,
            "min_height": null,
            "min_width": null,
            "object_fit": null,
            "object_position": null,
            "order": null,
            "overflow": null,
            "overflow_x": null,
            "overflow_y": null,
            "padding": null,
            "right": null,
            "top": null,
            "visibility": null,
            "width": null
          }
        },
        "6e8610780b304ff493f5a9e65e2ebf17": {
          "model_module": "@jupyter-widgets/controls",
          "model_name": "HBoxModel",
          "model_module_version": "1.5.0",
          "state": {
            "_dom_classes": [],
            "_model_module": "@jupyter-widgets/controls",
            "_model_module_version": "1.5.0",
            "_model_name": "HBoxModel",
            "_view_count": null,
            "_view_module": "@jupyter-widgets/controls",
            "_view_module_version": "1.5.0",
            "_view_name": "HBoxView",
            "box_style": "",
            "children": [
              "IPY_MODEL_19eb6dad09814921b1066aefa69e6a89",
              "IPY_MODEL_dbbbf571ffd244e083d7be27d93d1c13",
              "IPY_MODEL_63bdbfac647b4f519f3690cb2ec3f9ed"
            ],
            "layout": "IPY_MODEL_bdbc9e87f24d4547a939ebcae4a0efaa"
          }
        },
        "a41d1377d08a4988bbc44f132e4def9f": {
          "model_module": "@jupyter-widgets/controls",
          "model_name": "HBoxModel",
          "model_module_version": "1.5.0",
          "state": {
            "_dom_classes": [],
            "_model_module": "@jupyter-widgets/controls",
            "_model_module_version": "1.5.0",
            "_model_name": "HBoxModel",
            "_view_count": null,
            "_view_module": "@jupyter-widgets/controls",
            "_view_module_version": "1.5.0",
            "_view_name": "HBoxView",
            "box_style": "",
            "children": [
              "IPY_MODEL_9762c76c3efc4e43b18bbf94cc92c2be",
              "IPY_MODEL_4330e6f2fcc045a6a5162712a0ef031e"
            ],
            "layout": "IPY_MODEL_7339402bf78747c4b587f54d4746a25f"
          }
        },
        "5f0a76d74c234d6a918fe5e610d12388": {
          "model_module": "@jupyter-widgets/controls",
          "model_name": "LabelModel",
          "model_module_version": "1.5.0",
          "state": {
            "_dom_classes": [],
            "_model_module": "@jupyter-widgets/controls",
            "_model_module_version": "1.5.0",
            "_model_name": "LabelModel",
            "_view_count": null,
            "_view_module": "@jupyter-widgets/controls",
            "_view_module_version": "1.5.0",
            "_view_name": "LabelView",
            "description": "",
            "description_tooltip": null,
            "layout": "IPY_MODEL_250af76d8de849f5980382a73ad6799c",
            "placeholder": "​",
            "style": "IPY_MODEL_320d5c15324f4a49b50436e322be2114",
            "value": "Thanks for your feedback!"
          }
        },
        "5034450bfd7b42b7855415a533d2c271": {
          "model_module": "@jupyter-widgets/base",
          "model_name": "LayoutModel",
          "model_module_version": "1.2.0",
          "state": {
            "_model_module": "@jupyter-widgets/base",
            "_model_module_version": "1.2.0",
            "_model_name": "LayoutModel",
            "_view_count": null,
            "_view_module": "@jupyter-widgets/base",
            "_view_module_version": "1.2.0",
            "_view_name": "LayoutView",
            "align_content": null,
            "align_items": null,
            "align_self": null,
            "border": null,
            "bottom": null,
            "display": null,
            "flex": null,
            "flex_flow": null,
            "grid_area": null,
            "grid_auto_columns": null,
            "grid_auto_flow": null,
            "grid_auto_rows": null,
            "grid_column": null,
            "grid_gap": null,
            "grid_row": null,
            "grid_template_areas": null,
            "grid_template_columns": null,
            "grid_template_rows": null,
            "height": null,
            "justify_content": null,
            "justify_items": null,
            "left": null,
            "margin": null,
            "max_height": null,
            "max_width": null,
            "min_height": null,
            "min_width": null,
            "object_fit": null,
            "object_position": null,
            "order": null,
            "overflow": null,
            "overflow_x": null,
            "overflow_y": null,
            "padding": null,
            "right": null,
            "top": null,
            "visibility": null,
            "width": null
          }
        },
        "19eb6dad09814921b1066aefa69e6a89": {
          "model_module": "@jupyter-widgets/controls",
          "model_name": "ButtonModel",
          "model_module_version": "1.5.0",
          "state": {
            "_dom_classes": [
              "happy"
            ],
            "_model_module": "@jupyter-widgets/controls",
            "_model_module_version": "1.5.0",
            "_model_name": "ButtonModel",
            "_view_count": null,
            "_view_module": "@jupyter-widgets/controls",
            "_view_module_version": "1.5.0",
            "_view_name": "ButtonView",
            "button_style": "",
            "description": "🙂",
            "disabled": false,
            "icon": "",
            "layout": "IPY_MODEL_21cf8d429463473c92490b03a8cbabea",
            "style": "IPY_MODEL_2a324c9e91c74da19ed8e4c514ee0559",
            "tooltip": "happy"
          }
        },
        "dbbbf571ffd244e083d7be27d93d1c13": {
          "model_module": "@jupyter-widgets/controls",
          "model_name": "ButtonModel",
          "model_module_version": "1.5.0",
          "state": {
            "_dom_classes": [
              "medium"
            ],
            "_model_module": "@jupyter-widgets/controls",
            "_model_module_version": "1.5.0",
            "_model_name": "ButtonModel",
            "_view_count": null,
            "_view_module": "@jupyter-widgets/controls",
            "_view_module_version": "1.5.0",
            "_view_name": "ButtonView",
            "button_style": "",
            "description": "😐",
            "disabled": false,
            "icon": "",
            "layout": "IPY_MODEL_a34cd93c9a4c4471a8aeb58c3da24a79",
            "style": "IPY_MODEL_5e14a03cea85410bb8d6cb6c17f2885f",
            "tooltip": "medium"
          }
        },
        "63bdbfac647b4f519f3690cb2ec3f9ed": {
          "model_module": "@jupyter-widgets/controls",
          "model_name": "ButtonModel",
          "model_module_version": "1.5.0",
          "state": {
            "_dom_classes": [
              "sad"
            ],
            "_model_module": "@jupyter-widgets/controls",
            "_model_module_version": "1.5.0",
            "_model_name": "ButtonModel",
            "_view_count": null,
            "_view_module": "@jupyter-widgets/controls",
            "_view_module_version": "1.5.0",
            "_view_name": "ButtonView",
            "button_style": "",
            "description": "🙁",
            "disabled": false,
            "icon": "",
            "layout": "IPY_MODEL_ce7a748d74f0424a8afb0def73354c05",
            "style": "IPY_MODEL_88e473a2d121449886f62fb6097f92cc",
            "tooltip": "sad"
          }
        },
        "bdbc9e87f24d4547a939ebcae4a0efaa": {
          "model_module": "@jupyter-widgets/base",
          "model_name": "LayoutModel",
          "model_module_version": "1.2.0",
          "state": {
            "_model_module": "@jupyter-widgets/base",
            "_model_module_version": "1.2.0",
            "_model_name": "LayoutModel",
            "_view_count": null,
            "_view_module": "@jupyter-widgets/base",
            "_view_module_version": "1.2.0",
            "_view_name": "LayoutView",
            "align_content": null,
            "align_items": null,
            "align_self": null,
            "border": null,
            "bottom": null,
            "display": null,
            "flex": null,
            "flex_flow": null,
            "grid_area": null,
            "grid_auto_columns": null,
            "grid_auto_flow": null,
            "grid_auto_rows": null,
            "grid_column": null,
            "grid_gap": null,
            "grid_row": null,
            "grid_template_areas": null,
            "grid_template_columns": null,
            "grid_template_rows": null,
            "height": null,
            "justify_content": null,
            "justify_items": null,
            "left": null,
            "margin": null,
            "max_height": null,
            "max_width": null,
            "min_height": null,
            "min_width": null,
            "object_fit": null,
            "object_position": null,
            "order": null,
            "overflow": null,
            "overflow_x": null,
            "overflow_y": null,
            "padding": null,
            "right": null,
            "top": null,
            "visibility": null,
            "width": null
          }
        },
        "9762c76c3efc4e43b18bbf94cc92c2be": {
          "model_module": "@jupyter-widgets/controls",
          "model_name": "TextareaModel",
          "model_module_version": "1.5.0",
          "state": {
            "_dom_classes": [],
            "_model_module": "@jupyter-widgets/controls",
            "_model_module_version": "1.5.0",
            "_model_name": "TextareaModel",
            "_view_count": null,
            "_view_module": "@jupyter-widgets/controls",
            "_view_module_version": "1.5.0",
            "_view_name": "TextareaView",
            "continuous_update": true,
            "description": "",
            "description_tooltip": null,
            "disabled": false,
            "layout": "IPY_MODEL_f3990fc356024c4abcb542398b09b2a1",
            "placeholder": "We want your feedback!",
            "rows": null,
            "style": "IPY_MODEL_99e788bbc2aa41a3b9552a40486084c5",
            "value": ""
          }
        },
        "4330e6f2fcc045a6a5162712a0ef031e": {
          "model_module": "@jupyter-widgets/controls",
          "model_name": "ButtonModel",
          "model_module_version": "1.5.0",
          "state": {
            "_dom_classes": [],
            "_model_module": "@jupyter-widgets/controls",
            "_model_module_version": "1.5.0",
            "_model_name": "ButtonModel",
            "_view_count": null,
            "_view_module": "@jupyter-widgets/controls",
            "_view_module_version": "1.5.0",
            "_view_name": "ButtonView",
            "button_style": "",
            "description": "Submit",
            "disabled": false,
            "icon": "",
            "layout": "IPY_MODEL_aad52aae7a29443f866c1c0014ed1f35",
            "style": "IPY_MODEL_d9f198fd25744d548206470905a980d6",
            "tooltip": ""
          }
        },
        "7339402bf78747c4b587f54d4746a25f": {
          "model_module": "@jupyter-widgets/base",
          "model_name": "LayoutModel",
          "model_module_version": "1.2.0",
          "state": {
            "_model_module": "@jupyter-widgets/base",
            "_model_module_version": "1.2.0",
            "_model_name": "LayoutModel",
            "_view_count": null,
            "_view_module": "@jupyter-widgets/base",
            "_view_module_version": "1.2.0",
            "_view_name": "LayoutView",
            "align_content": null,
            "align_items": null,
            "align_self": null,
            "border": null,
            "bottom": null,
            "display": "none",
            "flex": null,
            "flex_flow": null,
            "grid_area": null,
            "grid_auto_columns": null,
            "grid_auto_flow": null,
            "grid_auto_rows": null,
            "grid_column": null,
            "grid_gap": null,
            "grid_row": null,
            "grid_template_areas": null,
            "grid_template_columns": null,
            "grid_template_rows": null,
            "height": null,
            "justify_content": null,
            "justify_items": null,
            "left": null,
            "margin": null,
            "max_height": null,
            "max_width": null,
            "min_height": null,
            "min_width": null,
            "object_fit": null,
            "object_position": null,
            "order": null,
            "overflow": null,
            "overflow_x": null,
            "overflow_y": null,
            "padding": null,
            "right": null,
            "top": null,
            "visibility": null,
            "width": null
          }
        },
        "250af76d8de849f5980382a73ad6799c": {
          "model_module": "@jupyter-widgets/base",
          "model_name": "LayoutModel",
          "model_module_version": "1.2.0",
          "state": {
            "_model_module": "@jupyter-widgets/base",
            "_model_module_version": "1.2.0",
            "_model_name": "LayoutModel",
            "_view_count": null,
            "_view_module": "@jupyter-widgets/base",
            "_view_module_version": "1.2.0",
            "_view_name": "LayoutView",
            "align_content": null,
            "align_items": null,
            "align_self": null,
            "border": null,
            "bottom": null,
            "display": "none",
            "flex": null,
            "flex_flow": null,
            "grid_area": null,
            "grid_auto_columns": null,
            "grid_auto_flow": null,
            "grid_auto_rows": null,
            "grid_column": null,
            "grid_gap": null,
            "grid_row": null,
            "grid_template_areas": null,
            "grid_template_columns": null,
            "grid_template_rows": null,
            "height": null,
            "justify_content": null,
            "justify_items": null,
            "left": null,
            "margin": null,
            "max_height": null,
            "max_width": null,
            "min_height": null,
            "min_width": null,
            "object_fit": null,
            "object_position": null,
            "order": null,
            "overflow": null,
            "overflow_x": null,
            "overflow_y": null,
            "padding": null,
            "right": null,
            "top": null,
            "visibility": null,
            "width": null
          }
        },
        "320d5c15324f4a49b50436e322be2114": {
          "model_module": "@jupyter-widgets/controls",
          "model_name": "DescriptionStyleModel",
          "model_module_version": "1.5.0",
          "state": {
            "_model_module": "@jupyter-widgets/controls",
            "_model_module_version": "1.5.0",
            "_model_name": "DescriptionStyleModel",
            "_view_count": null,
            "_view_module": "@jupyter-widgets/base",
            "_view_module_version": "1.2.0",
            "_view_name": "StyleView",
            "description_width": ""
          }
        },
        "21cf8d429463473c92490b03a8cbabea": {
          "model_module": "@jupyter-widgets/base",
          "model_name": "LayoutModel",
          "model_module_version": "1.2.0",
          "state": {
            "_model_module": "@jupyter-widgets/base",
            "_model_module_version": "1.2.0",
            "_model_name": "LayoutModel",
            "_view_count": null,
            "_view_module": "@jupyter-widgets/base",
            "_view_module_version": "1.2.0",
            "_view_name": "LayoutView",
            "align_content": null,
            "align_items": null,
            "align_self": null,
            "border": null,
            "bottom": null,
            "display": null,
            "flex": null,
            "flex_flow": null,
            "grid_area": null,
            "grid_auto_columns": null,
            "grid_auto_flow": null,
            "grid_auto_rows": null,
            "grid_column": null,
            "grid_gap": null,
            "grid_row": null,
            "grid_template_areas": null,
            "grid_template_columns": null,
            "grid_template_rows": null,
            "height": "auto",
            "justify_content": null,
            "justify_items": null,
            "left": null,
            "margin": null,
            "max_height": null,
            "max_width": null,
            "min_height": null,
            "min_width": null,
            "object_fit": null,
            "object_position": null,
            "order": null,
            "overflow": null,
            "overflow_x": null,
            "overflow_y": null,
            "padding": "0.5em",
            "right": null,
            "top": null,
            "visibility": null,
            "width": "auto"
          }
        },
        "2a324c9e91c74da19ed8e4c514ee0559": {
          "model_module": "@jupyter-widgets/controls",
          "model_name": "ButtonStyleModel",
          "model_module_version": "1.5.0",
          "state": {
            "_model_module": "@jupyter-widgets/controls",
            "_model_module_version": "1.5.0",
            "_model_name": "ButtonStyleModel",
            "_view_count": null,
            "_view_module": "@jupyter-widgets/base",
            "_view_module_version": "1.2.0",
            "_view_name": "StyleView",
            "button_color": "#aaffaa",
            "font_weight": ""
          }
        },
        "a34cd93c9a4c4471a8aeb58c3da24a79": {
          "model_module": "@jupyter-widgets/base",
          "model_name": "LayoutModel",
          "model_module_version": "1.2.0",
          "state": {
            "_model_module": "@jupyter-widgets/base",
            "_model_module_version": "1.2.0",
            "_model_name": "LayoutModel",
            "_view_count": null,
            "_view_module": "@jupyter-widgets/base",
            "_view_module_version": "1.2.0",
            "_view_name": "LayoutView",
            "align_content": null,
            "align_items": null,
            "align_self": null,
            "border": null,
            "bottom": null,
            "display": null,
            "flex": null,
            "flex_flow": null,
            "grid_area": null,
            "grid_auto_columns": null,
            "grid_auto_flow": null,
            "grid_auto_rows": null,
            "grid_column": null,
            "grid_gap": null,
            "grid_row": null,
            "grid_template_areas": null,
            "grid_template_columns": null,
            "grid_template_rows": null,
            "height": "auto",
            "justify_content": null,
            "justify_items": null,
            "left": null,
            "margin": null,
            "max_height": null,
            "max_width": null,
            "min_height": null,
            "min_width": null,
            "object_fit": null,
            "object_position": null,
            "order": null,
            "overflow": null,
            "overflow_x": null,
            "overflow_y": null,
            "padding": "0.5em",
            "right": null,
            "top": null,
            "visibility": null,
            "width": "auto"
          }
        },
        "5e14a03cea85410bb8d6cb6c17f2885f": {
          "model_module": "@jupyter-widgets/controls",
          "model_name": "ButtonStyleModel",
          "model_module_version": "1.5.0",
          "state": {
            "_model_module": "@jupyter-widgets/controls",
            "_model_module_version": "1.5.0",
            "_model_name": "ButtonStyleModel",
            "_view_count": null,
            "_view_module": "@jupyter-widgets/base",
            "_view_module_version": "1.2.0",
            "_view_name": "StyleView",
            "button_color": "#dddd77",
            "font_weight": ""
          }
        },
        "ce7a748d74f0424a8afb0def73354c05": {
          "model_module": "@jupyter-widgets/base",
          "model_name": "LayoutModel",
          "model_module_version": "1.2.0",
          "state": {
            "_model_module": "@jupyter-widgets/base",
            "_model_module_version": "1.2.0",
            "_model_name": "LayoutModel",
            "_view_count": null,
            "_view_module": "@jupyter-widgets/base",
            "_view_module_version": "1.2.0",
            "_view_name": "LayoutView",
            "align_content": null,
            "align_items": null,
            "align_self": null,
            "border": null,
            "bottom": null,
            "display": null,
            "flex": null,
            "flex_flow": null,
            "grid_area": null,
            "grid_auto_columns": null,
            "grid_auto_flow": null,
            "grid_auto_rows": null,
            "grid_column": null,
            "grid_gap": null,
            "grid_row": null,
            "grid_template_areas": null,
            "grid_template_columns": null,
            "grid_template_rows": null,
            "height": "auto",
            "justify_content": null,
            "justify_items": null,
            "left": null,
            "margin": null,
            "max_height": null,
            "max_width": null,
            "min_height": null,
            "min_width": null,
            "object_fit": null,
            "object_position": null,
            "order": null,
            "overflow": null,
            "overflow_x": null,
            "overflow_y": null,
            "padding": "0.5em",
            "right": null,
            "top": null,
            "visibility": null,
            "width": "auto"
          }
        },
        "88e473a2d121449886f62fb6097f92cc": {
          "model_module": "@jupyter-widgets/controls",
          "model_name": "ButtonStyleModel",
          "model_module_version": "1.5.0",
          "state": {
            "_model_module": "@jupyter-widgets/controls",
            "_model_module_version": "1.5.0",
            "_model_name": "ButtonStyleModel",
            "_view_count": null,
            "_view_module": "@jupyter-widgets/base",
            "_view_module_version": "1.2.0",
            "_view_name": "StyleView",
            "button_color": "#ffaaaa",
            "font_weight": ""
          }
        },
        "f3990fc356024c4abcb542398b09b2a1": {
          "model_module": "@jupyter-widgets/base",
          "model_name": "LayoutModel",
          "model_module_version": "1.2.0",
          "state": {
            "_model_module": "@jupyter-widgets/base",
            "_model_module_version": "1.2.0",
            "_model_name": "LayoutModel",
            "_view_count": null,
            "_view_module": "@jupyter-widgets/base",
            "_view_module_version": "1.2.0",
            "_view_name": "LayoutView",
            "align_content": null,
            "align_items": null,
            "align_self": null,
            "border": null,
            "bottom": null,
            "display": null,
            "flex": null,
            "flex_flow": null,
            "grid_area": null,
            "grid_auto_columns": null,
            "grid_auto_flow": null,
            "grid_auto_rows": null,
            "grid_column": null,
            "grid_gap": null,
            "grid_row": null,
            "grid_template_areas": null,
            "grid_template_columns": null,
            "grid_template_rows": null,
            "height": "auto",
            "justify_content": null,
            "justify_items": null,
            "left": null,
            "margin": null,
            "max_height": null,
            "max_width": null,
            "min_height": null,
            "min_width": null,
            "object_fit": null,
            "object_position": null,
            "order": null,
            "overflow": null,
            "overflow_x": null,
            "overflow_y": null,
            "padding": null,
            "right": null,
            "top": null,
            "visibility": null,
            "width": "auto"
          }
        },
        "99e788bbc2aa41a3b9552a40486084c5": {
          "model_module": "@jupyter-widgets/controls",
          "model_name": "DescriptionStyleModel",
          "model_module_version": "1.5.0",
          "state": {
            "_model_module": "@jupyter-widgets/controls",
            "_model_module_version": "1.5.0",
            "_model_name": "DescriptionStyleModel",
            "_view_count": null,
            "_view_module": "@jupyter-widgets/base",
            "_view_module_version": "1.2.0",
            "_view_name": "StyleView",
            "description_width": ""
          }
        },
        "aad52aae7a29443f866c1c0014ed1f35": {
          "model_module": "@jupyter-widgets/base",
          "model_name": "LayoutModel",
          "model_module_version": "1.2.0",
          "state": {
            "_model_module": "@jupyter-widgets/base",
            "_model_module_version": "1.2.0",
            "_model_name": "LayoutModel",
            "_view_count": null,
            "_view_module": "@jupyter-widgets/base",
            "_view_module_version": "1.2.0",
            "_view_name": "LayoutView",
            "align_content": null,
            "align_items": null,
            "align_self": null,
            "border": null,
            "bottom": null,
            "display": null,
            "flex": null,
            "flex_flow": null,
            "grid_area": null,
            "grid_auto_columns": null,
            "grid_auto_flow": null,
            "grid_auto_rows": null,
            "grid_column": null,
            "grid_gap": null,
            "grid_row": null,
            "grid_template_areas": null,
            "grid_template_columns": null,
            "grid_template_rows": null,
            "height": "auto",
            "justify_content": null,
            "justify_items": null,
            "left": null,
            "margin": null,
            "max_height": null,
            "max_width": null,
            "min_height": null,
            "min_width": null,
            "object_fit": null,
            "object_position": null,
            "order": null,
            "overflow": null,
            "overflow_x": null,
            "overflow_y": null,
            "padding": null,
            "right": null,
            "top": null,
            "visibility": null,
            "width": "auto"
          }
        },
        "d9f198fd25744d548206470905a980d6": {
          "model_module": "@jupyter-widgets/controls",
          "model_name": "ButtonStyleModel",
          "model_module_version": "1.5.0",
          "state": {
            "_model_module": "@jupyter-widgets/controls",
            "_model_module_version": "1.5.0",
            "_model_name": "ButtonStyleModel",
            "_view_count": null,
            "_view_module": "@jupyter-widgets/base",
            "_view_module_version": "1.2.0",
            "_view_name": "StyleView",
            "button_color": null,
            "font_weight": ""
          }
        },
        "42967eca42b64c04ad2e340bc5dae166": {
          "model_module": "@jupyter-widgets/controls",
          "model_name": "TabModel",
          "model_module_version": "1.5.0",
          "state": {
            "_dom_classes": [],
            "_model_module": "@jupyter-widgets/controls",
            "_model_module_version": "1.5.0",
            "_model_name": "TabModel",
            "_titles": {
              "0": "Youtube",
              "1": "Bilibili"
            },
            "_view_count": null,
            "_view_module": "@jupyter-widgets/controls",
            "_view_module_version": "1.5.0",
            "_view_name": "TabView",
            "box_style": "",
            "children": [
              "IPY_MODEL_669d17ae7d4449068922c04744e11375",
              "IPY_MODEL_e6f8fa6848a34c0a95d64c974a4757f5"
            ],
            "layout": "IPY_MODEL_fb3ad869255b404e8c08eb0726ab71cb",
            "selected_index": 0
          }
        },
        "669d17ae7d4449068922c04744e11375": {
          "model_module": "@jupyter-widgets/output",
          "model_name": "OutputModel",
          "model_module_version": "1.0.0",
          "state": {
            "_dom_classes": [],
            "_model_module": "@jupyter-widgets/output",
            "_model_module_version": "1.0.0",
            "_model_name": "OutputModel",
            "_view_count": null,
            "_view_module": "@jupyter-widgets/output",
            "_view_module_version": "1.0.0",
            "_view_name": "OutputView",
            "layout": "IPY_MODEL_2c3934f683044405863bd4585eb8f43d",
            "msg_id": "",
            "outputs": [
              {
                "output_type": "stream",
                "name": "stdout",
                "text": [
                  "Video available at https://youtube.com/watch?v=RmdPBHn9kjk\n"
                ]
              },
              {
                "output_type": "display_data",
                "data": {
                  "text/plain": "<IPython.lib.display.YouTubeVideo at 0x7e2bf1c0c850>",
                  "text/html": "\n        <iframe\n            width=\"854\"\n            height=\"480\"\n            src=\"https://www.youtube.com/embed/RmdPBHn9kjk?fs=1&rel=0\"\n            frameborder=\"0\"\n            allowfullscreen\n            \n        ></iframe>\n        ",
                  "image/jpeg": "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\n"
                },
                "metadata": {}
              }
            ]
          }
        },
        "e6f8fa6848a34c0a95d64c974a4757f5": {
          "model_module": "@jupyter-widgets/output",
          "model_name": "OutputModel",
          "model_module_version": "1.0.0",
          "state": {
            "_dom_classes": [],
            "_model_module": "@jupyter-widgets/output",
            "_model_module_version": "1.0.0",
            "_model_name": "OutputModel",
            "_view_count": null,
            "_view_module": "@jupyter-widgets/output",
            "_view_module_version": "1.0.0",
            "_view_name": "OutputView",
            "layout": "IPY_MODEL_3535550088a94bcc8d7ea9801456356c",
            "msg_id": "",
            "outputs": [
              {
                "output_type": "stream",
                "name": "stdout",
                "text": [
                  "Video available at https://www.bilibili.com/video/BV1MC4y1h77q\n"
                ]
              },
              {
                "output_type": "display_data",
                "data": {
                  "text/plain": "<__main__.PlayVideo at 0x7e2bf1c08790>",
                  "text/html": "\n        <iframe\n            width=\"854\"\n            height=\"480\"\n            src=\"https://player.bilibili.com/player.html?bvid=BV1MC4y1h77q&page=1?fs=1&autoplay=False\"\n            frameborder=\"0\"\n            allowfullscreen\n            \n        ></iframe>\n        "
                },
                "metadata": {}
              }
            ]
          }
        },
        "fb3ad869255b404e8c08eb0726ab71cb": {
          "model_module": "@jupyter-widgets/base",
          "model_name": "LayoutModel",
          "model_module_version": "1.2.0",
          "state": {
            "_model_module": "@jupyter-widgets/base",
            "_model_module_version": "1.2.0",
            "_model_name": "LayoutModel",
            "_view_count": null,
            "_view_module": "@jupyter-widgets/base",
            "_view_module_version": "1.2.0",
            "_view_name": "LayoutView",
            "align_content": null,
            "align_items": null,
            "align_self": null,
            "border": null,
            "bottom": null,
            "display": null,
            "flex": null,
            "flex_flow": null,
            "grid_area": null,
            "grid_auto_columns": null,
            "grid_auto_flow": null,
            "grid_auto_rows": null,
            "grid_column": null,
            "grid_gap": null,
            "grid_row": null,
            "grid_template_areas": null,
            "grid_template_columns": null,
            "grid_template_rows": null,
            "height": null,
            "justify_content": null,
            "justify_items": null,
            "left": null,
            "margin": null,
            "max_height": null,
            "max_width": null,
            "min_height": null,
            "min_width": null,
            "object_fit": null,
            "object_position": null,
            "order": null,
            "overflow": null,
            "overflow_x": null,
            "overflow_y": null,
            "padding": null,
            "right": null,
            "top": null,
            "visibility": null,
            "width": null
          }
        },
        "2c3934f683044405863bd4585eb8f43d": {
          "model_module": "@jupyter-widgets/base",
          "model_name": "LayoutModel",
          "model_module_version": "1.2.0",
          "state": {
            "_model_module": "@jupyter-widgets/base",
            "_model_module_version": "1.2.0",
            "_model_name": "LayoutModel",
            "_view_count": null,
            "_view_module": "@jupyter-widgets/base",
            "_view_module_version": "1.2.0",
            "_view_name": "LayoutView",
            "align_content": null,
            "align_items": null,
            "align_self": null,
            "border": null,
            "bottom": null,
            "display": null,
            "flex": null,
            "flex_flow": null,
            "grid_area": null,
            "grid_auto_columns": null,
            "grid_auto_flow": null,
            "grid_auto_rows": null,
            "grid_column": null,
            "grid_gap": null,
            "grid_row": null,
            "grid_template_areas": null,
            "grid_template_columns": null,
            "grid_template_rows": null,
            "height": null,
            "justify_content": null,
            "justify_items": null,
            "left": null,
            "margin": null,
            "max_height": null,
            "max_width": null,
            "min_height": null,
            "min_width": null,
            "object_fit": null,
            "object_position": null,
            "order": null,
            "overflow": null,
            "overflow_x": null,
            "overflow_y": null,
            "padding": null,
            "right": null,
            "top": null,
            "visibility": null,
            "width": null
          }
        },
        "3535550088a94bcc8d7ea9801456356c": {
          "model_module": "@jupyter-widgets/base",
          "model_name": "LayoutModel",
          "model_module_version": "1.2.0",
          "state": {
            "_model_module": "@jupyter-widgets/base",
            "_model_module_version": "1.2.0",
            "_model_name": "LayoutModel",
            "_view_count": null,
            "_view_module": "@jupyter-widgets/base",
            "_view_module_version": "1.2.0",
            "_view_name": "LayoutView",
            "align_content": null,
            "align_items": null,
            "align_self": null,
            "border": null,
            "bottom": null,
            "display": null,
            "flex": null,
            "flex_flow": null,
            "grid_area": null,
            "grid_auto_columns": null,
            "grid_auto_flow": null,
            "grid_auto_rows": null,
            "grid_column": null,
            "grid_gap": null,
            "grid_row": null,
            "grid_template_areas": null,
            "grid_template_columns": null,
            "grid_template_rows": null,
            "height": null,
            "justify_content": null,
            "justify_items": null,
            "left": null,
            "margin": null,
            "max_height": null,
            "max_width": null,
            "min_height": null,
            "min_width": null,
            "object_fit": null,
            "object_position": null,
            "order": null,
            "overflow": null,
            "overflow_x": null,
            "overflow_y": null,
            "padding": null,
            "right": null,
            "top": null,
            "visibility": null,
            "width": null
          }
        },
        "56f8809b886e4f83810570e9fdb5125a": {
          "model_module": "@jupyter-widgets/controls",
          "model_name": "TabModel",
          "model_module_version": "1.5.0",
          "state": {
            "_dom_classes": [],
            "_model_module": "@jupyter-widgets/controls",
            "_model_module_version": "1.5.0",
            "_model_name": "TabModel",
            "_titles": {
              "0": "Youtube",
              "1": "Bilibili"
            },
            "_view_count": null,
            "_view_module": "@jupyter-widgets/controls",
            "_view_module_version": "1.5.0",
            "_view_name": "TabView",
            "box_style": "",
            "children": [
              "IPY_MODEL_947384f9f65b400ab8090e03538b6bbd",
              "IPY_MODEL_a3672e911cf84f1ebe289565e285388a"
            ],
            "layout": "IPY_MODEL_4ad364f77e7046809745ad6bffdb5a97",
            "selected_index": 0
          }
        },
        "947384f9f65b400ab8090e03538b6bbd": {
          "model_module": "@jupyter-widgets/output",
          "model_name": "OutputModel",
          "model_module_version": "1.0.0",
          "state": {
            "_dom_classes": [],
            "_model_module": "@jupyter-widgets/output",
            "_model_module_version": "1.0.0",
            "_model_name": "OutputModel",
            "_view_count": null,
            "_view_module": "@jupyter-widgets/output",
            "_view_module_version": "1.0.0",
            "_view_name": "OutputView",
            "layout": "IPY_MODEL_cc15c241d6454022a927312aa66f8ca1",
            "msg_id": "",
            "outputs": [
              {
                "output_type": "stream",
                "name": "stdout",
                "text": [
                  "Video available at https://youtube.com/watch?v=BOh8CsuTFkY\n"
                ]
              },
              {
                "output_type": "display_data",
                "data": {
                  "text/plain": "<IPython.lib.display.YouTubeVideo at 0x7e2bf1bc23d0>",
                  "text/html": "\n        <iframe\n            width=\"854\"\n            height=\"480\"\n            src=\"https://www.youtube.com/embed/BOh8CsuTFkY?fs=1&rel=0\"\n            frameborder=\"0\"\n            allowfullscreen\n            \n        ></iframe>\n        ",
                  "image/jpeg": "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\n"
                },
                "metadata": {}
              }
            ]
          }
        },
        "a3672e911cf84f1ebe289565e285388a": {
          "model_module": "@jupyter-widgets/output",
          "model_name": "OutputModel",
          "model_module_version": "1.0.0",
          "state": {
            "_dom_classes": [],
            "_model_module": "@jupyter-widgets/output",
            "_model_module_version": "1.0.0",
            "_model_name": "OutputModel",
            "_view_count": null,
            "_view_module": "@jupyter-widgets/output",
            "_view_module_version": "1.0.0",
            "_view_name": "OutputView",
            "layout": "IPY_MODEL_40aca913c2704c25be2046e99364ae43",
            "msg_id": "",
            "outputs": [
              {
                "output_type": "stream",
                "name": "stdout",
                "text": [
                  "Video available at https://www.bilibili.com/video/BV1BA411e7eH\n"
                ]
              },
              {
                "output_type": "display_data",
                "data": {
                  "text/plain": "<__main__.PlayVideo at 0x7e2bf1c0abd0>",
                  "text/html": "\n        <iframe\n            width=\"854\"\n            height=\"480\"\n            src=\"https://player.bilibili.com/player.html?bvid=BV1BA411e7eH&page=1?fs=1&autoplay=False\"\n            frameborder=\"0\"\n            allowfullscreen\n            \n        ></iframe>\n        "
                },
                "metadata": {}
              }
            ]
          }
        },
        "4ad364f77e7046809745ad6bffdb5a97": {
          "model_module": "@jupyter-widgets/base",
          "model_name": "LayoutModel",
          "model_module_version": "1.2.0",
          "state": {
            "_model_module": "@jupyter-widgets/base",
            "_model_module_version": "1.2.0",
            "_model_name": "LayoutModel",
            "_view_count": null,
            "_view_module": "@jupyter-widgets/base",
            "_view_module_version": "1.2.0",
            "_view_name": "LayoutView",
            "align_content": null,
            "align_items": null,
            "align_self": null,
            "border": null,
            "bottom": null,
            "display": null,
            "flex": null,
            "flex_flow": null,
            "grid_area": null,
            "grid_auto_columns": null,
            "grid_auto_flow": null,
            "grid_auto_rows": null,
            "grid_column": null,
            "grid_gap": null,
            "grid_row": null,
            "grid_template_areas": null,
            "grid_template_columns": null,
            "grid_template_rows": null,
            "height": null,
            "justify_content": null,
            "justify_items": null,
            "left": null,
            "margin": null,
            "max_height": null,
            "max_width": null,
            "min_height": null,
            "min_width": null,
            "object_fit": null,
            "object_position": null,
            "order": null,
            "overflow": null,
            "overflow_x": null,
            "overflow_y": null,
            "padding": null,
            "right": null,
            "top": null,
            "visibility": null,
            "width": null
          }
        },
        "cc15c241d6454022a927312aa66f8ca1": {
          "model_module": "@jupyter-widgets/base",
          "model_name": "LayoutModel",
          "model_module_version": "1.2.0",
          "state": {
            "_model_module": "@jupyter-widgets/base",
            "_model_module_version": "1.2.0",
            "_model_name": "LayoutModel",
            "_view_count": null,
            "_view_module": "@jupyter-widgets/base",
            "_view_module_version": "1.2.0",
            "_view_name": "LayoutView",
            "align_content": null,
            "align_items": null,
            "align_self": null,
            "border": null,
            "bottom": null,
            "display": null,
            "flex": null,
            "flex_flow": null,
            "grid_area": null,
            "grid_auto_columns": null,
            "grid_auto_flow": null,
            "grid_auto_rows": null,
            "grid_column": null,
            "grid_gap": null,
            "grid_row": null,
            "grid_template_areas": null,
            "grid_template_columns": null,
            "grid_template_rows": null,
            "height": null,
            "justify_content": null,
            "justify_items": null,
            "left": null,
            "margin": null,
            "max_height": null,
            "max_width": null,
            "min_height": null,
            "min_width": null,
            "object_fit": null,
            "object_position": null,
            "order": null,
            "overflow": null,
            "overflow_x": null,
            "overflow_y": null,
            "padding": null,
            "right": null,
            "top": null,
            "visibility": null,
            "width": null
          }
        },
        "40aca913c2704c25be2046e99364ae43": {
          "model_module": "@jupyter-widgets/base",
          "model_name": "LayoutModel",
          "model_module_version": "1.2.0",
          "state": {
            "_model_module": "@jupyter-widgets/base",
            "_model_module_version": "1.2.0",
            "_model_name": "LayoutModel",
            "_view_count": null,
            "_view_module": "@jupyter-widgets/base",
            "_view_module_version": "1.2.0",
            "_view_name": "LayoutView",
            "align_content": null,
            "align_items": null,
            "align_self": null,
            "border": null,
            "bottom": null,
            "display": null,
            "flex": null,
            "flex_flow": null,
            "grid_area": null,
            "grid_auto_columns": null,
            "grid_auto_flow": null,
            "grid_auto_rows": null,
            "grid_column": null,
            "grid_gap": null,
            "grid_row": null,
            "grid_template_areas": null,
            "grid_template_columns": null,
            "grid_template_rows": null,
            "height": null,
            "justify_content": null,
            "justify_items": null,
            "left": null,
            "margin": null,
            "max_height": null,
            "max_width": null,
            "min_height": null,
            "min_width": null,
            "object_fit": null,
            "object_position": null,
            "order": null,
            "overflow": null,
            "overflow_x": null,
            "overflow_y": null,
            "padding": null,
            "right": null,
            "top": null,
            "visibility": null,
            "width": null
          }
        },
        "5d110a4b141745c88f66ab10f0f93657": {
          "model_module": "@jupyter-widgets/controls",
          "model_name": "TabModel",
          "model_module_version": "1.5.0",
          "state": {
            "_dom_classes": [],
            "_model_module": "@jupyter-widgets/controls",
            "_model_module_version": "1.5.0",
            "_model_name": "TabModel",
            "_titles": {
              "0": "Youtube",
              "1": "Bilibili"
            },
            "_view_count": null,
            "_view_module": "@jupyter-widgets/controls",
            "_view_module_version": "1.5.0",
            "_view_name": "TabView",
            "box_style": "",
            "children": [
              "IPY_MODEL_a633c9a6284a487d9f3cb4e37314ae20",
              "IPY_MODEL_9e7b95e892a2401db9b60d6ef2ce71a7"
            ],
            "layout": "IPY_MODEL_95c96493fe5144af870516c04a292293",
            "selected_index": 0
          }
        },
        "a633c9a6284a487d9f3cb4e37314ae20": {
          "model_module": "@jupyter-widgets/output",
          "model_name": "OutputModel",
          "model_module_version": "1.0.0",
          "state": {
            "_dom_classes": [],
            "_model_module": "@jupyter-widgets/output",
            "_model_module_version": "1.0.0",
            "_model_name": "OutputModel",
            "_view_count": null,
            "_view_module": "@jupyter-widgets/output",
            "_view_module_version": "1.0.0",
            "_view_name": "OutputView",
            "layout": "IPY_MODEL_31b10138189c4a0199a94a292cb8211d",
            "msg_id": "",
            "outputs": [
              {
                "output_type": "stream",
                "name": "stdout",
                "text": [
                  "Video available at https://youtube.com/watch?v=A2foheo44h4\n"
                ]
              },
              {
                "output_type": "display_data",
                "data": {
                  "text/plain": "<IPython.lib.display.YouTubeVideo at 0x7e2bf169fc90>",
                  "text/html": "\n        <iframe\n            width=\"854\"\n            height=\"480\"\n            src=\"https://www.youtube.com/embed/A2foheo44h4?fs=1&rel=0\"\n            frameborder=\"0\"\n            allowfullscreen\n            \n        ></iframe>\n        ",
                  "image/jpeg": "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\n"
                },
                "metadata": {}
              }
            ]
          }
        },
        "9e7b95e892a2401db9b60d6ef2ce71a7": {
          "model_module": "@jupyter-widgets/output",
          "model_name": "OutputModel",
          "model_module_version": "1.0.0",
          "state": {
            "_dom_classes": [],
            "_model_module": "@jupyter-widgets/output",
            "_model_module_version": "1.0.0",
            "_model_name": "OutputModel",
            "_view_count": null,
            "_view_module": "@jupyter-widgets/output",
            "_view_module_version": "1.0.0",
            "_view_name": "OutputView",
            "layout": "IPY_MODEL_edca42dbded34d5da38dd8cf4ff503b8",
            "msg_id": "",
            "outputs": [
              {
                "output_type": "stream",
                "name": "stdout",
                "text": [
                  "Video available at https://www.bilibili.com/video/BV1ff4y197Hx\n"
                ]
              },
              {
                "output_type": "display_data",
                "data": {
                  "text/plain": "<__main__.PlayVideo at 0x7e2bf16945d0>",
                  "text/html": "\n        <iframe\n            width=\"854\"\n            height=\"480\"\n            src=\"https://player.bilibili.com/player.html?bvid=BV1ff4y197Hx&page=1?fs=1&autoplay=False\"\n            frameborder=\"0\"\n            allowfullscreen\n            \n        ></iframe>\n        "
                },
                "metadata": {}
              }
            ]
          }
        },
        "95c96493fe5144af870516c04a292293": {
          "model_module": "@jupyter-widgets/base",
          "model_name": "LayoutModel",
          "model_module_version": "1.2.0",
          "state": {
            "_model_module": "@jupyter-widgets/base",
            "_model_module_version": "1.2.0",
            "_model_name": "LayoutModel",
            "_view_count": null,
            "_view_module": "@jupyter-widgets/base",
            "_view_module_version": "1.2.0",
            "_view_name": "LayoutView",
            "align_content": null,
            "align_items": null,
            "align_self": null,
            "border": null,
            "bottom": null,
            "display": null,
            "flex": null,
            "flex_flow": null,
            "grid_area": null,
            "grid_auto_columns": null,
            "grid_auto_flow": null,
            "grid_auto_rows": null,
            "grid_column": null,
            "grid_gap": null,
            "grid_row": null,
            "grid_template_areas": null,
            "grid_template_columns": null,
            "grid_template_rows": null,
            "height": null,
            "justify_content": null,
            "justify_items": null,
            "left": null,
            "margin": null,
            "max_height": null,
            "max_width": null,
            "min_height": null,
            "min_width": null,
            "object_fit": null,
            "object_position": null,
            "order": null,
            "overflow": null,
            "overflow_x": null,
            "overflow_y": null,
            "padding": null,
            "right": null,
            "top": null,
            "visibility": null,
            "width": null
          }
        },
        "31b10138189c4a0199a94a292cb8211d": {
          "model_module": "@jupyter-widgets/base",
          "model_name": "LayoutModel",
          "model_module_version": "1.2.0",
          "state": {
            "_model_module": "@jupyter-widgets/base",
            "_model_module_version": "1.2.0",
            "_model_name": "LayoutModel",
            "_view_count": null,
            "_view_module": "@jupyter-widgets/base",
            "_view_module_version": "1.2.0",
            "_view_name": "LayoutView",
            "align_content": null,
            "align_items": null,
            "align_self": null,
            "border": null,
            "bottom": null,
            "display": null,
            "flex": null,
            "flex_flow": null,
            "grid_area": null,
            "grid_auto_columns": null,
            "grid_auto_flow": null,
            "grid_auto_rows": null,
            "grid_column": null,
            "grid_gap": null,
            "grid_row": null,
            "grid_template_areas": null,
            "grid_template_columns": null,
            "grid_template_rows": null,
            "height": null,
            "justify_content": null,
            "justify_items": null,
            "left": null,
            "margin": null,
            "max_height": null,
            "max_width": null,
            "min_height": null,
            "min_width": null,
            "object_fit": null,
            "object_position": null,
            "order": null,
            "overflow": null,
            "overflow_x": null,
            "overflow_y": null,
            "padding": null,
            "right": null,
            "top": null,
            "visibility": null,
            "width": null
          }
        },
        "edca42dbded34d5da38dd8cf4ff503b8": {
          "model_module": "@jupyter-widgets/base",
          "model_name": "LayoutModel",
          "model_module_version": "1.2.0",
          "state": {
            "_model_module": "@jupyter-widgets/base",
            "_model_module_version": "1.2.0",
            "_model_name": "LayoutModel",
            "_view_count": null,
            "_view_module": "@jupyter-widgets/base",
            "_view_module_version": "1.2.0",
            "_view_name": "LayoutView",
            "align_content": null,
            "align_items": null,
            "align_self": null,
            "border": null,
            "bottom": null,
            "display": null,
            "flex": null,
            "flex_flow": null,
            "grid_area": null,
            "grid_auto_columns": null,
            "grid_auto_flow": null,
            "grid_auto_rows": null,
            "grid_column": null,
            "grid_gap": null,
            "grid_row": null,
            "grid_template_areas": null,
            "grid_template_columns": null,
            "grid_template_rows": null,
            "height": null,
            "justify_content": null,
            "justify_items": null,
            "left": null,
            "margin": null,
            "max_height": null,
            "max_width": null,
            "min_height": null,
            "min_width": null,
            "object_fit": null,
            "object_position": null,
            "order": null,
            "overflow": null,
            "overflow_x": null,
            "overflow_y": null,
            "padding": null,
            "right": null,
            "top": null,
            "visibility": null,
            "width": null
          }
        }
      }
    }
  },
  "nbformat": 4,
  "nbformat_minor": 0
}